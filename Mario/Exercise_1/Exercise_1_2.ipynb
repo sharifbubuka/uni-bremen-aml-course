{
 "cells": [
  {
   "cell_type": "markdown",
   "id": "ceb586da",
   "metadata": {},
   "source": [
    "# Task 4\n",
    "In this exercise, you will implement a model to classify images. Each image belongs to one out of ten classes and is given as RGB image with 32x32 pixels. This task focuses on the creation of data lists to load your data and on the implementation of a custom dataset class.\n",
    "\n",
    "**a)** Download the dataset to your hard disk and extract the files. The data is provided as train-test split and the labels of the respective images are given by the name of the parent folder. Download the CIFAR10 dataset from  https://www.kaggle.com/datasets/swaroopkml/cifar10-pngs-in-folders?resource=download or from https://owncloud.csl.uni-bremen.de/s/9mNnmeA7esyEpnC. The corresponding paper of the CIFAR10 dataset: *\"Learning Multiple Layers of Features from Tiny Images\", Alex Krizhevsky, 2009*.\n",
    "\n",
    "**b)** Take the last 20 % of the images of each class and save them in a separate folder structure for validation, e.g.:  \n",
    "*\\user\\data\\cifar10\\validate\\airplane\\4001.png  \n",
    "\\user\\data\\cifar10\\validate\\airplane\\4002.png  \n",
    "...  \n",
    "\\user\\data\\cifar10\\validation\\bird\\4001.png  \n",
    "...*  \n",
    "This leads to the following datasplit for each class: 4,000/1,000/1,000 images for training/validation/testing respectively.\n",
    "\n",
    "**c)** Create one data file list for the training data, one for the validation data, and one for the test data. Each list contains the paths to the different images and the respective labels. You can save the lists as .txt files. You will use these lists in your custom dataset class. One possible example is given in the following.  \n",
    "The training_list.txt contains the respective training data paths and the labels, separated by white spaces:  \n",
    "*\\user\\data\\cifar10\\train\\airplane\\0001.png airplane  \n",
    "\\user\\data\\cifar10\\train\\airplane\\0002.png airplane  \n",
    "...  \n",
    "\\user\\data\\cifar10\\train\\bird\\0001.png bird  \n",
    "...*  \n",
    "\n",
    "The validation_list.txt contains the respective validation data paths and the labels, separated by white spaces.  \n",
    "*\\user\\data\\cifar10\\validate\\airplane\\4001.png airplane  \n",
    "\\user\\data\\cifar10\\validate\\airplane\\4002.png airplane  \n",
    "...  \n",
    "\\user\\data\\cifar10\\validate\\bird\\4001.png bird  \n",
    "...*  \n",
    "\n",
    "The test_list.txt contains the respective test data paths and the labels, separated by white spaces.  \n",
    "*\\user\\data\\cifar10\\test\\airplane\\0001.png airplane  \n",
    "\\user\\data\\cifar10\\test\\airplane\\0002.png airplane  \n",
    "...  \n",
    "\\user\\data\\cifar10\\test\\bird\\0001.png bird  \n",
    "...*  \n",
    "\n",
    "**d)** Write a custom dataset class to define how to load and prepare the data. You can use the PyTorch dataloader class to interface your custom dataset class.  \n",
    "**HINT1:** Use the io method of the scikit-image package to load your data. You need to install the scikit-image package to your AML_Tut conda environment.  \n",
    "**HINT2:** You can install and use the cv2 package (opencv) to display RGB images.\n",
    "\n",
    "**e)** Complete the script to create, train and test a classification model. It is not required to develope a complex model with high classification accuracy. This tasks aims to provide you withe hands-on experience on how to set up, train, and test a machine learning system for a specific task.\n"
   ]
  },
  {
   "cell_type": "code",
   "execution_count": 1,
   "id": "c15eeaea",
   "metadata": {},
   "outputs": [],
   "source": [
    "# Advanced Machine Learning Tutorials\n",
    "# Excercise Sheet 1 - Task 5\n",
    "# Authors: Marvin Borsdorf, Yale Hartmann\n",
    "# Cognitive Systems Lab, University of Bremen, Germany\n",
    "# Last edit: 2021/04/26\n",
    "\n",
    "import os\n",
    "import cv2\n",
    "import torch as th\n",
    "import numpy as np\n",
    "import torch.nn as nn\n",
    "import torch.nn.functional as F\n",
    "import torch.optim as optim\n",
    "from skimage import io\n",
    "from torch.utils.data import Dataset, DataLoader\n",
    "from tqdm import tqdm\n",
    "from matplotlib import pyplot as plt\n",
    "from sklearn.preprocessing import LabelEncoder"
   ]
  },
  {
   "cell_type": "code",
   "execution_count": 2,
   "id": "da1c9c25",
   "metadata": {},
   "outputs": [],
   "source": [
    "root_dir = r'C:\\Users\\m-gre\\Documents\\Advanced Machine Learning\\uni-bremen-aml-course\\Mario\\Exercise_1'\n",
    "tr_dir = os.path.join(root_dir, 'cifar10', 'train')\n",
    "cv_dir = os.path.join(root_dir, 'cifar10', 'validate')  \n",
    "tt_dir = os.path.join(root_dir, 'cifar10', 'test')"
   ]
  },
  {
   "cell_type": "code",
   "execution_count": 3,
   "id": "6fdc06de",
   "metadata": {},
   "outputs": [
    {
     "data": {
      "text/plain": [
       "['C:\\\\Users\\\\m-gre\\\\Documents\\\\Advanced Machine Learning\\\\uni-bremen-aml-course\\\\Mario\\\\Exercise_1\\\\cifar10\\\\train\\\\airplane\\\\0001.png airplane',\n",
       " 'C:\\\\Users\\\\m-gre\\\\Documents\\\\Advanced Machine Learning\\\\uni-bremen-aml-course\\\\Mario\\\\Exercise_1\\\\cifar10\\\\train\\\\airplane\\\\0002.png airplane',\n",
       " 'C:\\\\Users\\\\m-gre\\\\Documents\\\\Advanced Machine Learning\\\\uni-bremen-aml-course\\\\Mario\\\\Exercise_1\\\\cifar10\\\\train\\\\airplane\\\\0003.png airplane',\n",
       " 'C:\\\\Users\\\\m-gre\\\\Documents\\\\Advanced Machine Learning\\\\uni-bremen-aml-course\\\\Mario\\\\Exercise_1\\\\cifar10\\\\train\\\\airplane\\\\0004.png airplane',\n",
       " 'C:\\\\Users\\\\m-gre\\\\Documents\\\\Advanced Machine Learning\\\\uni-bremen-aml-course\\\\Mario\\\\Exercise_1\\\\cifar10\\\\train\\\\airplane\\\\0005.png airplane',\n",
       " 'C:\\\\Users\\\\m-gre\\\\Documents\\\\Advanced Machine Learning\\\\uni-bremen-aml-course\\\\Mario\\\\Exercise_1\\\\cifar10\\\\train\\\\airplane\\\\0006.png airplane',\n",
       " 'C:\\\\Users\\\\m-gre\\\\Documents\\\\Advanced Machine Learning\\\\uni-bremen-aml-course\\\\Mario\\\\Exercise_1\\\\cifar10\\\\train\\\\airplane\\\\0007.png airplane',\n",
       " 'C:\\\\Users\\\\m-gre\\\\Documents\\\\Advanced Machine Learning\\\\uni-bremen-aml-course\\\\Mario\\\\Exercise_1\\\\cifar10\\\\train\\\\airplane\\\\0008.png airplane',\n",
       " 'C:\\\\Users\\\\m-gre\\\\Documents\\\\Advanced Machine Learning\\\\uni-bremen-aml-course\\\\Mario\\\\Exercise_1\\\\cifar10\\\\train\\\\airplane\\\\0009.png airplane',\n",
       " 'C:\\\\Users\\\\m-gre\\\\Documents\\\\Advanced Machine Learning\\\\uni-bremen-aml-course\\\\Mario\\\\Exercise_1\\\\cifar10\\\\train\\\\airplane\\\\0010.png airplane',\n",
       " 'C:\\\\Users\\\\m-gre\\\\Documents\\\\Advanced Machine Learning\\\\uni-bremen-aml-course\\\\Mario\\\\Exercise_1\\\\cifar10\\\\train\\\\airplane\\\\0011.png airplane',\n",
       " 'C:\\\\Users\\\\m-gre\\\\Documents\\\\Advanced Machine Learning\\\\uni-bremen-aml-course\\\\Mario\\\\Exercise_1\\\\cifar10\\\\train\\\\airplane\\\\0012.png airplane',\n",
       " 'C:\\\\Users\\\\m-gre\\\\Documents\\\\Advanced Machine Learning\\\\uni-bremen-aml-course\\\\Mario\\\\Exercise_1\\\\cifar10\\\\train\\\\airplane\\\\0013.png airplane',\n",
       " 'C:\\\\Users\\\\m-gre\\\\Documents\\\\Advanced Machine Learning\\\\uni-bremen-aml-course\\\\Mario\\\\Exercise_1\\\\cifar10\\\\train\\\\airplane\\\\0014.png airplane',\n",
       " 'C:\\\\Users\\\\m-gre\\\\Documents\\\\Advanced Machine Learning\\\\uni-bremen-aml-course\\\\Mario\\\\Exercise_1\\\\cifar10\\\\train\\\\airplane\\\\0015.png airplane',\n",
       " 'C:\\\\Users\\\\m-gre\\\\Documents\\\\Advanced Machine Learning\\\\uni-bremen-aml-course\\\\Mario\\\\Exercise_1\\\\cifar10\\\\train\\\\airplane\\\\0016.png airplane',\n",
       " 'C:\\\\Users\\\\m-gre\\\\Documents\\\\Advanced Machine Learning\\\\uni-bremen-aml-course\\\\Mario\\\\Exercise_1\\\\cifar10\\\\train\\\\airplane\\\\0017.png airplane',\n",
       " 'C:\\\\Users\\\\m-gre\\\\Documents\\\\Advanced Machine Learning\\\\uni-bremen-aml-course\\\\Mario\\\\Exercise_1\\\\cifar10\\\\train\\\\airplane\\\\0018.png airplane',\n",
       " 'C:\\\\Users\\\\m-gre\\\\Documents\\\\Advanced Machine Learning\\\\uni-bremen-aml-course\\\\Mario\\\\Exercise_1\\\\cifar10\\\\train\\\\airplane\\\\0019.png airplane',\n",
       " 'C:\\\\Users\\\\m-gre\\\\Documents\\\\Advanced Machine Learning\\\\uni-bremen-aml-course\\\\Mario\\\\Exercise_1\\\\cifar10\\\\train\\\\airplane\\\\0020.png airplane',\n",
       " 'C:\\\\Users\\\\m-gre\\\\Documents\\\\Advanced Machine Learning\\\\uni-bremen-aml-course\\\\Mario\\\\Exercise_1\\\\cifar10\\\\train\\\\airplane\\\\0021.png airplane',\n",
       " 'C:\\\\Users\\\\m-gre\\\\Documents\\\\Advanced Machine Learning\\\\uni-bremen-aml-course\\\\Mario\\\\Exercise_1\\\\cifar10\\\\train\\\\airplane\\\\0022.png airplane',\n",
       " 'C:\\\\Users\\\\m-gre\\\\Documents\\\\Advanced Machine Learning\\\\uni-bremen-aml-course\\\\Mario\\\\Exercise_1\\\\cifar10\\\\train\\\\airplane\\\\0023.png airplane',\n",
       " 'C:\\\\Users\\\\m-gre\\\\Documents\\\\Advanced Machine Learning\\\\uni-bremen-aml-course\\\\Mario\\\\Exercise_1\\\\cifar10\\\\train\\\\airplane\\\\0024.png airplane',\n",
       " 'C:\\\\Users\\\\m-gre\\\\Documents\\\\Advanced Machine Learning\\\\uni-bremen-aml-course\\\\Mario\\\\Exercise_1\\\\cifar10\\\\train\\\\airplane\\\\0025.png airplane',\n",
       " 'C:\\\\Users\\\\m-gre\\\\Documents\\\\Advanced Machine Learning\\\\uni-bremen-aml-course\\\\Mario\\\\Exercise_1\\\\cifar10\\\\train\\\\airplane\\\\0026.png airplane',\n",
       " 'C:\\\\Users\\\\m-gre\\\\Documents\\\\Advanced Machine Learning\\\\uni-bremen-aml-course\\\\Mario\\\\Exercise_1\\\\cifar10\\\\train\\\\airplane\\\\0027.png airplane',\n",
       " 'C:\\\\Users\\\\m-gre\\\\Documents\\\\Advanced Machine Learning\\\\uni-bremen-aml-course\\\\Mario\\\\Exercise_1\\\\cifar10\\\\train\\\\airplane\\\\0028.png airplane',\n",
       " 'C:\\\\Users\\\\m-gre\\\\Documents\\\\Advanced Machine Learning\\\\uni-bremen-aml-course\\\\Mario\\\\Exercise_1\\\\cifar10\\\\train\\\\airplane\\\\0029.png airplane',\n",
       " 'C:\\\\Users\\\\m-gre\\\\Documents\\\\Advanced Machine Learning\\\\uni-bremen-aml-course\\\\Mario\\\\Exercise_1\\\\cifar10\\\\train\\\\airplane\\\\0030.png airplane',\n",
       " 'C:\\\\Users\\\\m-gre\\\\Documents\\\\Advanced Machine Learning\\\\uni-bremen-aml-course\\\\Mario\\\\Exercise_1\\\\cifar10\\\\train\\\\airplane\\\\0031.png airplane',\n",
       " 'C:\\\\Users\\\\m-gre\\\\Documents\\\\Advanced Machine Learning\\\\uni-bremen-aml-course\\\\Mario\\\\Exercise_1\\\\cifar10\\\\train\\\\airplane\\\\0032.png airplane',\n",
       " 'C:\\\\Users\\\\m-gre\\\\Documents\\\\Advanced Machine Learning\\\\uni-bremen-aml-course\\\\Mario\\\\Exercise_1\\\\cifar10\\\\train\\\\airplane\\\\0033.png airplane',\n",
       " 'C:\\\\Users\\\\m-gre\\\\Documents\\\\Advanced Machine Learning\\\\uni-bremen-aml-course\\\\Mario\\\\Exercise_1\\\\cifar10\\\\train\\\\airplane\\\\0034.png airplane',\n",
       " 'C:\\\\Users\\\\m-gre\\\\Documents\\\\Advanced Machine Learning\\\\uni-bremen-aml-course\\\\Mario\\\\Exercise_1\\\\cifar10\\\\train\\\\airplane\\\\0035.png airplane',\n",
       " 'C:\\\\Users\\\\m-gre\\\\Documents\\\\Advanced Machine Learning\\\\uni-bremen-aml-course\\\\Mario\\\\Exercise_1\\\\cifar10\\\\train\\\\airplane\\\\0036.png airplane',\n",
       " 'C:\\\\Users\\\\m-gre\\\\Documents\\\\Advanced Machine Learning\\\\uni-bremen-aml-course\\\\Mario\\\\Exercise_1\\\\cifar10\\\\train\\\\airplane\\\\0037.png airplane',\n",
       " 'C:\\\\Users\\\\m-gre\\\\Documents\\\\Advanced Machine Learning\\\\uni-bremen-aml-course\\\\Mario\\\\Exercise_1\\\\cifar10\\\\train\\\\airplane\\\\0038.png airplane',\n",
       " 'C:\\\\Users\\\\m-gre\\\\Documents\\\\Advanced Machine Learning\\\\uni-bremen-aml-course\\\\Mario\\\\Exercise_1\\\\cifar10\\\\train\\\\airplane\\\\0039.png airplane',\n",
       " 'C:\\\\Users\\\\m-gre\\\\Documents\\\\Advanced Machine Learning\\\\uni-bremen-aml-course\\\\Mario\\\\Exercise_1\\\\cifar10\\\\train\\\\airplane\\\\0040.png airplane',\n",
       " 'C:\\\\Users\\\\m-gre\\\\Documents\\\\Advanced Machine Learning\\\\uni-bremen-aml-course\\\\Mario\\\\Exercise_1\\\\cifar10\\\\train\\\\airplane\\\\0041.png airplane',\n",
       " 'C:\\\\Users\\\\m-gre\\\\Documents\\\\Advanced Machine Learning\\\\uni-bremen-aml-course\\\\Mario\\\\Exercise_1\\\\cifar10\\\\train\\\\airplane\\\\0042.png airplane',\n",
       " 'C:\\\\Users\\\\m-gre\\\\Documents\\\\Advanced Machine Learning\\\\uni-bremen-aml-course\\\\Mario\\\\Exercise_1\\\\cifar10\\\\train\\\\airplane\\\\0043.png airplane',\n",
       " 'C:\\\\Users\\\\m-gre\\\\Documents\\\\Advanced Machine Learning\\\\uni-bremen-aml-course\\\\Mario\\\\Exercise_1\\\\cifar10\\\\train\\\\airplane\\\\0044.png airplane',\n",
       " 'C:\\\\Users\\\\m-gre\\\\Documents\\\\Advanced Machine Learning\\\\uni-bremen-aml-course\\\\Mario\\\\Exercise_1\\\\cifar10\\\\train\\\\airplane\\\\0045.png airplane',\n",
       " 'C:\\\\Users\\\\m-gre\\\\Documents\\\\Advanced Machine Learning\\\\uni-bremen-aml-course\\\\Mario\\\\Exercise_1\\\\cifar10\\\\train\\\\airplane\\\\0046.png airplane',\n",
       " 'C:\\\\Users\\\\m-gre\\\\Documents\\\\Advanced Machine Learning\\\\uni-bremen-aml-course\\\\Mario\\\\Exercise_1\\\\cifar10\\\\train\\\\airplane\\\\0047.png airplane',\n",
       " 'C:\\\\Users\\\\m-gre\\\\Documents\\\\Advanced Machine Learning\\\\uni-bremen-aml-course\\\\Mario\\\\Exercise_1\\\\cifar10\\\\train\\\\airplane\\\\0048.png airplane',\n",
       " 'C:\\\\Users\\\\m-gre\\\\Documents\\\\Advanced Machine Learning\\\\uni-bremen-aml-course\\\\Mario\\\\Exercise_1\\\\cifar10\\\\train\\\\airplane\\\\0049.png airplane',\n",
       " 'C:\\\\Users\\\\m-gre\\\\Documents\\\\Advanced Machine Learning\\\\uni-bremen-aml-course\\\\Mario\\\\Exercise_1\\\\cifar10\\\\train\\\\airplane\\\\0050.png airplane',\n",
       " 'C:\\\\Users\\\\m-gre\\\\Documents\\\\Advanced Machine Learning\\\\uni-bremen-aml-course\\\\Mario\\\\Exercise_1\\\\cifar10\\\\train\\\\airplane\\\\0051.png airplane',\n",
       " 'C:\\\\Users\\\\m-gre\\\\Documents\\\\Advanced Machine Learning\\\\uni-bremen-aml-course\\\\Mario\\\\Exercise_1\\\\cifar10\\\\train\\\\airplane\\\\0052.png airplane',\n",
       " 'C:\\\\Users\\\\m-gre\\\\Documents\\\\Advanced Machine Learning\\\\uni-bremen-aml-course\\\\Mario\\\\Exercise_1\\\\cifar10\\\\train\\\\airplane\\\\0053.png airplane',\n",
       " 'C:\\\\Users\\\\m-gre\\\\Documents\\\\Advanced Machine Learning\\\\uni-bremen-aml-course\\\\Mario\\\\Exercise_1\\\\cifar10\\\\train\\\\airplane\\\\0054.png airplane',\n",
       " 'C:\\\\Users\\\\m-gre\\\\Documents\\\\Advanced Machine Learning\\\\uni-bremen-aml-course\\\\Mario\\\\Exercise_1\\\\cifar10\\\\train\\\\airplane\\\\0055.png airplane',\n",
       " 'C:\\\\Users\\\\m-gre\\\\Documents\\\\Advanced Machine Learning\\\\uni-bremen-aml-course\\\\Mario\\\\Exercise_1\\\\cifar10\\\\train\\\\airplane\\\\0056.png airplane',\n",
       " 'C:\\\\Users\\\\m-gre\\\\Documents\\\\Advanced Machine Learning\\\\uni-bremen-aml-course\\\\Mario\\\\Exercise_1\\\\cifar10\\\\train\\\\airplane\\\\0057.png airplane',\n",
       " 'C:\\\\Users\\\\m-gre\\\\Documents\\\\Advanced Machine Learning\\\\uni-bremen-aml-course\\\\Mario\\\\Exercise_1\\\\cifar10\\\\train\\\\airplane\\\\0058.png airplane',\n",
       " 'C:\\\\Users\\\\m-gre\\\\Documents\\\\Advanced Machine Learning\\\\uni-bremen-aml-course\\\\Mario\\\\Exercise_1\\\\cifar10\\\\train\\\\airplane\\\\0059.png airplane',\n",
       " 'C:\\\\Users\\\\m-gre\\\\Documents\\\\Advanced Machine Learning\\\\uni-bremen-aml-course\\\\Mario\\\\Exercise_1\\\\cifar10\\\\train\\\\airplane\\\\0060.png airplane',\n",
       " 'C:\\\\Users\\\\m-gre\\\\Documents\\\\Advanced Machine Learning\\\\uni-bremen-aml-course\\\\Mario\\\\Exercise_1\\\\cifar10\\\\train\\\\airplane\\\\0061.png airplane',\n",
       " 'C:\\\\Users\\\\m-gre\\\\Documents\\\\Advanced Machine Learning\\\\uni-bremen-aml-course\\\\Mario\\\\Exercise_1\\\\cifar10\\\\train\\\\airplane\\\\0062.png airplane',\n",
       " 'C:\\\\Users\\\\m-gre\\\\Documents\\\\Advanced Machine Learning\\\\uni-bremen-aml-course\\\\Mario\\\\Exercise_1\\\\cifar10\\\\train\\\\airplane\\\\0063.png airplane',\n",
       " 'C:\\\\Users\\\\m-gre\\\\Documents\\\\Advanced Machine Learning\\\\uni-bremen-aml-course\\\\Mario\\\\Exercise_1\\\\cifar10\\\\train\\\\airplane\\\\0064.png airplane',\n",
       " 'C:\\\\Users\\\\m-gre\\\\Documents\\\\Advanced Machine Learning\\\\uni-bremen-aml-course\\\\Mario\\\\Exercise_1\\\\cifar10\\\\train\\\\airplane\\\\0065.png airplane',\n",
       " 'C:\\\\Users\\\\m-gre\\\\Documents\\\\Advanced Machine Learning\\\\uni-bremen-aml-course\\\\Mario\\\\Exercise_1\\\\cifar10\\\\train\\\\airplane\\\\0066.png airplane',\n",
       " 'C:\\\\Users\\\\m-gre\\\\Documents\\\\Advanced Machine Learning\\\\uni-bremen-aml-course\\\\Mario\\\\Exercise_1\\\\cifar10\\\\train\\\\airplane\\\\0067.png airplane',\n",
       " 'C:\\\\Users\\\\m-gre\\\\Documents\\\\Advanced Machine Learning\\\\uni-bremen-aml-course\\\\Mario\\\\Exercise_1\\\\cifar10\\\\train\\\\airplane\\\\0068.png airplane',\n",
       " 'C:\\\\Users\\\\m-gre\\\\Documents\\\\Advanced Machine Learning\\\\uni-bremen-aml-course\\\\Mario\\\\Exercise_1\\\\cifar10\\\\train\\\\airplane\\\\0069.png airplane',\n",
       " 'C:\\\\Users\\\\m-gre\\\\Documents\\\\Advanced Machine Learning\\\\uni-bremen-aml-course\\\\Mario\\\\Exercise_1\\\\cifar10\\\\train\\\\airplane\\\\0070.png airplane',\n",
       " 'C:\\\\Users\\\\m-gre\\\\Documents\\\\Advanced Machine Learning\\\\uni-bremen-aml-course\\\\Mario\\\\Exercise_1\\\\cifar10\\\\train\\\\airplane\\\\0071.png airplane',\n",
       " 'C:\\\\Users\\\\m-gre\\\\Documents\\\\Advanced Machine Learning\\\\uni-bremen-aml-course\\\\Mario\\\\Exercise_1\\\\cifar10\\\\train\\\\airplane\\\\0072.png airplane',\n",
       " 'C:\\\\Users\\\\m-gre\\\\Documents\\\\Advanced Machine Learning\\\\uni-bremen-aml-course\\\\Mario\\\\Exercise_1\\\\cifar10\\\\train\\\\airplane\\\\0073.png airplane',\n",
       " 'C:\\\\Users\\\\m-gre\\\\Documents\\\\Advanced Machine Learning\\\\uni-bremen-aml-course\\\\Mario\\\\Exercise_1\\\\cifar10\\\\train\\\\airplane\\\\0074.png airplane',\n",
       " 'C:\\\\Users\\\\m-gre\\\\Documents\\\\Advanced Machine Learning\\\\uni-bremen-aml-course\\\\Mario\\\\Exercise_1\\\\cifar10\\\\train\\\\airplane\\\\0075.png airplane',\n",
       " 'C:\\\\Users\\\\m-gre\\\\Documents\\\\Advanced Machine Learning\\\\uni-bremen-aml-course\\\\Mario\\\\Exercise_1\\\\cifar10\\\\train\\\\airplane\\\\0076.png airplane',\n",
       " 'C:\\\\Users\\\\m-gre\\\\Documents\\\\Advanced Machine Learning\\\\uni-bremen-aml-course\\\\Mario\\\\Exercise_1\\\\cifar10\\\\train\\\\airplane\\\\0077.png airplane',\n",
       " 'C:\\\\Users\\\\m-gre\\\\Documents\\\\Advanced Machine Learning\\\\uni-bremen-aml-course\\\\Mario\\\\Exercise_1\\\\cifar10\\\\train\\\\airplane\\\\0078.png airplane',\n",
       " 'C:\\\\Users\\\\m-gre\\\\Documents\\\\Advanced Machine Learning\\\\uni-bremen-aml-course\\\\Mario\\\\Exercise_1\\\\cifar10\\\\train\\\\airplane\\\\0079.png airplane',\n",
       " 'C:\\\\Users\\\\m-gre\\\\Documents\\\\Advanced Machine Learning\\\\uni-bremen-aml-course\\\\Mario\\\\Exercise_1\\\\cifar10\\\\train\\\\airplane\\\\0080.png airplane',\n",
       " 'C:\\\\Users\\\\m-gre\\\\Documents\\\\Advanced Machine Learning\\\\uni-bremen-aml-course\\\\Mario\\\\Exercise_1\\\\cifar10\\\\train\\\\airplane\\\\0081.png airplane',\n",
       " 'C:\\\\Users\\\\m-gre\\\\Documents\\\\Advanced Machine Learning\\\\uni-bremen-aml-course\\\\Mario\\\\Exercise_1\\\\cifar10\\\\train\\\\airplane\\\\0082.png airplane',\n",
       " 'C:\\\\Users\\\\m-gre\\\\Documents\\\\Advanced Machine Learning\\\\uni-bremen-aml-course\\\\Mario\\\\Exercise_1\\\\cifar10\\\\train\\\\airplane\\\\0083.png airplane',\n",
       " 'C:\\\\Users\\\\m-gre\\\\Documents\\\\Advanced Machine Learning\\\\uni-bremen-aml-course\\\\Mario\\\\Exercise_1\\\\cifar10\\\\train\\\\airplane\\\\0084.png airplane',\n",
       " 'C:\\\\Users\\\\m-gre\\\\Documents\\\\Advanced Machine Learning\\\\uni-bremen-aml-course\\\\Mario\\\\Exercise_1\\\\cifar10\\\\train\\\\airplane\\\\0085.png airplane',\n",
       " 'C:\\\\Users\\\\m-gre\\\\Documents\\\\Advanced Machine Learning\\\\uni-bremen-aml-course\\\\Mario\\\\Exercise_1\\\\cifar10\\\\train\\\\airplane\\\\0086.png airplane',\n",
       " 'C:\\\\Users\\\\m-gre\\\\Documents\\\\Advanced Machine Learning\\\\uni-bremen-aml-course\\\\Mario\\\\Exercise_1\\\\cifar10\\\\train\\\\airplane\\\\0087.png airplane',\n",
       " 'C:\\\\Users\\\\m-gre\\\\Documents\\\\Advanced Machine Learning\\\\uni-bremen-aml-course\\\\Mario\\\\Exercise_1\\\\cifar10\\\\train\\\\airplane\\\\0088.png airplane',\n",
       " 'C:\\\\Users\\\\m-gre\\\\Documents\\\\Advanced Machine Learning\\\\uni-bremen-aml-course\\\\Mario\\\\Exercise_1\\\\cifar10\\\\train\\\\airplane\\\\0089.png airplane',\n",
       " 'C:\\\\Users\\\\m-gre\\\\Documents\\\\Advanced Machine Learning\\\\uni-bremen-aml-course\\\\Mario\\\\Exercise_1\\\\cifar10\\\\train\\\\airplane\\\\0090.png airplane',\n",
       " 'C:\\\\Users\\\\m-gre\\\\Documents\\\\Advanced Machine Learning\\\\uni-bremen-aml-course\\\\Mario\\\\Exercise_1\\\\cifar10\\\\train\\\\airplane\\\\0091.png airplane',\n",
       " 'C:\\\\Users\\\\m-gre\\\\Documents\\\\Advanced Machine Learning\\\\uni-bremen-aml-course\\\\Mario\\\\Exercise_1\\\\cifar10\\\\train\\\\airplane\\\\0092.png airplane',\n",
       " 'C:\\\\Users\\\\m-gre\\\\Documents\\\\Advanced Machine Learning\\\\uni-bremen-aml-course\\\\Mario\\\\Exercise_1\\\\cifar10\\\\train\\\\airplane\\\\0093.png airplane',\n",
       " 'C:\\\\Users\\\\m-gre\\\\Documents\\\\Advanced Machine Learning\\\\uni-bremen-aml-course\\\\Mario\\\\Exercise_1\\\\cifar10\\\\train\\\\airplane\\\\0094.png airplane',\n",
       " 'C:\\\\Users\\\\m-gre\\\\Documents\\\\Advanced Machine Learning\\\\uni-bremen-aml-course\\\\Mario\\\\Exercise_1\\\\cifar10\\\\train\\\\airplane\\\\0095.png airplane',\n",
       " 'C:\\\\Users\\\\m-gre\\\\Documents\\\\Advanced Machine Learning\\\\uni-bremen-aml-course\\\\Mario\\\\Exercise_1\\\\cifar10\\\\train\\\\airplane\\\\0096.png airplane',\n",
       " 'C:\\\\Users\\\\m-gre\\\\Documents\\\\Advanced Machine Learning\\\\uni-bremen-aml-course\\\\Mario\\\\Exercise_1\\\\cifar10\\\\train\\\\airplane\\\\0097.png airplane',\n",
       " 'C:\\\\Users\\\\m-gre\\\\Documents\\\\Advanced Machine Learning\\\\uni-bremen-aml-course\\\\Mario\\\\Exercise_1\\\\cifar10\\\\train\\\\airplane\\\\0098.png airplane',\n",
       " 'C:\\\\Users\\\\m-gre\\\\Documents\\\\Advanced Machine Learning\\\\uni-bremen-aml-course\\\\Mario\\\\Exercise_1\\\\cifar10\\\\train\\\\airplane\\\\0099.png airplane',\n",
       " 'C:\\\\Users\\\\m-gre\\\\Documents\\\\Advanced Machine Learning\\\\uni-bremen-aml-course\\\\Mario\\\\Exercise_1\\\\cifar10\\\\train\\\\airplane\\\\0100.png airplane',\n",
       " 'C:\\\\Users\\\\m-gre\\\\Documents\\\\Advanced Machine Learning\\\\uni-bremen-aml-course\\\\Mario\\\\Exercise_1\\\\cifar10\\\\train\\\\airplane\\\\0101.png airplane',\n",
       " 'C:\\\\Users\\\\m-gre\\\\Documents\\\\Advanced Machine Learning\\\\uni-bremen-aml-course\\\\Mario\\\\Exercise_1\\\\cifar10\\\\train\\\\airplane\\\\0102.png airplane',\n",
       " 'C:\\\\Users\\\\m-gre\\\\Documents\\\\Advanced Machine Learning\\\\uni-bremen-aml-course\\\\Mario\\\\Exercise_1\\\\cifar10\\\\train\\\\airplane\\\\0103.png airplane',\n",
       " 'C:\\\\Users\\\\m-gre\\\\Documents\\\\Advanced Machine Learning\\\\uni-bremen-aml-course\\\\Mario\\\\Exercise_1\\\\cifar10\\\\train\\\\airplane\\\\0104.png airplane',\n",
       " 'C:\\\\Users\\\\m-gre\\\\Documents\\\\Advanced Machine Learning\\\\uni-bremen-aml-course\\\\Mario\\\\Exercise_1\\\\cifar10\\\\train\\\\airplane\\\\0105.png airplane',\n",
       " 'C:\\\\Users\\\\m-gre\\\\Documents\\\\Advanced Machine Learning\\\\uni-bremen-aml-course\\\\Mario\\\\Exercise_1\\\\cifar10\\\\train\\\\airplane\\\\0106.png airplane',\n",
       " 'C:\\\\Users\\\\m-gre\\\\Documents\\\\Advanced Machine Learning\\\\uni-bremen-aml-course\\\\Mario\\\\Exercise_1\\\\cifar10\\\\train\\\\airplane\\\\0107.png airplane',\n",
       " 'C:\\\\Users\\\\m-gre\\\\Documents\\\\Advanced Machine Learning\\\\uni-bremen-aml-course\\\\Mario\\\\Exercise_1\\\\cifar10\\\\train\\\\airplane\\\\0108.png airplane',\n",
       " 'C:\\\\Users\\\\m-gre\\\\Documents\\\\Advanced Machine Learning\\\\uni-bremen-aml-course\\\\Mario\\\\Exercise_1\\\\cifar10\\\\train\\\\airplane\\\\0109.png airplane',\n",
       " 'C:\\\\Users\\\\m-gre\\\\Documents\\\\Advanced Machine Learning\\\\uni-bremen-aml-course\\\\Mario\\\\Exercise_1\\\\cifar10\\\\train\\\\airplane\\\\0110.png airplane',\n",
       " 'C:\\\\Users\\\\m-gre\\\\Documents\\\\Advanced Machine Learning\\\\uni-bremen-aml-course\\\\Mario\\\\Exercise_1\\\\cifar10\\\\train\\\\airplane\\\\0111.png airplane',\n",
       " 'C:\\\\Users\\\\m-gre\\\\Documents\\\\Advanced Machine Learning\\\\uni-bremen-aml-course\\\\Mario\\\\Exercise_1\\\\cifar10\\\\train\\\\airplane\\\\0112.png airplane',\n",
       " 'C:\\\\Users\\\\m-gre\\\\Documents\\\\Advanced Machine Learning\\\\uni-bremen-aml-course\\\\Mario\\\\Exercise_1\\\\cifar10\\\\train\\\\airplane\\\\0113.png airplane',\n",
       " 'C:\\\\Users\\\\m-gre\\\\Documents\\\\Advanced Machine Learning\\\\uni-bremen-aml-course\\\\Mario\\\\Exercise_1\\\\cifar10\\\\train\\\\airplane\\\\0114.png airplane',\n",
       " 'C:\\\\Users\\\\m-gre\\\\Documents\\\\Advanced Machine Learning\\\\uni-bremen-aml-course\\\\Mario\\\\Exercise_1\\\\cifar10\\\\train\\\\airplane\\\\0115.png airplane',\n",
       " 'C:\\\\Users\\\\m-gre\\\\Documents\\\\Advanced Machine Learning\\\\uni-bremen-aml-course\\\\Mario\\\\Exercise_1\\\\cifar10\\\\train\\\\airplane\\\\0116.png airplane',\n",
       " 'C:\\\\Users\\\\m-gre\\\\Documents\\\\Advanced Machine Learning\\\\uni-bremen-aml-course\\\\Mario\\\\Exercise_1\\\\cifar10\\\\train\\\\airplane\\\\0117.png airplane',\n",
       " 'C:\\\\Users\\\\m-gre\\\\Documents\\\\Advanced Machine Learning\\\\uni-bremen-aml-course\\\\Mario\\\\Exercise_1\\\\cifar10\\\\train\\\\airplane\\\\0118.png airplane',\n",
       " 'C:\\\\Users\\\\m-gre\\\\Documents\\\\Advanced Machine Learning\\\\uni-bremen-aml-course\\\\Mario\\\\Exercise_1\\\\cifar10\\\\train\\\\airplane\\\\0119.png airplane',\n",
       " 'C:\\\\Users\\\\m-gre\\\\Documents\\\\Advanced Machine Learning\\\\uni-bremen-aml-course\\\\Mario\\\\Exercise_1\\\\cifar10\\\\train\\\\airplane\\\\0120.png airplane',\n",
       " 'C:\\\\Users\\\\m-gre\\\\Documents\\\\Advanced Machine Learning\\\\uni-bremen-aml-course\\\\Mario\\\\Exercise_1\\\\cifar10\\\\train\\\\airplane\\\\0121.png airplane',\n",
       " 'C:\\\\Users\\\\m-gre\\\\Documents\\\\Advanced Machine Learning\\\\uni-bremen-aml-course\\\\Mario\\\\Exercise_1\\\\cifar10\\\\train\\\\airplane\\\\0122.png airplane',\n",
       " 'C:\\\\Users\\\\m-gre\\\\Documents\\\\Advanced Machine Learning\\\\uni-bremen-aml-course\\\\Mario\\\\Exercise_1\\\\cifar10\\\\train\\\\airplane\\\\0123.png airplane',\n",
       " 'C:\\\\Users\\\\m-gre\\\\Documents\\\\Advanced Machine Learning\\\\uni-bremen-aml-course\\\\Mario\\\\Exercise_1\\\\cifar10\\\\train\\\\airplane\\\\0124.png airplane',\n",
       " 'C:\\\\Users\\\\m-gre\\\\Documents\\\\Advanced Machine Learning\\\\uni-bremen-aml-course\\\\Mario\\\\Exercise_1\\\\cifar10\\\\train\\\\airplane\\\\0125.png airplane',\n",
       " 'C:\\\\Users\\\\m-gre\\\\Documents\\\\Advanced Machine Learning\\\\uni-bremen-aml-course\\\\Mario\\\\Exercise_1\\\\cifar10\\\\train\\\\airplane\\\\0126.png airplane',\n",
       " 'C:\\\\Users\\\\m-gre\\\\Documents\\\\Advanced Machine Learning\\\\uni-bremen-aml-course\\\\Mario\\\\Exercise_1\\\\cifar10\\\\train\\\\airplane\\\\0127.png airplane',\n",
       " 'C:\\\\Users\\\\m-gre\\\\Documents\\\\Advanced Machine Learning\\\\uni-bremen-aml-course\\\\Mario\\\\Exercise_1\\\\cifar10\\\\train\\\\airplane\\\\0128.png airplane',\n",
       " 'C:\\\\Users\\\\m-gre\\\\Documents\\\\Advanced Machine Learning\\\\uni-bremen-aml-course\\\\Mario\\\\Exercise_1\\\\cifar10\\\\train\\\\airplane\\\\0129.png airplane',\n",
       " 'C:\\\\Users\\\\m-gre\\\\Documents\\\\Advanced Machine Learning\\\\uni-bremen-aml-course\\\\Mario\\\\Exercise_1\\\\cifar10\\\\train\\\\airplane\\\\0130.png airplane',\n",
       " 'C:\\\\Users\\\\m-gre\\\\Documents\\\\Advanced Machine Learning\\\\uni-bremen-aml-course\\\\Mario\\\\Exercise_1\\\\cifar10\\\\train\\\\airplane\\\\0131.png airplane',\n",
       " 'C:\\\\Users\\\\m-gre\\\\Documents\\\\Advanced Machine Learning\\\\uni-bremen-aml-course\\\\Mario\\\\Exercise_1\\\\cifar10\\\\train\\\\airplane\\\\0132.png airplane',\n",
       " 'C:\\\\Users\\\\m-gre\\\\Documents\\\\Advanced Machine Learning\\\\uni-bremen-aml-course\\\\Mario\\\\Exercise_1\\\\cifar10\\\\train\\\\airplane\\\\0133.png airplane',\n",
       " 'C:\\\\Users\\\\m-gre\\\\Documents\\\\Advanced Machine Learning\\\\uni-bremen-aml-course\\\\Mario\\\\Exercise_1\\\\cifar10\\\\train\\\\airplane\\\\0134.png airplane',\n",
       " 'C:\\\\Users\\\\m-gre\\\\Documents\\\\Advanced Machine Learning\\\\uni-bremen-aml-course\\\\Mario\\\\Exercise_1\\\\cifar10\\\\train\\\\airplane\\\\0135.png airplane',\n",
       " 'C:\\\\Users\\\\m-gre\\\\Documents\\\\Advanced Machine Learning\\\\uni-bremen-aml-course\\\\Mario\\\\Exercise_1\\\\cifar10\\\\train\\\\airplane\\\\0136.png airplane',\n",
       " 'C:\\\\Users\\\\m-gre\\\\Documents\\\\Advanced Machine Learning\\\\uni-bremen-aml-course\\\\Mario\\\\Exercise_1\\\\cifar10\\\\train\\\\airplane\\\\0137.png airplane',\n",
       " 'C:\\\\Users\\\\m-gre\\\\Documents\\\\Advanced Machine Learning\\\\uni-bremen-aml-course\\\\Mario\\\\Exercise_1\\\\cifar10\\\\train\\\\airplane\\\\0138.png airplane',\n",
       " 'C:\\\\Users\\\\m-gre\\\\Documents\\\\Advanced Machine Learning\\\\uni-bremen-aml-course\\\\Mario\\\\Exercise_1\\\\cifar10\\\\train\\\\airplane\\\\0139.png airplane',\n",
       " 'C:\\\\Users\\\\m-gre\\\\Documents\\\\Advanced Machine Learning\\\\uni-bremen-aml-course\\\\Mario\\\\Exercise_1\\\\cifar10\\\\train\\\\airplane\\\\0140.png airplane',\n",
       " 'C:\\\\Users\\\\m-gre\\\\Documents\\\\Advanced Machine Learning\\\\uni-bremen-aml-course\\\\Mario\\\\Exercise_1\\\\cifar10\\\\train\\\\airplane\\\\0141.png airplane',\n",
       " 'C:\\\\Users\\\\m-gre\\\\Documents\\\\Advanced Machine Learning\\\\uni-bremen-aml-course\\\\Mario\\\\Exercise_1\\\\cifar10\\\\train\\\\airplane\\\\0142.png airplane',\n",
       " 'C:\\\\Users\\\\m-gre\\\\Documents\\\\Advanced Machine Learning\\\\uni-bremen-aml-course\\\\Mario\\\\Exercise_1\\\\cifar10\\\\train\\\\airplane\\\\0143.png airplane',\n",
       " 'C:\\\\Users\\\\m-gre\\\\Documents\\\\Advanced Machine Learning\\\\uni-bremen-aml-course\\\\Mario\\\\Exercise_1\\\\cifar10\\\\train\\\\airplane\\\\0144.png airplane',\n",
       " 'C:\\\\Users\\\\m-gre\\\\Documents\\\\Advanced Machine Learning\\\\uni-bremen-aml-course\\\\Mario\\\\Exercise_1\\\\cifar10\\\\train\\\\airplane\\\\0145.png airplane',\n",
       " 'C:\\\\Users\\\\m-gre\\\\Documents\\\\Advanced Machine Learning\\\\uni-bremen-aml-course\\\\Mario\\\\Exercise_1\\\\cifar10\\\\train\\\\airplane\\\\0146.png airplane',\n",
       " 'C:\\\\Users\\\\m-gre\\\\Documents\\\\Advanced Machine Learning\\\\uni-bremen-aml-course\\\\Mario\\\\Exercise_1\\\\cifar10\\\\train\\\\airplane\\\\0147.png airplane',\n",
       " 'C:\\\\Users\\\\m-gre\\\\Documents\\\\Advanced Machine Learning\\\\uni-bremen-aml-course\\\\Mario\\\\Exercise_1\\\\cifar10\\\\train\\\\airplane\\\\0148.png airplane',\n",
       " 'C:\\\\Users\\\\m-gre\\\\Documents\\\\Advanced Machine Learning\\\\uni-bremen-aml-course\\\\Mario\\\\Exercise_1\\\\cifar10\\\\train\\\\airplane\\\\0149.png airplane',\n",
       " 'C:\\\\Users\\\\m-gre\\\\Documents\\\\Advanced Machine Learning\\\\uni-bremen-aml-course\\\\Mario\\\\Exercise_1\\\\cifar10\\\\train\\\\airplane\\\\0150.png airplane',\n",
       " 'C:\\\\Users\\\\m-gre\\\\Documents\\\\Advanced Machine Learning\\\\uni-bremen-aml-course\\\\Mario\\\\Exercise_1\\\\cifar10\\\\train\\\\airplane\\\\0151.png airplane',\n",
       " 'C:\\\\Users\\\\m-gre\\\\Documents\\\\Advanced Machine Learning\\\\uni-bremen-aml-course\\\\Mario\\\\Exercise_1\\\\cifar10\\\\train\\\\airplane\\\\0152.png airplane',\n",
       " 'C:\\\\Users\\\\m-gre\\\\Documents\\\\Advanced Machine Learning\\\\uni-bremen-aml-course\\\\Mario\\\\Exercise_1\\\\cifar10\\\\train\\\\airplane\\\\0153.png airplane',\n",
       " 'C:\\\\Users\\\\m-gre\\\\Documents\\\\Advanced Machine Learning\\\\uni-bremen-aml-course\\\\Mario\\\\Exercise_1\\\\cifar10\\\\train\\\\airplane\\\\0154.png airplane',\n",
       " 'C:\\\\Users\\\\m-gre\\\\Documents\\\\Advanced Machine Learning\\\\uni-bremen-aml-course\\\\Mario\\\\Exercise_1\\\\cifar10\\\\train\\\\airplane\\\\0155.png airplane',\n",
       " 'C:\\\\Users\\\\m-gre\\\\Documents\\\\Advanced Machine Learning\\\\uni-bremen-aml-course\\\\Mario\\\\Exercise_1\\\\cifar10\\\\train\\\\airplane\\\\0156.png airplane',\n",
       " 'C:\\\\Users\\\\m-gre\\\\Documents\\\\Advanced Machine Learning\\\\uni-bremen-aml-course\\\\Mario\\\\Exercise_1\\\\cifar10\\\\train\\\\airplane\\\\0157.png airplane',\n",
       " 'C:\\\\Users\\\\m-gre\\\\Documents\\\\Advanced Machine Learning\\\\uni-bremen-aml-course\\\\Mario\\\\Exercise_1\\\\cifar10\\\\train\\\\airplane\\\\0158.png airplane',\n",
       " 'C:\\\\Users\\\\m-gre\\\\Documents\\\\Advanced Machine Learning\\\\uni-bremen-aml-course\\\\Mario\\\\Exercise_1\\\\cifar10\\\\train\\\\airplane\\\\0159.png airplane',\n",
       " 'C:\\\\Users\\\\m-gre\\\\Documents\\\\Advanced Machine Learning\\\\uni-bremen-aml-course\\\\Mario\\\\Exercise_1\\\\cifar10\\\\train\\\\airplane\\\\0160.png airplane',\n",
       " 'C:\\\\Users\\\\m-gre\\\\Documents\\\\Advanced Machine Learning\\\\uni-bremen-aml-course\\\\Mario\\\\Exercise_1\\\\cifar10\\\\train\\\\airplane\\\\0161.png airplane',\n",
       " 'C:\\\\Users\\\\m-gre\\\\Documents\\\\Advanced Machine Learning\\\\uni-bremen-aml-course\\\\Mario\\\\Exercise_1\\\\cifar10\\\\train\\\\airplane\\\\0162.png airplane',\n",
       " 'C:\\\\Users\\\\m-gre\\\\Documents\\\\Advanced Machine Learning\\\\uni-bremen-aml-course\\\\Mario\\\\Exercise_1\\\\cifar10\\\\train\\\\airplane\\\\0163.png airplane',\n",
       " 'C:\\\\Users\\\\m-gre\\\\Documents\\\\Advanced Machine Learning\\\\uni-bremen-aml-course\\\\Mario\\\\Exercise_1\\\\cifar10\\\\train\\\\airplane\\\\0164.png airplane',\n",
       " 'C:\\\\Users\\\\m-gre\\\\Documents\\\\Advanced Machine Learning\\\\uni-bremen-aml-course\\\\Mario\\\\Exercise_1\\\\cifar10\\\\train\\\\airplane\\\\0165.png airplane',\n",
       " 'C:\\\\Users\\\\m-gre\\\\Documents\\\\Advanced Machine Learning\\\\uni-bremen-aml-course\\\\Mario\\\\Exercise_1\\\\cifar10\\\\train\\\\airplane\\\\0166.png airplane',\n",
       " 'C:\\\\Users\\\\m-gre\\\\Documents\\\\Advanced Machine Learning\\\\uni-bremen-aml-course\\\\Mario\\\\Exercise_1\\\\cifar10\\\\train\\\\airplane\\\\0167.png airplane',\n",
       " 'C:\\\\Users\\\\m-gre\\\\Documents\\\\Advanced Machine Learning\\\\uni-bremen-aml-course\\\\Mario\\\\Exercise_1\\\\cifar10\\\\train\\\\airplane\\\\0168.png airplane',\n",
       " 'C:\\\\Users\\\\m-gre\\\\Documents\\\\Advanced Machine Learning\\\\uni-bremen-aml-course\\\\Mario\\\\Exercise_1\\\\cifar10\\\\train\\\\airplane\\\\0169.png airplane',\n",
       " 'C:\\\\Users\\\\m-gre\\\\Documents\\\\Advanced Machine Learning\\\\uni-bremen-aml-course\\\\Mario\\\\Exercise_1\\\\cifar10\\\\train\\\\airplane\\\\0170.png airplane',\n",
       " 'C:\\\\Users\\\\m-gre\\\\Documents\\\\Advanced Machine Learning\\\\uni-bremen-aml-course\\\\Mario\\\\Exercise_1\\\\cifar10\\\\train\\\\airplane\\\\0171.png airplane',\n",
       " 'C:\\\\Users\\\\m-gre\\\\Documents\\\\Advanced Machine Learning\\\\uni-bremen-aml-course\\\\Mario\\\\Exercise_1\\\\cifar10\\\\train\\\\airplane\\\\0172.png airplane',\n",
       " 'C:\\\\Users\\\\m-gre\\\\Documents\\\\Advanced Machine Learning\\\\uni-bremen-aml-course\\\\Mario\\\\Exercise_1\\\\cifar10\\\\train\\\\airplane\\\\0173.png airplane',\n",
       " 'C:\\\\Users\\\\m-gre\\\\Documents\\\\Advanced Machine Learning\\\\uni-bremen-aml-course\\\\Mario\\\\Exercise_1\\\\cifar10\\\\train\\\\airplane\\\\0174.png airplane',\n",
       " 'C:\\\\Users\\\\m-gre\\\\Documents\\\\Advanced Machine Learning\\\\uni-bremen-aml-course\\\\Mario\\\\Exercise_1\\\\cifar10\\\\train\\\\airplane\\\\0175.png airplane',\n",
       " 'C:\\\\Users\\\\m-gre\\\\Documents\\\\Advanced Machine Learning\\\\uni-bremen-aml-course\\\\Mario\\\\Exercise_1\\\\cifar10\\\\train\\\\airplane\\\\0176.png airplane',\n",
       " 'C:\\\\Users\\\\m-gre\\\\Documents\\\\Advanced Machine Learning\\\\uni-bremen-aml-course\\\\Mario\\\\Exercise_1\\\\cifar10\\\\train\\\\airplane\\\\0177.png airplane',\n",
       " 'C:\\\\Users\\\\m-gre\\\\Documents\\\\Advanced Machine Learning\\\\uni-bremen-aml-course\\\\Mario\\\\Exercise_1\\\\cifar10\\\\train\\\\airplane\\\\0178.png airplane',\n",
       " 'C:\\\\Users\\\\m-gre\\\\Documents\\\\Advanced Machine Learning\\\\uni-bremen-aml-course\\\\Mario\\\\Exercise_1\\\\cifar10\\\\train\\\\airplane\\\\0179.png airplane',\n",
       " 'C:\\\\Users\\\\m-gre\\\\Documents\\\\Advanced Machine Learning\\\\uni-bremen-aml-course\\\\Mario\\\\Exercise_1\\\\cifar10\\\\train\\\\airplane\\\\0180.png airplane',\n",
       " 'C:\\\\Users\\\\m-gre\\\\Documents\\\\Advanced Machine Learning\\\\uni-bremen-aml-course\\\\Mario\\\\Exercise_1\\\\cifar10\\\\train\\\\airplane\\\\0181.png airplane',\n",
       " 'C:\\\\Users\\\\m-gre\\\\Documents\\\\Advanced Machine Learning\\\\uni-bremen-aml-course\\\\Mario\\\\Exercise_1\\\\cifar10\\\\train\\\\airplane\\\\0182.png airplane',\n",
       " 'C:\\\\Users\\\\m-gre\\\\Documents\\\\Advanced Machine Learning\\\\uni-bremen-aml-course\\\\Mario\\\\Exercise_1\\\\cifar10\\\\train\\\\airplane\\\\0183.png airplane',\n",
       " 'C:\\\\Users\\\\m-gre\\\\Documents\\\\Advanced Machine Learning\\\\uni-bremen-aml-course\\\\Mario\\\\Exercise_1\\\\cifar10\\\\train\\\\airplane\\\\0184.png airplane',\n",
       " 'C:\\\\Users\\\\m-gre\\\\Documents\\\\Advanced Machine Learning\\\\uni-bremen-aml-course\\\\Mario\\\\Exercise_1\\\\cifar10\\\\train\\\\airplane\\\\0185.png airplane',\n",
       " 'C:\\\\Users\\\\m-gre\\\\Documents\\\\Advanced Machine Learning\\\\uni-bremen-aml-course\\\\Mario\\\\Exercise_1\\\\cifar10\\\\train\\\\airplane\\\\0186.png airplane',\n",
       " 'C:\\\\Users\\\\m-gre\\\\Documents\\\\Advanced Machine Learning\\\\uni-bremen-aml-course\\\\Mario\\\\Exercise_1\\\\cifar10\\\\train\\\\airplane\\\\0187.png airplane',\n",
       " 'C:\\\\Users\\\\m-gre\\\\Documents\\\\Advanced Machine Learning\\\\uni-bremen-aml-course\\\\Mario\\\\Exercise_1\\\\cifar10\\\\train\\\\airplane\\\\0188.png airplane',\n",
       " 'C:\\\\Users\\\\m-gre\\\\Documents\\\\Advanced Machine Learning\\\\uni-bremen-aml-course\\\\Mario\\\\Exercise_1\\\\cifar10\\\\train\\\\airplane\\\\0189.png airplane',\n",
       " 'C:\\\\Users\\\\m-gre\\\\Documents\\\\Advanced Machine Learning\\\\uni-bremen-aml-course\\\\Mario\\\\Exercise_1\\\\cifar10\\\\train\\\\airplane\\\\0190.png airplane',\n",
       " 'C:\\\\Users\\\\m-gre\\\\Documents\\\\Advanced Machine Learning\\\\uni-bremen-aml-course\\\\Mario\\\\Exercise_1\\\\cifar10\\\\train\\\\airplane\\\\0191.png airplane',\n",
       " 'C:\\\\Users\\\\m-gre\\\\Documents\\\\Advanced Machine Learning\\\\uni-bremen-aml-course\\\\Mario\\\\Exercise_1\\\\cifar10\\\\train\\\\airplane\\\\0192.png airplane',\n",
       " 'C:\\\\Users\\\\m-gre\\\\Documents\\\\Advanced Machine Learning\\\\uni-bremen-aml-course\\\\Mario\\\\Exercise_1\\\\cifar10\\\\train\\\\airplane\\\\0193.png airplane',\n",
       " 'C:\\\\Users\\\\m-gre\\\\Documents\\\\Advanced Machine Learning\\\\uni-bremen-aml-course\\\\Mario\\\\Exercise_1\\\\cifar10\\\\train\\\\airplane\\\\0194.png airplane',\n",
       " 'C:\\\\Users\\\\m-gre\\\\Documents\\\\Advanced Machine Learning\\\\uni-bremen-aml-course\\\\Mario\\\\Exercise_1\\\\cifar10\\\\train\\\\airplane\\\\0195.png airplane',\n",
       " 'C:\\\\Users\\\\m-gre\\\\Documents\\\\Advanced Machine Learning\\\\uni-bremen-aml-course\\\\Mario\\\\Exercise_1\\\\cifar10\\\\train\\\\airplane\\\\0196.png airplane',\n",
       " 'C:\\\\Users\\\\m-gre\\\\Documents\\\\Advanced Machine Learning\\\\uni-bremen-aml-course\\\\Mario\\\\Exercise_1\\\\cifar10\\\\train\\\\airplane\\\\0197.png airplane',\n",
       " 'C:\\\\Users\\\\m-gre\\\\Documents\\\\Advanced Machine Learning\\\\uni-bremen-aml-course\\\\Mario\\\\Exercise_1\\\\cifar10\\\\train\\\\airplane\\\\0198.png airplane',\n",
       " 'C:\\\\Users\\\\m-gre\\\\Documents\\\\Advanced Machine Learning\\\\uni-bremen-aml-course\\\\Mario\\\\Exercise_1\\\\cifar10\\\\train\\\\airplane\\\\0199.png airplane',\n",
       " 'C:\\\\Users\\\\m-gre\\\\Documents\\\\Advanced Machine Learning\\\\uni-bremen-aml-course\\\\Mario\\\\Exercise_1\\\\cifar10\\\\train\\\\airplane\\\\0200.png airplane',\n",
       " 'C:\\\\Users\\\\m-gre\\\\Documents\\\\Advanced Machine Learning\\\\uni-bremen-aml-course\\\\Mario\\\\Exercise_1\\\\cifar10\\\\train\\\\airplane\\\\0201.png airplane',\n",
       " 'C:\\\\Users\\\\m-gre\\\\Documents\\\\Advanced Machine Learning\\\\uni-bremen-aml-course\\\\Mario\\\\Exercise_1\\\\cifar10\\\\train\\\\airplane\\\\0202.png airplane',\n",
       " 'C:\\\\Users\\\\m-gre\\\\Documents\\\\Advanced Machine Learning\\\\uni-bremen-aml-course\\\\Mario\\\\Exercise_1\\\\cifar10\\\\train\\\\airplane\\\\0203.png airplane',\n",
       " 'C:\\\\Users\\\\m-gre\\\\Documents\\\\Advanced Machine Learning\\\\uni-bremen-aml-course\\\\Mario\\\\Exercise_1\\\\cifar10\\\\train\\\\airplane\\\\0204.png airplane',\n",
       " 'C:\\\\Users\\\\m-gre\\\\Documents\\\\Advanced Machine Learning\\\\uni-bremen-aml-course\\\\Mario\\\\Exercise_1\\\\cifar10\\\\train\\\\airplane\\\\0205.png airplane',\n",
       " 'C:\\\\Users\\\\m-gre\\\\Documents\\\\Advanced Machine Learning\\\\uni-bremen-aml-course\\\\Mario\\\\Exercise_1\\\\cifar10\\\\train\\\\airplane\\\\0206.png airplane',\n",
       " 'C:\\\\Users\\\\m-gre\\\\Documents\\\\Advanced Machine Learning\\\\uni-bremen-aml-course\\\\Mario\\\\Exercise_1\\\\cifar10\\\\train\\\\airplane\\\\0207.png airplane',\n",
       " 'C:\\\\Users\\\\m-gre\\\\Documents\\\\Advanced Machine Learning\\\\uni-bremen-aml-course\\\\Mario\\\\Exercise_1\\\\cifar10\\\\train\\\\airplane\\\\0208.png airplane',\n",
       " 'C:\\\\Users\\\\m-gre\\\\Documents\\\\Advanced Machine Learning\\\\uni-bremen-aml-course\\\\Mario\\\\Exercise_1\\\\cifar10\\\\train\\\\airplane\\\\0209.png airplane',\n",
       " 'C:\\\\Users\\\\m-gre\\\\Documents\\\\Advanced Machine Learning\\\\uni-bremen-aml-course\\\\Mario\\\\Exercise_1\\\\cifar10\\\\train\\\\airplane\\\\0210.png airplane',\n",
       " 'C:\\\\Users\\\\m-gre\\\\Documents\\\\Advanced Machine Learning\\\\uni-bremen-aml-course\\\\Mario\\\\Exercise_1\\\\cifar10\\\\train\\\\airplane\\\\0211.png airplane',\n",
       " 'C:\\\\Users\\\\m-gre\\\\Documents\\\\Advanced Machine Learning\\\\uni-bremen-aml-course\\\\Mario\\\\Exercise_1\\\\cifar10\\\\train\\\\airplane\\\\0212.png airplane',\n",
       " 'C:\\\\Users\\\\m-gre\\\\Documents\\\\Advanced Machine Learning\\\\uni-bremen-aml-course\\\\Mario\\\\Exercise_1\\\\cifar10\\\\train\\\\airplane\\\\0213.png airplane',\n",
       " 'C:\\\\Users\\\\m-gre\\\\Documents\\\\Advanced Machine Learning\\\\uni-bremen-aml-course\\\\Mario\\\\Exercise_1\\\\cifar10\\\\train\\\\airplane\\\\0214.png airplane',\n",
       " 'C:\\\\Users\\\\m-gre\\\\Documents\\\\Advanced Machine Learning\\\\uni-bremen-aml-course\\\\Mario\\\\Exercise_1\\\\cifar10\\\\train\\\\airplane\\\\0215.png airplane',\n",
       " 'C:\\\\Users\\\\m-gre\\\\Documents\\\\Advanced Machine Learning\\\\uni-bremen-aml-course\\\\Mario\\\\Exercise_1\\\\cifar10\\\\train\\\\airplane\\\\0216.png airplane',\n",
       " 'C:\\\\Users\\\\m-gre\\\\Documents\\\\Advanced Machine Learning\\\\uni-bremen-aml-course\\\\Mario\\\\Exercise_1\\\\cifar10\\\\train\\\\airplane\\\\0217.png airplane',\n",
       " 'C:\\\\Users\\\\m-gre\\\\Documents\\\\Advanced Machine Learning\\\\uni-bremen-aml-course\\\\Mario\\\\Exercise_1\\\\cifar10\\\\train\\\\airplane\\\\0218.png airplane',\n",
       " 'C:\\\\Users\\\\m-gre\\\\Documents\\\\Advanced Machine Learning\\\\uni-bremen-aml-course\\\\Mario\\\\Exercise_1\\\\cifar10\\\\train\\\\airplane\\\\0219.png airplane',\n",
       " 'C:\\\\Users\\\\m-gre\\\\Documents\\\\Advanced Machine Learning\\\\uni-bremen-aml-course\\\\Mario\\\\Exercise_1\\\\cifar10\\\\train\\\\airplane\\\\0220.png airplane',\n",
       " 'C:\\\\Users\\\\m-gre\\\\Documents\\\\Advanced Machine Learning\\\\uni-bremen-aml-course\\\\Mario\\\\Exercise_1\\\\cifar10\\\\train\\\\airplane\\\\0221.png airplane',\n",
       " 'C:\\\\Users\\\\m-gre\\\\Documents\\\\Advanced Machine Learning\\\\uni-bremen-aml-course\\\\Mario\\\\Exercise_1\\\\cifar10\\\\train\\\\airplane\\\\0222.png airplane',\n",
       " 'C:\\\\Users\\\\m-gre\\\\Documents\\\\Advanced Machine Learning\\\\uni-bremen-aml-course\\\\Mario\\\\Exercise_1\\\\cifar10\\\\train\\\\airplane\\\\0223.png airplane',\n",
       " 'C:\\\\Users\\\\m-gre\\\\Documents\\\\Advanced Machine Learning\\\\uni-bremen-aml-course\\\\Mario\\\\Exercise_1\\\\cifar10\\\\train\\\\airplane\\\\0224.png airplane',\n",
       " 'C:\\\\Users\\\\m-gre\\\\Documents\\\\Advanced Machine Learning\\\\uni-bremen-aml-course\\\\Mario\\\\Exercise_1\\\\cifar10\\\\train\\\\airplane\\\\0225.png airplane',\n",
       " 'C:\\\\Users\\\\m-gre\\\\Documents\\\\Advanced Machine Learning\\\\uni-bremen-aml-course\\\\Mario\\\\Exercise_1\\\\cifar10\\\\train\\\\airplane\\\\0226.png airplane',\n",
       " 'C:\\\\Users\\\\m-gre\\\\Documents\\\\Advanced Machine Learning\\\\uni-bremen-aml-course\\\\Mario\\\\Exercise_1\\\\cifar10\\\\train\\\\airplane\\\\0227.png airplane',\n",
       " 'C:\\\\Users\\\\m-gre\\\\Documents\\\\Advanced Machine Learning\\\\uni-bremen-aml-course\\\\Mario\\\\Exercise_1\\\\cifar10\\\\train\\\\airplane\\\\0228.png airplane',\n",
       " 'C:\\\\Users\\\\m-gre\\\\Documents\\\\Advanced Machine Learning\\\\uni-bremen-aml-course\\\\Mario\\\\Exercise_1\\\\cifar10\\\\train\\\\airplane\\\\0229.png airplane',\n",
       " 'C:\\\\Users\\\\m-gre\\\\Documents\\\\Advanced Machine Learning\\\\uni-bremen-aml-course\\\\Mario\\\\Exercise_1\\\\cifar10\\\\train\\\\airplane\\\\0230.png airplane',\n",
       " 'C:\\\\Users\\\\m-gre\\\\Documents\\\\Advanced Machine Learning\\\\uni-bremen-aml-course\\\\Mario\\\\Exercise_1\\\\cifar10\\\\train\\\\airplane\\\\0231.png airplane',\n",
       " 'C:\\\\Users\\\\m-gre\\\\Documents\\\\Advanced Machine Learning\\\\uni-bremen-aml-course\\\\Mario\\\\Exercise_1\\\\cifar10\\\\train\\\\airplane\\\\0232.png airplane',\n",
       " 'C:\\\\Users\\\\m-gre\\\\Documents\\\\Advanced Machine Learning\\\\uni-bremen-aml-course\\\\Mario\\\\Exercise_1\\\\cifar10\\\\train\\\\airplane\\\\0233.png airplane',\n",
       " 'C:\\\\Users\\\\m-gre\\\\Documents\\\\Advanced Machine Learning\\\\uni-bremen-aml-course\\\\Mario\\\\Exercise_1\\\\cifar10\\\\train\\\\airplane\\\\0234.png airplane',\n",
       " 'C:\\\\Users\\\\m-gre\\\\Documents\\\\Advanced Machine Learning\\\\uni-bremen-aml-course\\\\Mario\\\\Exercise_1\\\\cifar10\\\\train\\\\airplane\\\\0235.png airplane',\n",
       " 'C:\\\\Users\\\\m-gre\\\\Documents\\\\Advanced Machine Learning\\\\uni-bremen-aml-course\\\\Mario\\\\Exercise_1\\\\cifar10\\\\train\\\\airplane\\\\0236.png airplane',\n",
       " 'C:\\\\Users\\\\m-gre\\\\Documents\\\\Advanced Machine Learning\\\\uni-bremen-aml-course\\\\Mario\\\\Exercise_1\\\\cifar10\\\\train\\\\airplane\\\\0237.png airplane',\n",
       " 'C:\\\\Users\\\\m-gre\\\\Documents\\\\Advanced Machine Learning\\\\uni-bremen-aml-course\\\\Mario\\\\Exercise_1\\\\cifar10\\\\train\\\\airplane\\\\0238.png airplane',\n",
       " 'C:\\\\Users\\\\m-gre\\\\Documents\\\\Advanced Machine Learning\\\\uni-bremen-aml-course\\\\Mario\\\\Exercise_1\\\\cifar10\\\\train\\\\airplane\\\\0239.png airplane',\n",
       " 'C:\\\\Users\\\\m-gre\\\\Documents\\\\Advanced Machine Learning\\\\uni-bremen-aml-course\\\\Mario\\\\Exercise_1\\\\cifar10\\\\train\\\\airplane\\\\0240.png airplane',\n",
       " 'C:\\\\Users\\\\m-gre\\\\Documents\\\\Advanced Machine Learning\\\\uni-bremen-aml-course\\\\Mario\\\\Exercise_1\\\\cifar10\\\\train\\\\airplane\\\\0241.png airplane',\n",
       " 'C:\\\\Users\\\\m-gre\\\\Documents\\\\Advanced Machine Learning\\\\uni-bremen-aml-course\\\\Mario\\\\Exercise_1\\\\cifar10\\\\train\\\\airplane\\\\0242.png airplane',\n",
       " 'C:\\\\Users\\\\m-gre\\\\Documents\\\\Advanced Machine Learning\\\\uni-bremen-aml-course\\\\Mario\\\\Exercise_1\\\\cifar10\\\\train\\\\airplane\\\\0243.png airplane',\n",
       " 'C:\\\\Users\\\\m-gre\\\\Documents\\\\Advanced Machine Learning\\\\uni-bremen-aml-course\\\\Mario\\\\Exercise_1\\\\cifar10\\\\train\\\\airplane\\\\0244.png airplane',\n",
       " 'C:\\\\Users\\\\m-gre\\\\Documents\\\\Advanced Machine Learning\\\\uni-bremen-aml-course\\\\Mario\\\\Exercise_1\\\\cifar10\\\\train\\\\airplane\\\\0245.png airplane',\n",
       " 'C:\\\\Users\\\\m-gre\\\\Documents\\\\Advanced Machine Learning\\\\uni-bremen-aml-course\\\\Mario\\\\Exercise_1\\\\cifar10\\\\train\\\\airplane\\\\0246.png airplane',\n",
       " 'C:\\\\Users\\\\m-gre\\\\Documents\\\\Advanced Machine Learning\\\\uni-bremen-aml-course\\\\Mario\\\\Exercise_1\\\\cifar10\\\\train\\\\airplane\\\\0247.png airplane',\n",
       " 'C:\\\\Users\\\\m-gre\\\\Documents\\\\Advanced Machine Learning\\\\uni-bremen-aml-course\\\\Mario\\\\Exercise_1\\\\cifar10\\\\train\\\\airplane\\\\0248.png airplane',\n",
       " 'C:\\\\Users\\\\m-gre\\\\Documents\\\\Advanced Machine Learning\\\\uni-bremen-aml-course\\\\Mario\\\\Exercise_1\\\\cifar10\\\\train\\\\airplane\\\\0249.png airplane',\n",
       " 'C:\\\\Users\\\\m-gre\\\\Documents\\\\Advanced Machine Learning\\\\uni-bremen-aml-course\\\\Mario\\\\Exercise_1\\\\cifar10\\\\train\\\\airplane\\\\0250.png airplane',\n",
       " 'C:\\\\Users\\\\m-gre\\\\Documents\\\\Advanced Machine Learning\\\\uni-bremen-aml-course\\\\Mario\\\\Exercise_1\\\\cifar10\\\\train\\\\airplane\\\\0251.png airplane',\n",
       " 'C:\\\\Users\\\\m-gre\\\\Documents\\\\Advanced Machine Learning\\\\uni-bremen-aml-course\\\\Mario\\\\Exercise_1\\\\cifar10\\\\train\\\\airplane\\\\0252.png airplane',\n",
       " 'C:\\\\Users\\\\m-gre\\\\Documents\\\\Advanced Machine Learning\\\\uni-bremen-aml-course\\\\Mario\\\\Exercise_1\\\\cifar10\\\\train\\\\airplane\\\\0253.png airplane',\n",
       " 'C:\\\\Users\\\\m-gre\\\\Documents\\\\Advanced Machine Learning\\\\uni-bremen-aml-course\\\\Mario\\\\Exercise_1\\\\cifar10\\\\train\\\\airplane\\\\0254.png airplane',\n",
       " 'C:\\\\Users\\\\m-gre\\\\Documents\\\\Advanced Machine Learning\\\\uni-bremen-aml-course\\\\Mario\\\\Exercise_1\\\\cifar10\\\\train\\\\airplane\\\\0255.png airplane',\n",
       " 'C:\\\\Users\\\\m-gre\\\\Documents\\\\Advanced Machine Learning\\\\uni-bremen-aml-course\\\\Mario\\\\Exercise_1\\\\cifar10\\\\train\\\\airplane\\\\0256.png airplane',\n",
       " 'C:\\\\Users\\\\m-gre\\\\Documents\\\\Advanced Machine Learning\\\\uni-bremen-aml-course\\\\Mario\\\\Exercise_1\\\\cifar10\\\\train\\\\airplane\\\\0257.png airplane',\n",
       " 'C:\\\\Users\\\\m-gre\\\\Documents\\\\Advanced Machine Learning\\\\uni-bremen-aml-course\\\\Mario\\\\Exercise_1\\\\cifar10\\\\train\\\\airplane\\\\0258.png airplane',\n",
       " 'C:\\\\Users\\\\m-gre\\\\Documents\\\\Advanced Machine Learning\\\\uni-bremen-aml-course\\\\Mario\\\\Exercise_1\\\\cifar10\\\\train\\\\airplane\\\\0259.png airplane',\n",
       " 'C:\\\\Users\\\\m-gre\\\\Documents\\\\Advanced Machine Learning\\\\uni-bremen-aml-course\\\\Mario\\\\Exercise_1\\\\cifar10\\\\train\\\\airplane\\\\0260.png airplane',\n",
       " 'C:\\\\Users\\\\m-gre\\\\Documents\\\\Advanced Machine Learning\\\\uni-bremen-aml-course\\\\Mario\\\\Exercise_1\\\\cifar10\\\\train\\\\airplane\\\\0261.png airplane',\n",
       " 'C:\\\\Users\\\\m-gre\\\\Documents\\\\Advanced Machine Learning\\\\uni-bremen-aml-course\\\\Mario\\\\Exercise_1\\\\cifar10\\\\train\\\\airplane\\\\0262.png airplane',\n",
       " 'C:\\\\Users\\\\m-gre\\\\Documents\\\\Advanced Machine Learning\\\\uni-bremen-aml-course\\\\Mario\\\\Exercise_1\\\\cifar10\\\\train\\\\airplane\\\\0263.png airplane',\n",
       " 'C:\\\\Users\\\\m-gre\\\\Documents\\\\Advanced Machine Learning\\\\uni-bremen-aml-course\\\\Mario\\\\Exercise_1\\\\cifar10\\\\train\\\\airplane\\\\0264.png airplane',\n",
       " 'C:\\\\Users\\\\m-gre\\\\Documents\\\\Advanced Machine Learning\\\\uni-bremen-aml-course\\\\Mario\\\\Exercise_1\\\\cifar10\\\\train\\\\airplane\\\\0265.png airplane',\n",
       " 'C:\\\\Users\\\\m-gre\\\\Documents\\\\Advanced Machine Learning\\\\uni-bremen-aml-course\\\\Mario\\\\Exercise_1\\\\cifar10\\\\train\\\\airplane\\\\0266.png airplane',\n",
       " 'C:\\\\Users\\\\m-gre\\\\Documents\\\\Advanced Machine Learning\\\\uni-bremen-aml-course\\\\Mario\\\\Exercise_1\\\\cifar10\\\\train\\\\airplane\\\\0267.png airplane',\n",
       " 'C:\\\\Users\\\\m-gre\\\\Documents\\\\Advanced Machine Learning\\\\uni-bremen-aml-course\\\\Mario\\\\Exercise_1\\\\cifar10\\\\train\\\\airplane\\\\0268.png airplane',\n",
       " 'C:\\\\Users\\\\m-gre\\\\Documents\\\\Advanced Machine Learning\\\\uni-bremen-aml-course\\\\Mario\\\\Exercise_1\\\\cifar10\\\\train\\\\airplane\\\\0269.png airplane',\n",
       " 'C:\\\\Users\\\\m-gre\\\\Documents\\\\Advanced Machine Learning\\\\uni-bremen-aml-course\\\\Mario\\\\Exercise_1\\\\cifar10\\\\train\\\\airplane\\\\0270.png airplane',\n",
       " 'C:\\\\Users\\\\m-gre\\\\Documents\\\\Advanced Machine Learning\\\\uni-bremen-aml-course\\\\Mario\\\\Exercise_1\\\\cifar10\\\\train\\\\airplane\\\\0271.png airplane',\n",
       " 'C:\\\\Users\\\\m-gre\\\\Documents\\\\Advanced Machine Learning\\\\uni-bremen-aml-course\\\\Mario\\\\Exercise_1\\\\cifar10\\\\train\\\\airplane\\\\0272.png airplane',\n",
       " 'C:\\\\Users\\\\m-gre\\\\Documents\\\\Advanced Machine Learning\\\\uni-bremen-aml-course\\\\Mario\\\\Exercise_1\\\\cifar10\\\\train\\\\airplane\\\\0273.png airplane',\n",
       " 'C:\\\\Users\\\\m-gre\\\\Documents\\\\Advanced Machine Learning\\\\uni-bremen-aml-course\\\\Mario\\\\Exercise_1\\\\cifar10\\\\train\\\\airplane\\\\0274.png airplane',\n",
       " 'C:\\\\Users\\\\m-gre\\\\Documents\\\\Advanced Machine Learning\\\\uni-bremen-aml-course\\\\Mario\\\\Exercise_1\\\\cifar10\\\\train\\\\airplane\\\\0275.png airplane',\n",
       " 'C:\\\\Users\\\\m-gre\\\\Documents\\\\Advanced Machine Learning\\\\uni-bremen-aml-course\\\\Mario\\\\Exercise_1\\\\cifar10\\\\train\\\\airplane\\\\0276.png airplane',\n",
       " 'C:\\\\Users\\\\m-gre\\\\Documents\\\\Advanced Machine Learning\\\\uni-bremen-aml-course\\\\Mario\\\\Exercise_1\\\\cifar10\\\\train\\\\airplane\\\\0277.png airplane',\n",
       " 'C:\\\\Users\\\\m-gre\\\\Documents\\\\Advanced Machine Learning\\\\uni-bremen-aml-course\\\\Mario\\\\Exercise_1\\\\cifar10\\\\train\\\\airplane\\\\0278.png airplane',\n",
       " 'C:\\\\Users\\\\m-gre\\\\Documents\\\\Advanced Machine Learning\\\\uni-bremen-aml-course\\\\Mario\\\\Exercise_1\\\\cifar10\\\\train\\\\airplane\\\\0279.png airplane',\n",
       " 'C:\\\\Users\\\\m-gre\\\\Documents\\\\Advanced Machine Learning\\\\uni-bremen-aml-course\\\\Mario\\\\Exercise_1\\\\cifar10\\\\train\\\\airplane\\\\0280.png airplane',\n",
       " 'C:\\\\Users\\\\m-gre\\\\Documents\\\\Advanced Machine Learning\\\\uni-bremen-aml-course\\\\Mario\\\\Exercise_1\\\\cifar10\\\\train\\\\airplane\\\\0281.png airplane',\n",
       " 'C:\\\\Users\\\\m-gre\\\\Documents\\\\Advanced Machine Learning\\\\uni-bremen-aml-course\\\\Mario\\\\Exercise_1\\\\cifar10\\\\train\\\\airplane\\\\0282.png airplane',\n",
       " 'C:\\\\Users\\\\m-gre\\\\Documents\\\\Advanced Machine Learning\\\\uni-bremen-aml-course\\\\Mario\\\\Exercise_1\\\\cifar10\\\\train\\\\airplane\\\\0283.png airplane',\n",
       " 'C:\\\\Users\\\\m-gre\\\\Documents\\\\Advanced Machine Learning\\\\uni-bremen-aml-course\\\\Mario\\\\Exercise_1\\\\cifar10\\\\train\\\\airplane\\\\0284.png airplane',\n",
       " 'C:\\\\Users\\\\m-gre\\\\Documents\\\\Advanced Machine Learning\\\\uni-bremen-aml-course\\\\Mario\\\\Exercise_1\\\\cifar10\\\\train\\\\airplane\\\\0285.png airplane',\n",
       " 'C:\\\\Users\\\\m-gre\\\\Documents\\\\Advanced Machine Learning\\\\uni-bremen-aml-course\\\\Mario\\\\Exercise_1\\\\cifar10\\\\train\\\\airplane\\\\0286.png airplane',\n",
       " 'C:\\\\Users\\\\m-gre\\\\Documents\\\\Advanced Machine Learning\\\\uni-bremen-aml-course\\\\Mario\\\\Exercise_1\\\\cifar10\\\\train\\\\airplane\\\\0287.png airplane',\n",
       " 'C:\\\\Users\\\\m-gre\\\\Documents\\\\Advanced Machine Learning\\\\uni-bremen-aml-course\\\\Mario\\\\Exercise_1\\\\cifar10\\\\train\\\\airplane\\\\0288.png airplane',\n",
       " 'C:\\\\Users\\\\m-gre\\\\Documents\\\\Advanced Machine Learning\\\\uni-bremen-aml-course\\\\Mario\\\\Exercise_1\\\\cifar10\\\\train\\\\airplane\\\\0289.png airplane',\n",
       " 'C:\\\\Users\\\\m-gre\\\\Documents\\\\Advanced Machine Learning\\\\uni-bremen-aml-course\\\\Mario\\\\Exercise_1\\\\cifar10\\\\train\\\\airplane\\\\0290.png airplane',\n",
       " 'C:\\\\Users\\\\m-gre\\\\Documents\\\\Advanced Machine Learning\\\\uni-bremen-aml-course\\\\Mario\\\\Exercise_1\\\\cifar10\\\\train\\\\airplane\\\\0291.png airplane',\n",
       " 'C:\\\\Users\\\\m-gre\\\\Documents\\\\Advanced Machine Learning\\\\uni-bremen-aml-course\\\\Mario\\\\Exercise_1\\\\cifar10\\\\train\\\\airplane\\\\0292.png airplane',\n",
       " 'C:\\\\Users\\\\m-gre\\\\Documents\\\\Advanced Machine Learning\\\\uni-bremen-aml-course\\\\Mario\\\\Exercise_1\\\\cifar10\\\\train\\\\airplane\\\\0293.png airplane',\n",
       " 'C:\\\\Users\\\\m-gre\\\\Documents\\\\Advanced Machine Learning\\\\uni-bremen-aml-course\\\\Mario\\\\Exercise_1\\\\cifar10\\\\train\\\\airplane\\\\0294.png airplane',\n",
       " 'C:\\\\Users\\\\m-gre\\\\Documents\\\\Advanced Machine Learning\\\\uni-bremen-aml-course\\\\Mario\\\\Exercise_1\\\\cifar10\\\\train\\\\airplane\\\\0295.png airplane',\n",
       " 'C:\\\\Users\\\\m-gre\\\\Documents\\\\Advanced Machine Learning\\\\uni-bremen-aml-course\\\\Mario\\\\Exercise_1\\\\cifar10\\\\train\\\\airplane\\\\0296.png airplane',\n",
       " 'C:\\\\Users\\\\m-gre\\\\Documents\\\\Advanced Machine Learning\\\\uni-bremen-aml-course\\\\Mario\\\\Exercise_1\\\\cifar10\\\\train\\\\airplane\\\\0297.png airplane',\n",
       " 'C:\\\\Users\\\\m-gre\\\\Documents\\\\Advanced Machine Learning\\\\uni-bremen-aml-course\\\\Mario\\\\Exercise_1\\\\cifar10\\\\train\\\\airplane\\\\0298.png airplane',\n",
       " 'C:\\\\Users\\\\m-gre\\\\Documents\\\\Advanced Machine Learning\\\\uni-bremen-aml-course\\\\Mario\\\\Exercise_1\\\\cifar10\\\\train\\\\airplane\\\\0299.png airplane',\n",
       " 'C:\\\\Users\\\\m-gre\\\\Documents\\\\Advanced Machine Learning\\\\uni-bremen-aml-course\\\\Mario\\\\Exercise_1\\\\cifar10\\\\train\\\\airplane\\\\0300.png airplane',\n",
       " 'C:\\\\Users\\\\m-gre\\\\Documents\\\\Advanced Machine Learning\\\\uni-bremen-aml-course\\\\Mario\\\\Exercise_1\\\\cifar10\\\\train\\\\airplane\\\\0301.png airplane',\n",
       " 'C:\\\\Users\\\\m-gre\\\\Documents\\\\Advanced Machine Learning\\\\uni-bremen-aml-course\\\\Mario\\\\Exercise_1\\\\cifar10\\\\train\\\\airplane\\\\0302.png airplane',\n",
       " 'C:\\\\Users\\\\m-gre\\\\Documents\\\\Advanced Machine Learning\\\\uni-bremen-aml-course\\\\Mario\\\\Exercise_1\\\\cifar10\\\\train\\\\airplane\\\\0303.png airplane',\n",
       " 'C:\\\\Users\\\\m-gre\\\\Documents\\\\Advanced Machine Learning\\\\uni-bremen-aml-course\\\\Mario\\\\Exercise_1\\\\cifar10\\\\train\\\\airplane\\\\0304.png airplane',\n",
       " 'C:\\\\Users\\\\m-gre\\\\Documents\\\\Advanced Machine Learning\\\\uni-bremen-aml-course\\\\Mario\\\\Exercise_1\\\\cifar10\\\\train\\\\airplane\\\\0305.png airplane',\n",
       " 'C:\\\\Users\\\\m-gre\\\\Documents\\\\Advanced Machine Learning\\\\uni-bremen-aml-course\\\\Mario\\\\Exercise_1\\\\cifar10\\\\train\\\\airplane\\\\0306.png airplane',\n",
       " 'C:\\\\Users\\\\m-gre\\\\Documents\\\\Advanced Machine Learning\\\\uni-bremen-aml-course\\\\Mario\\\\Exercise_1\\\\cifar10\\\\train\\\\airplane\\\\0307.png airplane',\n",
       " 'C:\\\\Users\\\\m-gre\\\\Documents\\\\Advanced Machine Learning\\\\uni-bremen-aml-course\\\\Mario\\\\Exercise_1\\\\cifar10\\\\train\\\\airplane\\\\0308.png airplane',\n",
       " 'C:\\\\Users\\\\m-gre\\\\Documents\\\\Advanced Machine Learning\\\\uni-bremen-aml-course\\\\Mario\\\\Exercise_1\\\\cifar10\\\\train\\\\airplane\\\\0309.png airplane',\n",
       " 'C:\\\\Users\\\\m-gre\\\\Documents\\\\Advanced Machine Learning\\\\uni-bremen-aml-course\\\\Mario\\\\Exercise_1\\\\cifar10\\\\train\\\\airplane\\\\0310.png airplane',\n",
       " 'C:\\\\Users\\\\m-gre\\\\Documents\\\\Advanced Machine Learning\\\\uni-bremen-aml-course\\\\Mario\\\\Exercise_1\\\\cifar10\\\\train\\\\airplane\\\\0311.png airplane',\n",
       " 'C:\\\\Users\\\\m-gre\\\\Documents\\\\Advanced Machine Learning\\\\uni-bremen-aml-course\\\\Mario\\\\Exercise_1\\\\cifar10\\\\train\\\\airplane\\\\0312.png airplane',\n",
       " 'C:\\\\Users\\\\m-gre\\\\Documents\\\\Advanced Machine Learning\\\\uni-bremen-aml-course\\\\Mario\\\\Exercise_1\\\\cifar10\\\\train\\\\airplane\\\\0313.png airplane',\n",
       " 'C:\\\\Users\\\\m-gre\\\\Documents\\\\Advanced Machine Learning\\\\uni-bremen-aml-course\\\\Mario\\\\Exercise_1\\\\cifar10\\\\train\\\\airplane\\\\0314.png airplane',\n",
       " 'C:\\\\Users\\\\m-gre\\\\Documents\\\\Advanced Machine Learning\\\\uni-bremen-aml-course\\\\Mario\\\\Exercise_1\\\\cifar10\\\\train\\\\airplane\\\\0315.png airplane',\n",
       " 'C:\\\\Users\\\\m-gre\\\\Documents\\\\Advanced Machine Learning\\\\uni-bremen-aml-course\\\\Mario\\\\Exercise_1\\\\cifar10\\\\train\\\\airplane\\\\0316.png airplane',\n",
       " 'C:\\\\Users\\\\m-gre\\\\Documents\\\\Advanced Machine Learning\\\\uni-bremen-aml-course\\\\Mario\\\\Exercise_1\\\\cifar10\\\\train\\\\airplane\\\\0317.png airplane',\n",
       " 'C:\\\\Users\\\\m-gre\\\\Documents\\\\Advanced Machine Learning\\\\uni-bremen-aml-course\\\\Mario\\\\Exercise_1\\\\cifar10\\\\train\\\\airplane\\\\0318.png airplane',\n",
       " 'C:\\\\Users\\\\m-gre\\\\Documents\\\\Advanced Machine Learning\\\\uni-bremen-aml-course\\\\Mario\\\\Exercise_1\\\\cifar10\\\\train\\\\airplane\\\\0319.png airplane',\n",
       " 'C:\\\\Users\\\\m-gre\\\\Documents\\\\Advanced Machine Learning\\\\uni-bremen-aml-course\\\\Mario\\\\Exercise_1\\\\cifar10\\\\train\\\\airplane\\\\0320.png airplane',\n",
       " 'C:\\\\Users\\\\m-gre\\\\Documents\\\\Advanced Machine Learning\\\\uni-bremen-aml-course\\\\Mario\\\\Exercise_1\\\\cifar10\\\\train\\\\airplane\\\\0321.png airplane',\n",
       " 'C:\\\\Users\\\\m-gre\\\\Documents\\\\Advanced Machine Learning\\\\uni-bremen-aml-course\\\\Mario\\\\Exercise_1\\\\cifar10\\\\train\\\\airplane\\\\0322.png airplane',\n",
       " 'C:\\\\Users\\\\m-gre\\\\Documents\\\\Advanced Machine Learning\\\\uni-bremen-aml-course\\\\Mario\\\\Exercise_1\\\\cifar10\\\\train\\\\airplane\\\\0323.png airplane',\n",
       " 'C:\\\\Users\\\\m-gre\\\\Documents\\\\Advanced Machine Learning\\\\uni-bremen-aml-course\\\\Mario\\\\Exercise_1\\\\cifar10\\\\train\\\\airplane\\\\0324.png airplane',\n",
       " 'C:\\\\Users\\\\m-gre\\\\Documents\\\\Advanced Machine Learning\\\\uni-bremen-aml-course\\\\Mario\\\\Exercise_1\\\\cifar10\\\\train\\\\airplane\\\\0325.png airplane',\n",
       " 'C:\\\\Users\\\\m-gre\\\\Documents\\\\Advanced Machine Learning\\\\uni-bremen-aml-course\\\\Mario\\\\Exercise_1\\\\cifar10\\\\train\\\\airplane\\\\0326.png airplane',\n",
       " 'C:\\\\Users\\\\m-gre\\\\Documents\\\\Advanced Machine Learning\\\\uni-bremen-aml-course\\\\Mario\\\\Exercise_1\\\\cifar10\\\\train\\\\airplane\\\\0327.png airplane',\n",
       " 'C:\\\\Users\\\\m-gre\\\\Documents\\\\Advanced Machine Learning\\\\uni-bremen-aml-course\\\\Mario\\\\Exercise_1\\\\cifar10\\\\train\\\\airplane\\\\0328.png airplane',\n",
       " 'C:\\\\Users\\\\m-gre\\\\Documents\\\\Advanced Machine Learning\\\\uni-bremen-aml-course\\\\Mario\\\\Exercise_1\\\\cifar10\\\\train\\\\airplane\\\\0329.png airplane',\n",
       " 'C:\\\\Users\\\\m-gre\\\\Documents\\\\Advanced Machine Learning\\\\uni-bremen-aml-course\\\\Mario\\\\Exercise_1\\\\cifar10\\\\train\\\\airplane\\\\0330.png airplane',\n",
       " 'C:\\\\Users\\\\m-gre\\\\Documents\\\\Advanced Machine Learning\\\\uni-bremen-aml-course\\\\Mario\\\\Exercise_1\\\\cifar10\\\\train\\\\airplane\\\\0331.png airplane',\n",
       " 'C:\\\\Users\\\\m-gre\\\\Documents\\\\Advanced Machine Learning\\\\uni-bremen-aml-course\\\\Mario\\\\Exercise_1\\\\cifar10\\\\train\\\\airplane\\\\0332.png airplane',\n",
       " 'C:\\\\Users\\\\m-gre\\\\Documents\\\\Advanced Machine Learning\\\\uni-bremen-aml-course\\\\Mario\\\\Exercise_1\\\\cifar10\\\\train\\\\airplane\\\\0333.png airplane',\n",
       " 'C:\\\\Users\\\\m-gre\\\\Documents\\\\Advanced Machine Learning\\\\uni-bremen-aml-course\\\\Mario\\\\Exercise_1\\\\cifar10\\\\train\\\\airplane\\\\0334.png airplane',\n",
       " 'C:\\\\Users\\\\m-gre\\\\Documents\\\\Advanced Machine Learning\\\\uni-bremen-aml-course\\\\Mario\\\\Exercise_1\\\\cifar10\\\\train\\\\airplane\\\\0335.png airplane',\n",
       " 'C:\\\\Users\\\\m-gre\\\\Documents\\\\Advanced Machine Learning\\\\uni-bremen-aml-course\\\\Mario\\\\Exercise_1\\\\cifar10\\\\train\\\\airplane\\\\0336.png airplane',\n",
       " 'C:\\\\Users\\\\m-gre\\\\Documents\\\\Advanced Machine Learning\\\\uni-bremen-aml-course\\\\Mario\\\\Exercise_1\\\\cifar10\\\\train\\\\airplane\\\\0337.png airplane',\n",
       " 'C:\\\\Users\\\\m-gre\\\\Documents\\\\Advanced Machine Learning\\\\uni-bremen-aml-course\\\\Mario\\\\Exercise_1\\\\cifar10\\\\train\\\\airplane\\\\0338.png airplane',\n",
       " 'C:\\\\Users\\\\m-gre\\\\Documents\\\\Advanced Machine Learning\\\\uni-bremen-aml-course\\\\Mario\\\\Exercise_1\\\\cifar10\\\\train\\\\airplane\\\\0339.png airplane',\n",
       " 'C:\\\\Users\\\\m-gre\\\\Documents\\\\Advanced Machine Learning\\\\uni-bremen-aml-course\\\\Mario\\\\Exercise_1\\\\cifar10\\\\train\\\\airplane\\\\0340.png airplane',\n",
       " 'C:\\\\Users\\\\m-gre\\\\Documents\\\\Advanced Machine Learning\\\\uni-bremen-aml-course\\\\Mario\\\\Exercise_1\\\\cifar10\\\\train\\\\airplane\\\\0341.png airplane',\n",
       " 'C:\\\\Users\\\\m-gre\\\\Documents\\\\Advanced Machine Learning\\\\uni-bremen-aml-course\\\\Mario\\\\Exercise_1\\\\cifar10\\\\train\\\\airplane\\\\0342.png airplane',\n",
       " 'C:\\\\Users\\\\m-gre\\\\Documents\\\\Advanced Machine Learning\\\\uni-bremen-aml-course\\\\Mario\\\\Exercise_1\\\\cifar10\\\\train\\\\airplane\\\\0343.png airplane',\n",
       " 'C:\\\\Users\\\\m-gre\\\\Documents\\\\Advanced Machine Learning\\\\uni-bremen-aml-course\\\\Mario\\\\Exercise_1\\\\cifar10\\\\train\\\\airplane\\\\0344.png airplane',\n",
       " 'C:\\\\Users\\\\m-gre\\\\Documents\\\\Advanced Machine Learning\\\\uni-bremen-aml-course\\\\Mario\\\\Exercise_1\\\\cifar10\\\\train\\\\airplane\\\\0345.png airplane',\n",
       " 'C:\\\\Users\\\\m-gre\\\\Documents\\\\Advanced Machine Learning\\\\uni-bremen-aml-course\\\\Mario\\\\Exercise_1\\\\cifar10\\\\train\\\\airplane\\\\0346.png airplane',\n",
       " 'C:\\\\Users\\\\m-gre\\\\Documents\\\\Advanced Machine Learning\\\\uni-bremen-aml-course\\\\Mario\\\\Exercise_1\\\\cifar10\\\\train\\\\airplane\\\\0347.png airplane',\n",
       " 'C:\\\\Users\\\\m-gre\\\\Documents\\\\Advanced Machine Learning\\\\uni-bremen-aml-course\\\\Mario\\\\Exercise_1\\\\cifar10\\\\train\\\\airplane\\\\0348.png airplane',\n",
       " 'C:\\\\Users\\\\m-gre\\\\Documents\\\\Advanced Machine Learning\\\\uni-bremen-aml-course\\\\Mario\\\\Exercise_1\\\\cifar10\\\\train\\\\airplane\\\\0349.png airplane',\n",
       " 'C:\\\\Users\\\\m-gre\\\\Documents\\\\Advanced Machine Learning\\\\uni-bremen-aml-course\\\\Mario\\\\Exercise_1\\\\cifar10\\\\train\\\\airplane\\\\0350.png airplane',\n",
       " 'C:\\\\Users\\\\m-gre\\\\Documents\\\\Advanced Machine Learning\\\\uni-bremen-aml-course\\\\Mario\\\\Exercise_1\\\\cifar10\\\\train\\\\airplane\\\\0351.png airplane',\n",
       " 'C:\\\\Users\\\\m-gre\\\\Documents\\\\Advanced Machine Learning\\\\uni-bremen-aml-course\\\\Mario\\\\Exercise_1\\\\cifar10\\\\train\\\\airplane\\\\0352.png airplane',\n",
       " 'C:\\\\Users\\\\m-gre\\\\Documents\\\\Advanced Machine Learning\\\\uni-bremen-aml-course\\\\Mario\\\\Exercise_1\\\\cifar10\\\\train\\\\airplane\\\\0353.png airplane',\n",
       " 'C:\\\\Users\\\\m-gre\\\\Documents\\\\Advanced Machine Learning\\\\uni-bremen-aml-course\\\\Mario\\\\Exercise_1\\\\cifar10\\\\train\\\\airplane\\\\0354.png airplane',\n",
       " 'C:\\\\Users\\\\m-gre\\\\Documents\\\\Advanced Machine Learning\\\\uni-bremen-aml-course\\\\Mario\\\\Exercise_1\\\\cifar10\\\\train\\\\airplane\\\\0355.png airplane',\n",
       " 'C:\\\\Users\\\\m-gre\\\\Documents\\\\Advanced Machine Learning\\\\uni-bremen-aml-course\\\\Mario\\\\Exercise_1\\\\cifar10\\\\train\\\\airplane\\\\0356.png airplane',\n",
       " 'C:\\\\Users\\\\m-gre\\\\Documents\\\\Advanced Machine Learning\\\\uni-bremen-aml-course\\\\Mario\\\\Exercise_1\\\\cifar10\\\\train\\\\airplane\\\\0357.png airplane',\n",
       " 'C:\\\\Users\\\\m-gre\\\\Documents\\\\Advanced Machine Learning\\\\uni-bremen-aml-course\\\\Mario\\\\Exercise_1\\\\cifar10\\\\train\\\\airplane\\\\0358.png airplane',\n",
       " 'C:\\\\Users\\\\m-gre\\\\Documents\\\\Advanced Machine Learning\\\\uni-bremen-aml-course\\\\Mario\\\\Exercise_1\\\\cifar10\\\\train\\\\airplane\\\\0359.png airplane',\n",
       " 'C:\\\\Users\\\\m-gre\\\\Documents\\\\Advanced Machine Learning\\\\uni-bremen-aml-course\\\\Mario\\\\Exercise_1\\\\cifar10\\\\train\\\\airplane\\\\0360.png airplane',\n",
       " 'C:\\\\Users\\\\m-gre\\\\Documents\\\\Advanced Machine Learning\\\\uni-bremen-aml-course\\\\Mario\\\\Exercise_1\\\\cifar10\\\\train\\\\airplane\\\\0361.png airplane',\n",
       " 'C:\\\\Users\\\\m-gre\\\\Documents\\\\Advanced Machine Learning\\\\uni-bremen-aml-course\\\\Mario\\\\Exercise_1\\\\cifar10\\\\train\\\\airplane\\\\0362.png airplane',\n",
       " 'C:\\\\Users\\\\m-gre\\\\Documents\\\\Advanced Machine Learning\\\\uni-bremen-aml-course\\\\Mario\\\\Exercise_1\\\\cifar10\\\\train\\\\airplane\\\\0363.png airplane',\n",
       " 'C:\\\\Users\\\\m-gre\\\\Documents\\\\Advanced Machine Learning\\\\uni-bremen-aml-course\\\\Mario\\\\Exercise_1\\\\cifar10\\\\train\\\\airplane\\\\0364.png airplane',\n",
       " 'C:\\\\Users\\\\m-gre\\\\Documents\\\\Advanced Machine Learning\\\\uni-bremen-aml-course\\\\Mario\\\\Exercise_1\\\\cifar10\\\\train\\\\airplane\\\\0365.png airplane',\n",
       " 'C:\\\\Users\\\\m-gre\\\\Documents\\\\Advanced Machine Learning\\\\uni-bremen-aml-course\\\\Mario\\\\Exercise_1\\\\cifar10\\\\train\\\\airplane\\\\0366.png airplane',\n",
       " 'C:\\\\Users\\\\m-gre\\\\Documents\\\\Advanced Machine Learning\\\\uni-bremen-aml-course\\\\Mario\\\\Exercise_1\\\\cifar10\\\\train\\\\airplane\\\\0367.png airplane',\n",
       " 'C:\\\\Users\\\\m-gre\\\\Documents\\\\Advanced Machine Learning\\\\uni-bremen-aml-course\\\\Mario\\\\Exercise_1\\\\cifar10\\\\train\\\\airplane\\\\0368.png airplane',\n",
       " 'C:\\\\Users\\\\m-gre\\\\Documents\\\\Advanced Machine Learning\\\\uni-bremen-aml-course\\\\Mario\\\\Exercise_1\\\\cifar10\\\\train\\\\airplane\\\\0369.png airplane',\n",
       " 'C:\\\\Users\\\\m-gre\\\\Documents\\\\Advanced Machine Learning\\\\uni-bremen-aml-course\\\\Mario\\\\Exercise_1\\\\cifar10\\\\train\\\\airplane\\\\0370.png airplane',\n",
       " 'C:\\\\Users\\\\m-gre\\\\Documents\\\\Advanced Machine Learning\\\\uni-bremen-aml-course\\\\Mario\\\\Exercise_1\\\\cifar10\\\\train\\\\airplane\\\\0371.png airplane',\n",
       " 'C:\\\\Users\\\\m-gre\\\\Documents\\\\Advanced Machine Learning\\\\uni-bremen-aml-course\\\\Mario\\\\Exercise_1\\\\cifar10\\\\train\\\\airplane\\\\0372.png airplane',\n",
       " 'C:\\\\Users\\\\m-gre\\\\Documents\\\\Advanced Machine Learning\\\\uni-bremen-aml-course\\\\Mario\\\\Exercise_1\\\\cifar10\\\\train\\\\airplane\\\\0373.png airplane',\n",
       " 'C:\\\\Users\\\\m-gre\\\\Documents\\\\Advanced Machine Learning\\\\uni-bremen-aml-course\\\\Mario\\\\Exercise_1\\\\cifar10\\\\train\\\\airplane\\\\0374.png airplane',\n",
       " 'C:\\\\Users\\\\m-gre\\\\Documents\\\\Advanced Machine Learning\\\\uni-bremen-aml-course\\\\Mario\\\\Exercise_1\\\\cifar10\\\\train\\\\airplane\\\\0375.png airplane',\n",
       " 'C:\\\\Users\\\\m-gre\\\\Documents\\\\Advanced Machine Learning\\\\uni-bremen-aml-course\\\\Mario\\\\Exercise_1\\\\cifar10\\\\train\\\\airplane\\\\0376.png airplane',\n",
       " 'C:\\\\Users\\\\m-gre\\\\Documents\\\\Advanced Machine Learning\\\\uni-bremen-aml-course\\\\Mario\\\\Exercise_1\\\\cifar10\\\\train\\\\airplane\\\\0377.png airplane',\n",
       " 'C:\\\\Users\\\\m-gre\\\\Documents\\\\Advanced Machine Learning\\\\uni-bremen-aml-course\\\\Mario\\\\Exercise_1\\\\cifar10\\\\train\\\\airplane\\\\0378.png airplane',\n",
       " 'C:\\\\Users\\\\m-gre\\\\Documents\\\\Advanced Machine Learning\\\\uni-bremen-aml-course\\\\Mario\\\\Exercise_1\\\\cifar10\\\\train\\\\airplane\\\\0379.png airplane',\n",
       " 'C:\\\\Users\\\\m-gre\\\\Documents\\\\Advanced Machine Learning\\\\uni-bremen-aml-course\\\\Mario\\\\Exercise_1\\\\cifar10\\\\train\\\\airplane\\\\0380.png airplane',\n",
       " 'C:\\\\Users\\\\m-gre\\\\Documents\\\\Advanced Machine Learning\\\\uni-bremen-aml-course\\\\Mario\\\\Exercise_1\\\\cifar10\\\\train\\\\airplane\\\\0381.png airplane',\n",
       " 'C:\\\\Users\\\\m-gre\\\\Documents\\\\Advanced Machine Learning\\\\uni-bremen-aml-course\\\\Mario\\\\Exercise_1\\\\cifar10\\\\train\\\\airplane\\\\0382.png airplane',\n",
       " 'C:\\\\Users\\\\m-gre\\\\Documents\\\\Advanced Machine Learning\\\\uni-bremen-aml-course\\\\Mario\\\\Exercise_1\\\\cifar10\\\\train\\\\airplane\\\\0383.png airplane',\n",
       " 'C:\\\\Users\\\\m-gre\\\\Documents\\\\Advanced Machine Learning\\\\uni-bremen-aml-course\\\\Mario\\\\Exercise_1\\\\cifar10\\\\train\\\\airplane\\\\0384.png airplane',\n",
       " 'C:\\\\Users\\\\m-gre\\\\Documents\\\\Advanced Machine Learning\\\\uni-bremen-aml-course\\\\Mario\\\\Exercise_1\\\\cifar10\\\\train\\\\airplane\\\\0385.png airplane',\n",
       " 'C:\\\\Users\\\\m-gre\\\\Documents\\\\Advanced Machine Learning\\\\uni-bremen-aml-course\\\\Mario\\\\Exercise_1\\\\cifar10\\\\train\\\\airplane\\\\0386.png airplane',\n",
       " 'C:\\\\Users\\\\m-gre\\\\Documents\\\\Advanced Machine Learning\\\\uni-bremen-aml-course\\\\Mario\\\\Exercise_1\\\\cifar10\\\\train\\\\airplane\\\\0387.png airplane',\n",
       " 'C:\\\\Users\\\\m-gre\\\\Documents\\\\Advanced Machine Learning\\\\uni-bremen-aml-course\\\\Mario\\\\Exercise_1\\\\cifar10\\\\train\\\\airplane\\\\0388.png airplane',\n",
       " 'C:\\\\Users\\\\m-gre\\\\Documents\\\\Advanced Machine Learning\\\\uni-bremen-aml-course\\\\Mario\\\\Exercise_1\\\\cifar10\\\\train\\\\airplane\\\\0389.png airplane',\n",
       " 'C:\\\\Users\\\\m-gre\\\\Documents\\\\Advanced Machine Learning\\\\uni-bremen-aml-course\\\\Mario\\\\Exercise_1\\\\cifar10\\\\train\\\\airplane\\\\0390.png airplane',\n",
       " 'C:\\\\Users\\\\m-gre\\\\Documents\\\\Advanced Machine Learning\\\\uni-bremen-aml-course\\\\Mario\\\\Exercise_1\\\\cifar10\\\\train\\\\airplane\\\\0391.png airplane',\n",
       " 'C:\\\\Users\\\\m-gre\\\\Documents\\\\Advanced Machine Learning\\\\uni-bremen-aml-course\\\\Mario\\\\Exercise_1\\\\cifar10\\\\train\\\\airplane\\\\0392.png airplane',\n",
       " 'C:\\\\Users\\\\m-gre\\\\Documents\\\\Advanced Machine Learning\\\\uni-bremen-aml-course\\\\Mario\\\\Exercise_1\\\\cifar10\\\\train\\\\airplane\\\\0393.png airplane',\n",
       " 'C:\\\\Users\\\\m-gre\\\\Documents\\\\Advanced Machine Learning\\\\uni-bremen-aml-course\\\\Mario\\\\Exercise_1\\\\cifar10\\\\train\\\\airplane\\\\0394.png airplane',\n",
       " 'C:\\\\Users\\\\m-gre\\\\Documents\\\\Advanced Machine Learning\\\\uni-bremen-aml-course\\\\Mario\\\\Exercise_1\\\\cifar10\\\\train\\\\airplane\\\\0395.png airplane',\n",
       " 'C:\\\\Users\\\\m-gre\\\\Documents\\\\Advanced Machine Learning\\\\uni-bremen-aml-course\\\\Mario\\\\Exercise_1\\\\cifar10\\\\train\\\\airplane\\\\0396.png airplane',\n",
       " 'C:\\\\Users\\\\m-gre\\\\Documents\\\\Advanced Machine Learning\\\\uni-bremen-aml-course\\\\Mario\\\\Exercise_1\\\\cifar10\\\\train\\\\airplane\\\\0397.png airplane',\n",
       " 'C:\\\\Users\\\\m-gre\\\\Documents\\\\Advanced Machine Learning\\\\uni-bremen-aml-course\\\\Mario\\\\Exercise_1\\\\cifar10\\\\train\\\\airplane\\\\0398.png airplane',\n",
       " 'C:\\\\Users\\\\m-gre\\\\Documents\\\\Advanced Machine Learning\\\\uni-bremen-aml-course\\\\Mario\\\\Exercise_1\\\\cifar10\\\\train\\\\airplane\\\\0399.png airplane',\n",
       " 'C:\\\\Users\\\\m-gre\\\\Documents\\\\Advanced Machine Learning\\\\uni-bremen-aml-course\\\\Mario\\\\Exercise_1\\\\cifar10\\\\train\\\\airplane\\\\0400.png airplane',\n",
       " 'C:\\\\Users\\\\m-gre\\\\Documents\\\\Advanced Machine Learning\\\\uni-bremen-aml-course\\\\Mario\\\\Exercise_1\\\\cifar10\\\\train\\\\airplane\\\\0401.png airplane',\n",
       " 'C:\\\\Users\\\\m-gre\\\\Documents\\\\Advanced Machine Learning\\\\uni-bremen-aml-course\\\\Mario\\\\Exercise_1\\\\cifar10\\\\train\\\\airplane\\\\0402.png airplane',\n",
       " 'C:\\\\Users\\\\m-gre\\\\Documents\\\\Advanced Machine Learning\\\\uni-bremen-aml-course\\\\Mario\\\\Exercise_1\\\\cifar10\\\\train\\\\airplane\\\\0403.png airplane',\n",
       " 'C:\\\\Users\\\\m-gre\\\\Documents\\\\Advanced Machine Learning\\\\uni-bremen-aml-course\\\\Mario\\\\Exercise_1\\\\cifar10\\\\train\\\\airplane\\\\0404.png airplane',\n",
       " 'C:\\\\Users\\\\m-gre\\\\Documents\\\\Advanced Machine Learning\\\\uni-bremen-aml-course\\\\Mario\\\\Exercise_1\\\\cifar10\\\\train\\\\airplane\\\\0405.png airplane',\n",
       " 'C:\\\\Users\\\\m-gre\\\\Documents\\\\Advanced Machine Learning\\\\uni-bremen-aml-course\\\\Mario\\\\Exercise_1\\\\cifar10\\\\train\\\\airplane\\\\0406.png airplane',\n",
       " 'C:\\\\Users\\\\m-gre\\\\Documents\\\\Advanced Machine Learning\\\\uni-bremen-aml-course\\\\Mario\\\\Exercise_1\\\\cifar10\\\\train\\\\airplane\\\\0407.png airplane',\n",
       " 'C:\\\\Users\\\\m-gre\\\\Documents\\\\Advanced Machine Learning\\\\uni-bremen-aml-course\\\\Mario\\\\Exercise_1\\\\cifar10\\\\train\\\\airplane\\\\0408.png airplane',\n",
       " 'C:\\\\Users\\\\m-gre\\\\Documents\\\\Advanced Machine Learning\\\\uni-bremen-aml-course\\\\Mario\\\\Exercise_1\\\\cifar10\\\\train\\\\airplane\\\\0409.png airplane',\n",
       " 'C:\\\\Users\\\\m-gre\\\\Documents\\\\Advanced Machine Learning\\\\uni-bremen-aml-course\\\\Mario\\\\Exercise_1\\\\cifar10\\\\train\\\\airplane\\\\0410.png airplane',\n",
       " 'C:\\\\Users\\\\m-gre\\\\Documents\\\\Advanced Machine Learning\\\\uni-bremen-aml-course\\\\Mario\\\\Exercise_1\\\\cifar10\\\\train\\\\airplane\\\\0411.png airplane',\n",
       " 'C:\\\\Users\\\\m-gre\\\\Documents\\\\Advanced Machine Learning\\\\uni-bremen-aml-course\\\\Mario\\\\Exercise_1\\\\cifar10\\\\train\\\\airplane\\\\0412.png airplane',\n",
       " 'C:\\\\Users\\\\m-gre\\\\Documents\\\\Advanced Machine Learning\\\\uni-bremen-aml-course\\\\Mario\\\\Exercise_1\\\\cifar10\\\\train\\\\airplane\\\\0413.png airplane',\n",
       " 'C:\\\\Users\\\\m-gre\\\\Documents\\\\Advanced Machine Learning\\\\uni-bremen-aml-course\\\\Mario\\\\Exercise_1\\\\cifar10\\\\train\\\\airplane\\\\0414.png airplane',\n",
       " 'C:\\\\Users\\\\m-gre\\\\Documents\\\\Advanced Machine Learning\\\\uni-bremen-aml-course\\\\Mario\\\\Exercise_1\\\\cifar10\\\\train\\\\airplane\\\\0415.png airplane',\n",
       " 'C:\\\\Users\\\\m-gre\\\\Documents\\\\Advanced Machine Learning\\\\uni-bremen-aml-course\\\\Mario\\\\Exercise_1\\\\cifar10\\\\train\\\\airplane\\\\0416.png airplane',\n",
       " 'C:\\\\Users\\\\m-gre\\\\Documents\\\\Advanced Machine Learning\\\\uni-bremen-aml-course\\\\Mario\\\\Exercise_1\\\\cifar10\\\\train\\\\airplane\\\\0417.png airplane',\n",
       " 'C:\\\\Users\\\\m-gre\\\\Documents\\\\Advanced Machine Learning\\\\uni-bremen-aml-course\\\\Mario\\\\Exercise_1\\\\cifar10\\\\train\\\\airplane\\\\0418.png airplane',\n",
       " 'C:\\\\Users\\\\m-gre\\\\Documents\\\\Advanced Machine Learning\\\\uni-bremen-aml-course\\\\Mario\\\\Exercise_1\\\\cifar10\\\\train\\\\airplane\\\\0419.png airplane',\n",
       " 'C:\\\\Users\\\\m-gre\\\\Documents\\\\Advanced Machine Learning\\\\uni-bremen-aml-course\\\\Mario\\\\Exercise_1\\\\cifar10\\\\train\\\\airplane\\\\0420.png airplane',\n",
       " 'C:\\\\Users\\\\m-gre\\\\Documents\\\\Advanced Machine Learning\\\\uni-bremen-aml-course\\\\Mario\\\\Exercise_1\\\\cifar10\\\\train\\\\airplane\\\\0421.png airplane',\n",
       " 'C:\\\\Users\\\\m-gre\\\\Documents\\\\Advanced Machine Learning\\\\uni-bremen-aml-course\\\\Mario\\\\Exercise_1\\\\cifar10\\\\train\\\\airplane\\\\0422.png airplane',\n",
       " 'C:\\\\Users\\\\m-gre\\\\Documents\\\\Advanced Machine Learning\\\\uni-bremen-aml-course\\\\Mario\\\\Exercise_1\\\\cifar10\\\\train\\\\airplane\\\\0423.png airplane',\n",
       " 'C:\\\\Users\\\\m-gre\\\\Documents\\\\Advanced Machine Learning\\\\uni-bremen-aml-course\\\\Mario\\\\Exercise_1\\\\cifar10\\\\train\\\\airplane\\\\0424.png airplane',\n",
       " 'C:\\\\Users\\\\m-gre\\\\Documents\\\\Advanced Machine Learning\\\\uni-bremen-aml-course\\\\Mario\\\\Exercise_1\\\\cifar10\\\\train\\\\airplane\\\\0425.png airplane',\n",
       " 'C:\\\\Users\\\\m-gre\\\\Documents\\\\Advanced Machine Learning\\\\uni-bremen-aml-course\\\\Mario\\\\Exercise_1\\\\cifar10\\\\train\\\\airplane\\\\0426.png airplane',\n",
       " 'C:\\\\Users\\\\m-gre\\\\Documents\\\\Advanced Machine Learning\\\\uni-bremen-aml-course\\\\Mario\\\\Exercise_1\\\\cifar10\\\\train\\\\airplane\\\\0427.png airplane',\n",
       " 'C:\\\\Users\\\\m-gre\\\\Documents\\\\Advanced Machine Learning\\\\uni-bremen-aml-course\\\\Mario\\\\Exercise_1\\\\cifar10\\\\train\\\\airplane\\\\0428.png airplane',\n",
       " 'C:\\\\Users\\\\m-gre\\\\Documents\\\\Advanced Machine Learning\\\\uni-bremen-aml-course\\\\Mario\\\\Exercise_1\\\\cifar10\\\\train\\\\airplane\\\\0429.png airplane',\n",
       " 'C:\\\\Users\\\\m-gre\\\\Documents\\\\Advanced Machine Learning\\\\uni-bremen-aml-course\\\\Mario\\\\Exercise_1\\\\cifar10\\\\train\\\\airplane\\\\0430.png airplane',\n",
       " 'C:\\\\Users\\\\m-gre\\\\Documents\\\\Advanced Machine Learning\\\\uni-bremen-aml-course\\\\Mario\\\\Exercise_1\\\\cifar10\\\\train\\\\airplane\\\\0431.png airplane',\n",
       " 'C:\\\\Users\\\\m-gre\\\\Documents\\\\Advanced Machine Learning\\\\uni-bremen-aml-course\\\\Mario\\\\Exercise_1\\\\cifar10\\\\train\\\\airplane\\\\0432.png airplane',\n",
       " 'C:\\\\Users\\\\m-gre\\\\Documents\\\\Advanced Machine Learning\\\\uni-bremen-aml-course\\\\Mario\\\\Exercise_1\\\\cifar10\\\\train\\\\airplane\\\\0433.png airplane',\n",
       " 'C:\\\\Users\\\\m-gre\\\\Documents\\\\Advanced Machine Learning\\\\uni-bremen-aml-course\\\\Mario\\\\Exercise_1\\\\cifar10\\\\train\\\\airplane\\\\0434.png airplane',\n",
       " 'C:\\\\Users\\\\m-gre\\\\Documents\\\\Advanced Machine Learning\\\\uni-bremen-aml-course\\\\Mario\\\\Exercise_1\\\\cifar10\\\\train\\\\airplane\\\\0435.png airplane',\n",
       " 'C:\\\\Users\\\\m-gre\\\\Documents\\\\Advanced Machine Learning\\\\uni-bremen-aml-course\\\\Mario\\\\Exercise_1\\\\cifar10\\\\train\\\\airplane\\\\0436.png airplane',\n",
       " 'C:\\\\Users\\\\m-gre\\\\Documents\\\\Advanced Machine Learning\\\\uni-bremen-aml-course\\\\Mario\\\\Exercise_1\\\\cifar10\\\\train\\\\airplane\\\\0437.png airplane',\n",
       " 'C:\\\\Users\\\\m-gre\\\\Documents\\\\Advanced Machine Learning\\\\uni-bremen-aml-course\\\\Mario\\\\Exercise_1\\\\cifar10\\\\train\\\\airplane\\\\0438.png airplane',\n",
       " 'C:\\\\Users\\\\m-gre\\\\Documents\\\\Advanced Machine Learning\\\\uni-bremen-aml-course\\\\Mario\\\\Exercise_1\\\\cifar10\\\\train\\\\airplane\\\\0439.png airplane',\n",
       " 'C:\\\\Users\\\\m-gre\\\\Documents\\\\Advanced Machine Learning\\\\uni-bremen-aml-course\\\\Mario\\\\Exercise_1\\\\cifar10\\\\train\\\\airplane\\\\0440.png airplane',\n",
       " 'C:\\\\Users\\\\m-gre\\\\Documents\\\\Advanced Machine Learning\\\\uni-bremen-aml-course\\\\Mario\\\\Exercise_1\\\\cifar10\\\\train\\\\airplane\\\\0441.png airplane',\n",
       " 'C:\\\\Users\\\\m-gre\\\\Documents\\\\Advanced Machine Learning\\\\uni-bremen-aml-course\\\\Mario\\\\Exercise_1\\\\cifar10\\\\train\\\\airplane\\\\0442.png airplane',\n",
       " 'C:\\\\Users\\\\m-gre\\\\Documents\\\\Advanced Machine Learning\\\\uni-bremen-aml-course\\\\Mario\\\\Exercise_1\\\\cifar10\\\\train\\\\airplane\\\\0443.png airplane',\n",
       " 'C:\\\\Users\\\\m-gre\\\\Documents\\\\Advanced Machine Learning\\\\uni-bremen-aml-course\\\\Mario\\\\Exercise_1\\\\cifar10\\\\train\\\\airplane\\\\0444.png airplane',\n",
       " 'C:\\\\Users\\\\m-gre\\\\Documents\\\\Advanced Machine Learning\\\\uni-bremen-aml-course\\\\Mario\\\\Exercise_1\\\\cifar10\\\\train\\\\airplane\\\\0445.png airplane',\n",
       " 'C:\\\\Users\\\\m-gre\\\\Documents\\\\Advanced Machine Learning\\\\uni-bremen-aml-course\\\\Mario\\\\Exercise_1\\\\cifar10\\\\train\\\\airplane\\\\0446.png airplane',\n",
       " 'C:\\\\Users\\\\m-gre\\\\Documents\\\\Advanced Machine Learning\\\\uni-bremen-aml-course\\\\Mario\\\\Exercise_1\\\\cifar10\\\\train\\\\airplane\\\\0447.png airplane',\n",
       " 'C:\\\\Users\\\\m-gre\\\\Documents\\\\Advanced Machine Learning\\\\uni-bremen-aml-course\\\\Mario\\\\Exercise_1\\\\cifar10\\\\train\\\\airplane\\\\0448.png airplane',\n",
       " 'C:\\\\Users\\\\m-gre\\\\Documents\\\\Advanced Machine Learning\\\\uni-bremen-aml-course\\\\Mario\\\\Exercise_1\\\\cifar10\\\\train\\\\airplane\\\\0449.png airplane',\n",
       " 'C:\\\\Users\\\\m-gre\\\\Documents\\\\Advanced Machine Learning\\\\uni-bremen-aml-course\\\\Mario\\\\Exercise_1\\\\cifar10\\\\train\\\\airplane\\\\0450.png airplane',\n",
       " 'C:\\\\Users\\\\m-gre\\\\Documents\\\\Advanced Machine Learning\\\\uni-bremen-aml-course\\\\Mario\\\\Exercise_1\\\\cifar10\\\\train\\\\airplane\\\\0451.png airplane',\n",
       " 'C:\\\\Users\\\\m-gre\\\\Documents\\\\Advanced Machine Learning\\\\uni-bremen-aml-course\\\\Mario\\\\Exercise_1\\\\cifar10\\\\train\\\\airplane\\\\0452.png airplane',\n",
       " 'C:\\\\Users\\\\m-gre\\\\Documents\\\\Advanced Machine Learning\\\\uni-bremen-aml-course\\\\Mario\\\\Exercise_1\\\\cifar10\\\\train\\\\airplane\\\\0453.png airplane',\n",
       " 'C:\\\\Users\\\\m-gre\\\\Documents\\\\Advanced Machine Learning\\\\uni-bremen-aml-course\\\\Mario\\\\Exercise_1\\\\cifar10\\\\train\\\\airplane\\\\0454.png airplane',\n",
       " 'C:\\\\Users\\\\m-gre\\\\Documents\\\\Advanced Machine Learning\\\\uni-bremen-aml-course\\\\Mario\\\\Exercise_1\\\\cifar10\\\\train\\\\airplane\\\\0455.png airplane',\n",
       " 'C:\\\\Users\\\\m-gre\\\\Documents\\\\Advanced Machine Learning\\\\uni-bremen-aml-course\\\\Mario\\\\Exercise_1\\\\cifar10\\\\train\\\\airplane\\\\0456.png airplane',\n",
       " 'C:\\\\Users\\\\m-gre\\\\Documents\\\\Advanced Machine Learning\\\\uni-bremen-aml-course\\\\Mario\\\\Exercise_1\\\\cifar10\\\\train\\\\airplane\\\\0457.png airplane',\n",
       " 'C:\\\\Users\\\\m-gre\\\\Documents\\\\Advanced Machine Learning\\\\uni-bremen-aml-course\\\\Mario\\\\Exercise_1\\\\cifar10\\\\train\\\\airplane\\\\0458.png airplane',\n",
       " 'C:\\\\Users\\\\m-gre\\\\Documents\\\\Advanced Machine Learning\\\\uni-bremen-aml-course\\\\Mario\\\\Exercise_1\\\\cifar10\\\\train\\\\airplane\\\\0459.png airplane',\n",
       " 'C:\\\\Users\\\\m-gre\\\\Documents\\\\Advanced Machine Learning\\\\uni-bremen-aml-course\\\\Mario\\\\Exercise_1\\\\cifar10\\\\train\\\\airplane\\\\0460.png airplane',\n",
       " 'C:\\\\Users\\\\m-gre\\\\Documents\\\\Advanced Machine Learning\\\\uni-bremen-aml-course\\\\Mario\\\\Exercise_1\\\\cifar10\\\\train\\\\airplane\\\\0461.png airplane',\n",
       " 'C:\\\\Users\\\\m-gre\\\\Documents\\\\Advanced Machine Learning\\\\uni-bremen-aml-course\\\\Mario\\\\Exercise_1\\\\cifar10\\\\train\\\\airplane\\\\0462.png airplane',\n",
       " 'C:\\\\Users\\\\m-gre\\\\Documents\\\\Advanced Machine Learning\\\\uni-bremen-aml-course\\\\Mario\\\\Exercise_1\\\\cifar10\\\\train\\\\airplane\\\\0463.png airplane',\n",
       " 'C:\\\\Users\\\\m-gre\\\\Documents\\\\Advanced Machine Learning\\\\uni-bremen-aml-course\\\\Mario\\\\Exercise_1\\\\cifar10\\\\train\\\\airplane\\\\0464.png airplane',\n",
       " 'C:\\\\Users\\\\m-gre\\\\Documents\\\\Advanced Machine Learning\\\\uni-bremen-aml-course\\\\Mario\\\\Exercise_1\\\\cifar10\\\\train\\\\airplane\\\\0465.png airplane',\n",
       " 'C:\\\\Users\\\\m-gre\\\\Documents\\\\Advanced Machine Learning\\\\uni-bremen-aml-course\\\\Mario\\\\Exercise_1\\\\cifar10\\\\train\\\\airplane\\\\0466.png airplane',\n",
       " 'C:\\\\Users\\\\m-gre\\\\Documents\\\\Advanced Machine Learning\\\\uni-bremen-aml-course\\\\Mario\\\\Exercise_1\\\\cifar10\\\\train\\\\airplane\\\\0467.png airplane',\n",
       " 'C:\\\\Users\\\\m-gre\\\\Documents\\\\Advanced Machine Learning\\\\uni-bremen-aml-course\\\\Mario\\\\Exercise_1\\\\cifar10\\\\train\\\\airplane\\\\0468.png airplane',\n",
       " 'C:\\\\Users\\\\m-gre\\\\Documents\\\\Advanced Machine Learning\\\\uni-bremen-aml-course\\\\Mario\\\\Exercise_1\\\\cifar10\\\\train\\\\airplane\\\\0469.png airplane',\n",
       " 'C:\\\\Users\\\\m-gre\\\\Documents\\\\Advanced Machine Learning\\\\uni-bremen-aml-course\\\\Mario\\\\Exercise_1\\\\cifar10\\\\train\\\\airplane\\\\0470.png airplane',\n",
       " 'C:\\\\Users\\\\m-gre\\\\Documents\\\\Advanced Machine Learning\\\\uni-bremen-aml-course\\\\Mario\\\\Exercise_1\\\\cifar10\\\\train\\\\airplane\\\\0471.png airplane',\n",
       " 'C:\\\\Users\\\\m-gre\\\\Documents\\\\Advanced Machine Learning\\\\uni-bremen-aml-course\\\\Mario\\\\Exercise_1\\\\cifar10\\\\train\\\\airplane\\\\0472.png airplane',\n",
       " 'C:\\\\Users\\\\m-gre\\\\Documents\\\\Advanced Machine Learning\\\\uni-bremen-aml-course\\\\Mario\\\\Exercise_1\\\\cifar10\\\\train\\\\airplane\\\\0473.png airplane',\n",
       " 'C:\\\\Users\\\\m-gre\\\\Documents\\\\Advanced Machine Learning\\\\uni-bremen-aml-course\\\\Mario\\\\Exercise_1\\\\cifar10\\\\train\\\\airplane\\\\0474.png airplane',\n",
       " 'C:\\\\Users\\\\m-gre\\\\Documents\\\\Advanced Machine Learning\\\\uni-bremen-aml-course\\\\Mario\\\\Exercise_1\\\\cifar10\\\\train\\\\airplane\\\\0475.png airplane',\n",
       " 'C:\\\\Users\\\\m-gre\\\\Documents\\\\Advanced Machine Learning\\\\uni-bremen-aml-course\\\\Mario\\\\Exercise_1\\\\cifar10\\\\train\\\\airplane\\\\0476.png airplane',\n",
       " 'C:\\\\Users\\\\m-gre\\\\Documents\\\\Advanced Machine Learning\\\\uni-bremen-aml-course\\\\Mario\\\\Exercise_1\\\\cifar10\\\\train\\\\airplane\\\\0477.png airplane',\n",
       " 'C:\\\\Users\\\\m-gre\\\\Documents\\\\Advanced Machine Learning\\\\uni-bremen-aml-course\\\\Mario\\\\Exercise_1\\\\cifar10\\\\train\\\\airplane\\\\0478.png airplane',\n",
       " 'C:\\\\Users\\\\m-gre\\\\Documents\\\\Advanced Machine Learning\\\\uni-bremen-aml-course\\\\Mario\\\\Exercise_1\\\\cifar10\\\\train\\\\airplane\\\\0479.png airplane',\n",
       " 'C:\\\\Users\\\\m-gre\\\\Documents\\\\Advanced Machine Learning\\\\uni-bremen-aml-course\\\\Mario\\\\Exercise_1\\\\cifar10\\\\train\\\\airplane\\\\0480.png airplane',\n",
       " 'C:\\\\Users\\\\m-gre\\\\Documents\\\\Advanced Machine Learning\\\\uni-bremen-aml-course\\\\Mario\\\\Exercise_1\\\\cifar10\\\\train\\\\airplane\\\\0481.png airplane',\n",
       " 'C:\\\\Users\\\\m-gre\\\\Documents\\\\Advanced Machine Learning\\\\uni-bremen-aml-course\\\\Mario\\\\Exercise_1\\\\cifar10\\\\train\\\\airplane\\\\0482.png airplane',\n",
       " 'C:\\\\Users\\\\m-gre\\\\Documents\\\\Advanced Machine Learning\\\\uni-bremen-aml-course\\\\Mario\\\\Exercise_1\\\\cifar10\\\\train\\\\airplane\\\\0483.png airplane',\n",
       " 'C:\\\\Users\\\\m-gre\\\\Documents\\\\Advanced Machine Learning\\\\uni-bremen-aml-course\\\\Mario\\\\Exercise_1\\\\cifar10\\\\train\\\\airplane\\\\0484.png airplane',\n",
       " 'C:\\\\Users\\\\m-gre\\\\Documents\\\\Advanced Machine Learning\\\\uni-bremen-aml-course\\\\Mario\\\\Exercise_1\\\\cifar10\\\\train\\\\airplane\\\\0485.png airplane',\n",
       " 'C:\\\\Users\\\\m-gre\\\\Documents\\\\Advanced Machine Learning\\\\uni-bremen-aml-course\\\\Mario\\\\Exercise_1\\\\cifar10\\\\train\\\\airplane\\\\0486.png airplane',\n",
       " 'C:\\\\Users\\\\m-gre\\\\Documents\\\\Advanced Machine Learning\\\\uni-bremen-aml-course\\\\Mario\\\\Exercise_1\\\\cifar10\\\\train\\\\airplane\\\\0487.png airplane',\n",
       " 'C:\\\\Users\\\\m-gre\\\\Documents\\\\Advanced Machine Learning\\\\uni-bremen-aml-course\\\\Mario\\\\Exercise_1\\\\cifar10\\\\train\\\\airplane\\\\0488.png airplane',\n",
       " 'C:\\\\Users\\\\m-gre\\\\Documents\\\\Advanced Machine Learning\\\\uni-bremen-aml-course\\\\Mario\\\\Exercise_1\\\\cifar10\\\\train\\\\airplane\\\\0489.png airplane',\n",
       " 'C:\\\\Users\\\\m-gre\\\\Documents\\\\Advanced Machine Learning\\\\uni-bremen-aml-course\\\\Mario\\\\Exercise_1\\\\cifar10\\\\train\\\\airplane\\\\0490.png airplane',\n",
       " 'C:\\\\Users\\\\m-gre\\\\Documents\\\\Advanced Machine Learning\\\\uni-bremen-aml-course\\\\Mario\\\\Exercise_1\\\\cifar10\\\\train\\\\airplane\\\\0491.png airplane',\n",
       " 'C:\\\\Users\\\\m-gre\\\\Documents\\\\Advanced Machine Learning\\\\uni-bremen-aml-course\\\\Mario\\\\Exercise_1\\\\cifar10\\\\train\\\\airplane\\\\0492.png airplane',\n",
       " 'C:\\\\Users\\\\m-gre\\\\Documents\\\\Advanced Machine Learning\\\\uni-bremen-aml-course\\\\Mario\\\\Exercise_1\\\\cifar10\\\\train\\\\airplane\\\\0493.png airplane',\n",
       " 'C:\\\\Users\\\\m-gre\\\\Documents\\\\Advanced Machine Learning\\\\uni-bremen-aml-course\\\\Mario\\\\Exercise_1\\\\cifar10\\\\train\\\\airplane\\\\0494.png airplane',\n",
       " 'C:\\\\Users\\\\m-gre\\\\Documents\\\\Advanced Machine Learning\\\\uni-bremen-aml-course\\\\Mario\\\\Exercise_1\\\\cifar10\\\\train\\\\airplane\\\\0495.png airplane',\n",
       " 'C:\\\\Users\\\\m-gre\\\\Documents\\\\Advanced Machine Learning\\\\uni-bremen-aml-course\\\\Mario\\\\Exercise_1\\\\cifar10\\\\train\\\\airplane\\\\0496.png airplane',\n",
       " 'C:\\\\Users\\\\m-gre\\\\Documents\\\\Advanced Machine Learning\\\\uni-bremen-aml-course\\\\Mario\\\\Exercise_1\\\\cifar10\\\\train\\\\airplane\\\\0497.png airplane',\n",
       " 'C:\\\\Users\\\\m-gre\\\\Documents\\\\Advanced Machine Learning\\\\uni-bremen-aml-course\\\\Mario\\\\Exercise_1\\\\cifar10\\\\train\\\\airplane\\\\0498.png airplane',\n",
       " 'C:\\\\Users\\\\m-gre\\\\Documents\\\\Advanced Machine Learning\\\\uni-bremen-aml-course\\\\Mario\\\\Exercise_1\\\\cifar10\\\\train\\\\airplane\\\\0499.png airplane',\n",
       " 'C:\\\\Users\\\\m-gre\\\\Documents\\\\Advanced Machine Learning\\\\uni-bremen-aml-course\\\\Mario\\\\Exercise_1\\\\cifar10\\\\train\\\\airplane\\\\0500.png airplane',\n",
       " 'C:\\\\Users\\\\m-gre\\\\Documents\\\\Advanced Machine Learning\\\\uni-bremen-aml-course\\\\Mario\\\\Exercise_1\\\\cifar10\\\\train\\\\airplane\\\\0501.png airplane',\n",
       " 'C:\\\\Users\\\\m-gre\\\\Documents\\\\Advanced Machine Learning\\\\uni-bremen-aml-course\\\\Mario\\\\Exercise_1\\\\cifar10\\\\train\\\\airplane\\\\0502.png airplane',\n",
       " 'C:\\\\Users\\\\m-gre\\\\Documents\\\\Advanced Machine Learning\\\\uni-bremen-aml-course\\\\Mario\\\\Exercise_1\\\\cifar10\\\\train\\\\airplane\\\\0503.png airplane',\n",
       " 'C:\\\\Users\\\\m-gre\\\\Documents\\\\Advanced Machine Learning\\\\uni-bremen-aml-course\\\\Mario\\\\Exercise_1\\\\cifar10\\\\train\\\\airplane\\\\0504.png airplane',\n",
       " 'C:\\\\Users\\\\m-gre\\\\Documents\\\\Advanced Machine Learning\\\\uni-bremen-aml-course\\\\Mario\\\\Exercise_1\\\\cifar10\\\\train\\\\airplane\\\\0505.png airplane',\n",
       " 'C:\\\\Users\\\\m-gre\\\\Documents\\\\Advanced Machine Learning\\\\uni-bremen-aml-course\\\\Mario\\\\Exercise_1\\\\cifar10\\\\train\\\\airplane\\\\0506.png airplane',\n",
       " 'C:\\\\Users\\\\m-gre\\\\Documents\\\\Advanced Machine Learning\\\\uni-bremen-aml-course\\\\Mario\\\\Exercise_1\\\\cifar10\\\\train\\\\airplane\\\\0507.png airplane',\n",
       " 'C:\\\\Users\\\\m-gre\\\\Documents\\\\Advanced Machine Learning\\\\uni-bremen-aml-course\\\\Mario\\\\Exercise_1\\\\cifar10\\\\train\\\\airplane\\\\0508.png airplane',\n",
       " 'C:\\\\Users\\\\m-gre\\\\Documents\\\\Advanced Machine Learning\\\\uni-bremen-aml-course\\\\Mario\\\\Exercise_1\\\\cifar10\\\\train\\\\airplane\\\\0509.png airplane',\n",
       " 'C:\\\\Users\\\\m-gre\\\\Documents\\\\Advanced Machine Learning\\\\uni-bremen-aml-course\\\\Mario\\\\Exercise_1\\\\cifar10\\\\train\\\\airplane\\\\0510.png airplane',\n",
       " 'C:\\\\Users\\\\m-gre\\\\Documents\\\\Advanced Machine Learning\\\\uni-bremen-aml-course\\\\Mario\\\\Exercise_1\\\\cifar10\\\\train\\\\airplane\\\\0511.png airplane',\n",
       " 'C:\\\\Users\\\\m-gre\\\\Documents\\\\Advanced Machine Learning\\\\uni-bremen-aml-course\\\\Mario\\\\Exercise_1\\\\cifar10\\\\train\\\\airplane\\\\0512.png airplane',\n",
       " 'C:\\\\Users\\\\m-gre\\\\Documents\\\\Advanced Machine Learning\\\\uni-bremen-aml-course\\\\Mario\\\\Exercise_1\\\\cifar10\\\\train\\\\airplane\\\\0513.png airplane',\n",
       " 'C:\\\\Users\\\\m-gre\\\\Documents\\\\Advanced Machine Learning\\\\uni-bremen-aml-course\\\\Mario\\\\Exercise_1\\\\cifar10\\\\train\\\\airplane\\\\0514.png airplane',\n",
       " 'C:\\\\Users\\\\m-gre\\\\Documents\\\\Advanced Machine Learning\\\\uni-bremen-aml-course\\\\Mario\\\\Exercise_1\\\\cifar10\\\\train\\\\airplane\\\\0515.png airplane',\n",
       " 'C:\\\\Users\\\\m-gre\\\\Documents\\\\Advanced Machine Learning\\\\uni-bremen-aml-course\\\\Mario\\\\Exercise_1\\\\cifar10\\\\train\\\\airplane\\\\0516.png airplane',\n",
       " 'C:\\\\Users\\\\m-gre\\\\Documents\\\\Advanced Machine Learning\\\\uni-bremen-aml-course\\\\Mario\\\\Exercise_1\\\\cifar10\\\\train\\\\airplane\\\\0517.png airplane',\n",
       " 'C:\\\\Users\\\\m-gre\\\\Documents\\\\Advanced Machine Learning\\\\uni-bremen-aml-course\\\\Mario\\\\Exercise_1\\\\cifar10\\\\train\\\\airplane\\\\0518.png airplane',\n",
       " 'C:\\\\Users\\\\m-gre\\\\Documents\\\\Advanced Machine Learning\\\\uni-bremen-aml-course\\\\Mario\\\\Exercise_1\\\\cifar10\\\\train\\\\airplane\\\\0519.png airplane',\n",
       " 'C:\\\\Users\\\\m-gre\\\\Documents\\\\Advanced Machine Learning\\\\uni-bremen-aml-course\\\\Mario\\\\Exercise_1\\\\cifar10\\\\train\\\\airplane\\\\0520.png airplane',\n",
       " 'C:\\\\Users\\\\m-gre\\\\Documents\\\\Advanced Machine Learning\\\\uni-bremen-aml-course\\\\Mario\\\\Exercise_1\\\\cifar10\\\\train\\\\airplane\\\\0521.png airplane',\n",
       " 'C:\\\\Users\\\\m-gre\\\\Documents\\\\Advanced Machine Learning\\\\uni-bremen-aml-course\\\\Mario\\\\Exercise_1\\\\cifar10\\\\train\\\\airplane\\\\0522.png airplane',\n",
       " 'C:\\\\Users\\\\m-gre\\\\Documents\\\\Advanced Machine Learning\\\\uni-bremen-aml-course\\\\Mario\\\\Exercise_1\\\\cifar10\\\\train\\\\airplane\\\\0523.png airplane',\n",
       " 'C:\\\\Users\\\\m-gre\\\\Documents\\\\Advanced Machine Learning\\\\uni-bremen-aml-course\\\\Mario\\\\Exercise_1\\\\cifar10\\\\train\\\\airplane\\\\0524.png airplane',\n",
       " 'C:\\\\Users\\\\m-gre\\\\Documents\\\\Advanced Machine Learning\\\\uni-bremen-aml-course\\\\Mario\\\\Exercise_1\\\\cifar10\\\\train\\\\airplane\\\\0525.png airplane',\n",
       " 'C:\\\\Users\\\\m-gre\\\\Documents\\\\Advanced Machine Learning\\\\uni-bremen-aml-course\\\\Mario\\\\Exercise_1\\\\cifar10\\\\train\\\\airplane\\\\0526.png airplane',\n",
       " 'C:\\\\Users\\\\m-gre\\\\Documents\\\\Advanced Machine Learning\\\\uni-bremen-aml-course\\\\Mario\\\\Exercise_1\\\\cifar10\\\\train\\\\airplane\\\\0527.png airplane',\n",
       " 'C:\\\\Users\\\\m-gre\\\\Documents\\\\Advanced Machine Learning\\\\uni-bremen-aml-course\\\\Mario\\\\Exercise_1\\\\cifar10\\\\train\\\\airplane\\\\0528.png airplane',\n",
       " 'C:\\\\Users\\\\m-gre\\\\Documents\\\\Advanced Machine Learning\\\\uni-bremen-aml-course\\\\Mario\\\\Exercise_1\\\\cifar10\\\\train\\\\airplane\\\\0529.png airplane',\n",
       " 'C:\\\\Users\\\\m-gre\\\\Documents\\\\Advanced Machine Learning\\\\uni-bremen-aml-course\\\\Mario\\\\Exercise_1\\\\cifar10\\\\train\\\\airplane\\\\0530.png airplane',\n",
       " 'C:\\\\Users\\\\m-gre\\\\Documents\\\\Advanced Machine Learning\\\\uni-bremen-aml-course\\\\Mario\\\\Exercise_1\\\\cifar10\\\\train\\\\airplane\\\\0531.png airplane',\n",
       " 'C:\\\\Users\\\\m-gre\\\\Documents\\\\Advanced Machine Learning\\\\uni-bremen-aml-course\\\\Mario\\\\Exercise_1\\\\cifar10\\\\train\\\\airplane\\\\0532.png airplane',\n",
       " 'C:\\\\Users\\\\m-gre\\\\Documents\\\\Advanced Machine Learning\\\\uni-bremen-aml-course\\\\Mario\\\\Exercise_1\\\\cifar10\\\\train\\\\airplane\\\\0533.png airplane',\n",
       " 'C:\\\\Users\\\\m-gre\\\\Documents\\\\Advanced Machine Learning\\\\uni-bremen-aml-course\\\\Mario\\\\Exercise_1\\\\cifar10\\\\train\\\\airplane\\\\0534.png airplane',\n",
       " 'C:\\\\Users\\\\m-gre\\\\Documents\\\\Advanced Machine Learning\\\\uni-bremen-aml-course\\\\Mario\\\\Exercise_1\\\\cifar10\\\\train\\\\airplane\\\\0535.png airplane',\n",
       " 'C:\\\\Users\\\\m-gre\\\\Documents\\\\Advanced Machine Learning\\\\uni-bremen-aml-course\\\\Mario\\\\Exercise_1\\\\cifar10\\\\train\\\\airplane\\\\0536.png airplane',\n",
       " 'C:\\\\Users\\\\m-gre\\\\Documents\\\\Advanced Machine Learning\\\\uni-bremen-aml-course\\\\Mario\\\\Exercise_1\\\\cifar10\\\\train\\\\airplane\\\\0537.png airplane',\n",
       " 'C:\\\\Users\\\\m-gre\\\\Documents\\\\Advanced Machine Learning\\\\uni-bremen-aml-course\\\\Mario\\\\Exercise_1\\\\cifar10\\\\train\\\\airplane\\\\0538.png airplane',\n",
       " 'C:\\\\Users\\\\m-gre\\\\Documents\\\\Advanced Machine Learning\\\\uni-bremen-aml-course\\\\Mario\\\\Exercise_1\\\\cifar10\\\\train\\\\airplane\\\\0539.png airplane',\n",
       " 'C:\\\\Users\\\\m-gre\\\\Documents\\\\Advanced Machine Learning\\\\uni-bremen-aml-course\\\\Mario\\\\Exercise_1\\\\cifar10\\\\train\\\\airplane\\\\0540.png airplane',\n",
       " 'C:\\\\Users\\\\m-gre\\\\Documents\\\\Advanced Machine Learning\\\\uni-bremen-aml-course\\\\Mario\\\\Exercise_1\\\\cifar10\\\\train\\\\airplane\\\\0541.png airplane',\n",
       " 'C:\\\\Users\\\\m-gre\\\\Documents\\\\Advanced Machine Learning\\\\uni-bremen-aml-course\\\\Mario\\\\Exercise_1\\\\cifar10\\\\train\\\\airplane\\\\0542.png airplane',\n",
       " 'C:\\\\Users\\\\m-gre\\\\Documents\\\\Advanced Machine Learning\\\\uni-bremen-aml-course\\\\Mario\\\\Exercise_1\\\\cifar10\\\\train\\\\airplane\\\\0543.png airplane',\n",
       " 'C:\\\\Users\\\\m-gre\\\\Documents\\\\Advanced Machine Learning\\\\uni-bremen-aml-course\\\\Mario\\\\Exercise_1\\\\cifar10\\\\train\\\\airplane\\\\0544.png airplane',\n",
       " 'C:\\\\Users\\\\m-gre\\\\Documents\\\\Advanced Machine Learning\\\\uni-bremen-aml-course\\\\Mario\\\\Exercise_1\\\\cifar10\\\\train\\\\airplane\\\\0545.png airplane',\n",
       " 'C:\\\\Users\\\\m-gre\\\\Documents\\\\Advanced Machine Learning\\\\uni-bremen-aml-course\\\\Mario\\\\Exercise_1\\\\cifar10\\\\train\\\\airplane\\\\0546.png airplane',\n",
       " 'C:\\\\Users\\\\m-gre\\\\Documents\\\\Advanced Machine Learning\\\\uni-bremen-aml-course\\\\Mario\\\\Exercise_1\\\\cifar10\\\\train\\\\airplane\\\\0547.png airplane',\n",
       " 'C:\\\\Users\\\\m-gre\\\\Documents\\\\Advanced Machine Learning\\\\uni-bremen-aml-course\\\\Mario\\\\Exercise_1\\\\cifar10\\\\train\\\\airplane\\\\0548.png airplane',\n",
       " 'C:\\\\Users\\\\m-gre\\\\Documents\\\\Advanced Machine Learning\\\\uni-bremen-aml-course\\\\Mario\\\\Exercise_1\\\\cifar10\\\\train\\\\airplane\\\\0549.png airplane',\n",
       " 'C:\\\\Users\\\\m-gre\\\\Documents\\\\Advanced Machine Learning\\\\uni-bremen-aml-course\\\\Mario\\\\Exercise_1\\\\cifar10\\\\train\\\\airplane\\\\0550.png airplane',\n",
       " 'C:\\\\Users\\\\m-gre\\\\Documents\\\\Advanced Machine Learning\\\\uni-bremen-aml-course\\\\Mario\\\\Exercise_1\\\\cifar10\\\\train\\\\airplane\\\\0551.png airplane',\n",
       " 'C:\\\\Users\\\\m-gre\\\\Documents\\\\Advanced Machine Learning\\\\uni-bremen-aml-course\\\\Mario\\\\Exercise_1\\\\cifar10\\\\train\\\\airplane\\\\0552.png airplane',\n",
       " 'C:\\\\Users\\\\m-gre\\\\Documents\\\\Advanced Machine Learning\\\\uni-bremen-aml-course\\\\Mario\\\\Exercise_1\\\\cifar10\\\\train\\\\airplane\\\\0553.png airplane',\n",
       " 'C:\\\\Users\\\\m-gre\\\\Documents\\\\Advanced Machine Learning\\\\uni-bremen-aml-course\\\\Mario\\\\Exercise_1\\\\cifar10\\\\train\\\\airplane\\\\0554.png airplane',\n",
       " 'C:\\\\Users\\\\m-gre\\\\Documents\\\\Advanced Machine Learning\\\\uni-bremen-aml-course\\\\Mario\\\\Exercise_1\\\\cifar10\\\\train\\\\airplane\\\\0555.png airplane',\n",
       " 'C:\\\\Users\\\\m-gre\\\\Documents\\\\Advanced Machine Learning\\\\uni-bremen-aml-course\\\\Mario\\\\Exercise_1\\\\cifar10\\\\train\\\\airplane\\\\0556.png airplane',\n",
       " 'C:\\\\Users\\\\m-gre\\\\Documents\\\\Advanced Machine Learning\\\\uni-bremen-aml-course\\\\Mario\\\\Exercise_1\\\\cifar10\\\\train\\\\airplane\\\\0557.png airplane',\n",
       " 'C:\\\\Users\\\\m-gre\\\\Documents\\\\Advanced Machine Learning\\\\uni-bremen-aml-course\\\\Mario\\\\Exercise_1\\\\cifar10\\\\train\\\\airplane\\\\0558.png airplane',\n",
       " 'C:\\\\Users\\\\m-gre\\\\Documents\\\\Advanced Machine Learning\\\\uni-bremen-aml-course\\\\Mario\\\\Exercise_1\\\\cifar10\\\\train\\\\airplane\\\\0559.png airplane',\n",
       " 'C:\\\\Users\\\\m-gre\\\\Documents\\\\Advanced Machine Learning\\\\uni-bremen-aml-course\\\\Mario\\\\Exercise_1\\\\cifar10\\\\train\\\\airplane\\\\0560.png airplane',\n",
       " 'C:\\\\Users\\\\m-gre\\\\Documents\\\\Advanced Machine Learning\\\\uni-bremen-aml-course\\\\Mario\\\\Exercise_1\\\\cifar10\\\\train\\\\airplane\\\\0561.png airplane',\n",
       " 'C:\\\\Users\\\\m-gre\\\\Documents\\\\Advanced Machine Learning\\\\uni-bremen-aml-course\\\\Mario\\\\Exercise_1\\\\cifar10\\\\train\\\\airplane\\\\0562.png airplane',\n",
       " 'C:\\\\Users\\\\m-gre\\\\Documents\\\\Advanced Machine Learning\\\\uni-bremen-aml-course\\\\Mario\\\\Exercise_1\\\\cifar10\\\\train\\\\airplane\\\\0563.png airplane',\n",
       " 'C:\\\\Users\\\\m-gre\\\\Documents\\\\Advanced Machine Learning\\\\uni-bremen-aml-course\\\\Mario\\\\Exercise_1\\\\cifar10\\\\train\\\\airplane\\\\0564.png airplane',\n",
       " 'C:\\\\Users\\\\m-gre\\\\Documents\\\\Advanced Machine Learning\\\\uni-bremen-aml-course\\\\Mario\\\\Exercise_1\\\\cifar10\\\\train\\\\airplane\\\\0565.png airplane',\n",
       " 'C:\\\\Users\\\\m-gre\\\\Documents\\\\Advanced Machine Learning\\\\uni-bremen-aml-course\\\\Mario\\\\Exercise_1\\\\cifar10\\\\train\\\\airplane\\\\0566.png airplane',\n",
       " 'C:\\\\Users\\\\m-gre\\\\Documents\\\\Advanced Machine Learning\\\\uni-bremen-aml-course\\\\Mario\\\\Exercise_1\\\\cifar10\\\\train\\\\airplane\\\\0567.png airplane',\n",
       " 'C:\\\\Users\\\\m-gre\\\\Documents\\\\Advanced Machine Learning\\\\uni-bremen-aml-course\\\\Mario\\\\Exercise_1\\\\cifar10\\\\train\\\\airplane\\\\0568.png airplane',\n",
       " 'C:\\\\Users\\\\m-gre\\\\Documents\\\\Advanced Machine Learning\\\\uni-bremen-aml-course\\\\Mario\\\\Exercise_1\\\\cifar10\\\\train\\\\airplane\\\\0569.png airplane',\n",
       " 'C:\\\\Users\\\\m-gre\\\\Documents\\\\Advanced Machine Learning\\\\uni-bremen-aml-course\\\\Mario\\\\Exercise_1\\\\cifar10\\\\train\\\\airplane\\\\0570.png airplane',\n",
       " 'C:\\\\Users\\\\m-gre\\\\Documents\\\\Advanced Machine Learning\\\\uni-bremen-aml-course\\\\Mario\\\\Exercise_1\\\\cifar10\\\\train\\\\airplane\\\\0571.png airplane',\n",
       " 'C:\\\\Users\\\\m-gre\\\\Documents\\\\Advanced Machine Learning\\\\uni-bremen-aml-course\\\\Mario\\\\Exercise_1\\\\cifar10\\\\train\\\\airplane\\\\0572.png airplane',\n",
       " 'C:\\\\Users\\\\m-gre\\\\Documents\\\\Advanced Machine Learning\\\\uni-bremen-aml-course\\\\Mario\\\\Exercise_1\\\\cifar10\\\\train\\\\airplane\\\\0573.png airplane',\n",
       " 'C:\\\\Users\\\\m-gre\\\\Documents\\\\Advanced Machine Learning\\\\uni-bremen-aml-course\\\\Mario\\\\Exercise_1\\\\cifar10\\\\train\\\\airplane\\\\0574.png airplane',\n",
       " 'C:\\\\Users\\\\m-gre\\\\Documents\\\\Advanced Machine Learning\\\\uni-bremen-aml-course\\\\Mario\\\\Exercise_1\\\\cifar10\\\\train\\\\airplane\\\\0575.png airplane',\n",
       " 'C:\\\\Users\\\\m-gre\\\\Documents\\\\Advanced Machine Learning\\\\uni-bremen-aml-course\\\\Mario\\\\Exercise_1\\\\cifar10\\\\train\\\\airplane\\\\0576.png airplane',\n",
       " 'C:\\\\Users\\\\m-gre\\\\Documents\\\\Advanced Machine Learning\\\\uni-bremen-aml-course\\\\Mario\\\\Exercise_1\\\\cifar10\\\\train\\\\airplane\\\\0577.png airplane',\n",
       " 'C:\\\\Users\\\\m-gre\\\\Documents\\\\Advanced Machine Learning\\\\uni-bremen-aml-course\\\\Mario\\\\Exercise_1\\\\cifar10\\\\train\\\\airplane\\\\0578.png airplane',\n",
       " 'C:\\\\Users\\\\m-gre\\\\Documents\\\\Advanced Machine Learning\\\\uni-bremen-aml-course\\\\Mario\\\\Exercise_1\\\\cifar10\\\\train\\\\airplane\\\\0579.png airplane',\n",
       " 'C:\\\\Users\\\\m-gre\\\\Documents\\\\Advanced Machine Learning\\\\uni-bremen-aml-course\\\\Mario\\\\Exercise_1\\\\cifar10\\\\train\\\\airplane\\\\0580.png airplane',\n",
       " 'C:\\\\Users\\\\m-gre\\\\Documents\\\\Advanced Machine Learning\\\\uni-bremen-aml-course\\\\Mario\\\\Exercise_1\\\\cifar10\\\\train\\\\airplane\\\\0581.png airplane',\n",
       " 'C:\\\\Users\\\\m-gre\\\\Documents\\\\Advanced Machine Learning\\\\uni-bremen-aml-course\\\\Mario\\\\Exercise_1\\\\cifar10\\\\train\\\\airplane\\\\0582.png airplane',\n",
       " 'C:\\\\Users\\\\m-gre\\\\Documents\\\\Advanced Machine Learning\\\\uni-bremen-aml-course\\\\Mario\\\\Exercise_1\\\\cifar10\\\\train\\\\airplane\\\\0583.png airplane',\n",
       " 'C:\\\\Users\\\\m-gre\\\\Documents\\\\Advanced Machine Learning\\\\uni-bremen-aml-course\\\\Mario\\\\Exercise_1\\\\cifar10\\\\train\\\\airplane\\\\0584.png airplane',\n",
       " 'C:\\\\Users\\\\m-gre\\\\Documents\\\\Advanced Machine Learning\\\\uni-bremen-aml-course\\\\Mario\\\\Exercise_1\\\\cifar10\\\\train\\\\airplane\\\\0585.png airplane',\n",
       " 'C:\\\\Users\\\\m-gre\\\\Documents\\\\Advanced Machine Learning\\\\uni-bremen-aml-course\\\\Mario\\\\Exercise_1\\\\cifar10\\\\train\\\\airplane\\\\0586.png airplane',\n",
       " 'C:\\\\Users\\\\m-gre\\\\Documents\\\\Advanced Machine Learning\\\\uni-bremen-aml-course\\\\Mario\\\\Exercise_1\\\\cifar10\\\\train\\\\airplane\\\\0587.png airplane',\n",
       " 'C:\\\\Users\\\\m-gre\\\\Documents\\\\Advanced Machine Learning\\\\uni-bremen-aml-course\\\\Mario\\\\Exercise_1\\\\cifar10\\\\train\\\\airplane\\\\0588.png airplane',\n",
       " 'C:\\\\Users\\\\m-gre\\\\Documents\\\\Advanced Machine Learning\\\\uni-bremen-aml-course\\\\Mario\\\\Exercise_1\\\\cifar10\\\\train\\\\airplane\\\\0589.png airplane',\n",
       " 'C:\\\\Users\\\\m-gre\\\\Documents\\\\Advanced Machine Learning\\\\uni-bremen-aml-course\\\\Mario\\\\Exercise_1\\\\cifar10\\\\train\\\\airplane\\\\0590.png airplane',\n",
       " 'C:\\\\Users\\\\m-gre\\\\Documents\\\\Advanced Machine Learning\\\\uni-bremen-aml-course\\\\Mario\\\\Exercise_1\\\\cifar10\\\\train\\\\airplane\\\\0591.png airplane',\n",
       " 'C:\\\\Users\\\\m-gre\\\\Documents\\\\Advanced Machine Learning\\\\uni-bremen-aml-course\\\\Mario\\\\Exercise_1\\\\cifar10\\\\train\\\\airplane\\\\0592.png airplane',\n",
       " 'C:\\\\Users\\\\m-gre\\\\Documents\\\\Advanced Machine Learning\\\\uni-bremen-aml-course\\\\Mario\\\\Exercise_1\\\\cifar10\\\\train\\\\airplane\\\\0593.png airplane',\n",
       " 'C:\\\\Users\\\\m-gre\\\\Documents\\\\Advanced Machine Learning\\\\uni-bremen-aml-course\\\\Mario\\\\Exercise_1\\\\cifar10\\\\train\\\\airplane\\\\0594.png airplane',\n",
       " 'C:\\\\Users\\\\m-gre\\\\Documents\\\\Advanced Machine Learning\\\\uni-bremen-aml-course\\\\Mario\\\\Exercise_1\\\\cifar10\\\\train\\\\airplane\\\\0595.png airplane',\n",
       " 'C:\\\\Users\\\\m-gre\\\\Documents\\\\Advanced Machine Learning\\\\uni-bremen-aml-course\\\\Mario\\\\Exercise_1\\\\cifar10\\\\train\\\\airplane\\\\0596.png airplane',\n",
       " 'C:\\\\Users\\\\m-gre\\\\Documents\\\\Advanced Machine Learning\\\\uni-bremen-aml-course\\\\Mario\\\\Exercise_1\\\\cifar10\\\\train\\\\airplane\\\\0597.png airplane',\n",
       " 'C:\\\\Users\\\\m-gre\\\\Documents\\\\Advanced Machine Learning\\\\uni-bremen-aml-course\\\\Mario\\\\Exercise_1\\\\cifar10\\\\train\\\\airplane\\\\0598.png airplane',\n",
       " 'C:\\\\Users\\\\m-gre\\\\Documents\\\\Advanced Machine Learning\\\\uni-bremen-aml-course\\\\Mario\\\\Exercise_1\\\\cifar10\\\\train\\\\airplane\\\\0599.png airplane',\n",
       " 'C:\\\\Users\\\\m-gre\\\\Documents\\\\Advanced Machine Learning\\\\uni-bremen-aml-course\\\\Mario\\\\Exercise_1\\\\cifar10\\\\train\\\\airplane\\\\0600.png airplane',\n",
       " 'C:\\\\Users\\\\m-gre\\\\Documents\\\\Advanced Machine Learning\\\\uni-bremen-aml-course\\\\Mario\\\\Exercise_1\\\\cifar10\\\\train\\\\airplane\\\\0601.png airplane',\n",
       " 'C:\\\\Users\\\\m-gre\\\\Documents\\\\Advanced Machine Learning\\\\uni-bremen-aml-course\\\\Mario\\\\Exercise_1\\\\cifar10\\\\train\\\\airplane\\\\0602.png airplane',\n",
       " 'C:\\\\Users\\\\m-gre\\\\Documents\\\\Advanced Machine Learning\\\\uni-bremen-aml-course\\\\Mario\\\\Exercise_1\\\\cifar10\\\\train\\\\airplane\\\\0603.png airplane',\n",
       " 'C:\\\\Users\\\\m-gre\\\\Documents\\\\Advanced Machine Learning\\\\uni-bremen-aml-course\\\\Mario\\\\Exercise_1\\\\cifar10\\\\train\\\\airplane\\\\0604.png airplane',\n",
       " 'C:\\\\Users\\\\m-gre\\\\Documents\\\\Advanced Machine Learning\\\\uni-bremen-aml-course\\\\Mario\\\\Exercise_1\\\\cifar10\\\\train\\\\airplane\\\\0605.png airplane',\n",
       " 'C:\\\\Users\\\\m-gre\\\\Documents\\\\Advanced Machine Learning\\\\uni-bremen-aml-course\\\\Mario\\\\Exercise_1\\\\cifar10\\\\train\\\\airplane\\\\0606.png airplane',\n",
       " 'C:\\\\Users\\\\m-gre\\\\Documents\\\\Advanced Machine Learning\\\\uni-bremen-aml-course\\\\Mario\\\\Exercise_1\\\\cifar10\\\\train\\\\airplane\\\\0607.png airplane',\n",
       " 'C:\\\\Users\\\\m-gre\\\\Documents\\\\Advanced Machine Learning\\\\uni-bremen-aml-course\\\\Mario\\\\Exercise_1\\\\cifar10\\\\train\\\\airplane\\\\0608.png airplane',\n",
       " 'C:\\\\Users\\\\m-gre\\\\Documents\\\\Advanced Machine Learning\\\\uni-bremen-aml-course\\\\Mario\\\\Exercise_1\\\\cifar10\\\\train\\\\airplane\\\\0609.png airplane',\n",
       " 'C:\\\\Users\\\\m-gre\\\\Documents\\\\Advanced Machine Learning\\\\uni-bremen-aml-course\\\\Mario\\\\Exercise_1\\\\cifar10\\\\train\\\\airplane\\\\0610.png airplane',\n",
       " 'C:\\\\Users\\\\m-gre\\\\Documents\\\\Advanced Machine Learning\\\\uni-bremen-aml-course\\\\Mario\\\\Exercise_1\\\\cifar10\\\\train\\\\airplane\\\\0611.png airplane',\n",
       " 'C:\\\\Users\\\\m-gre\\\\Documents\\\\Advanced Machine Learning\\\\uni-bremen-aml-course\\\\Mario\\\\Exercise_1\\\\cifar10\\\\train\\\\airplane\\\\0612.png airplane',\n",
       " 'C:\\\\Users\\\\m-gre\\\\Documents\\\\Advanced Machine Learning\\\\uni-bremen-aml-course\\\\Mario\\\\Exercise_1\\\\cifar10\\\\train\\\\airplane\\\\0613.png airplane',\n",
       " 'C:\\\\Users\\\\m-gre\\\\Documents\\\\Advanced Machine Learning\\\\uni-bremen-aml-course\\\\Mario\\\\Exercise_1\\\\cifar10\\\\train\\\\airplane\\\\0614.png airplane',\n",
       " 'C:\\\\Users\\\\m-gre\\\\Documents\\\\Advanced Machine Learning\\\\uni-bremen-aml-course\\\\Mario\\\\Exercise_1\\\\cifar10\\\\train\\\\airplane\\\\0615.png airplane',\n",
       " 'C:\\\\Users\\\\m-gre\\\\Documents\\\\Advanced Machine Learning\\\\uni-bremen-aml-course\\\\Mario\\\\Exercise_1\\\\cifar10\\\\train\\\\airplane\\\\0616.png airplane',\n",
       " 'C:\\\\Users\\\\m-gre\\\\Documents\\\\Advanced Machine Learning\\\\uni-bremen-aml-course\\\\Mario\\\\Exercise_1\\\\cifar10\\\\train\\\\airplane\\\\0617.png airplane',\n",
       " 'C:\\\\Users\\\\m-gre\\\\Documents\\\\Advanced Machine Learning\\\\uni-bremen-aml-course\\\\Mario\\\\Exercise_1\\\\cifar10\\\\train\\\\airplane\\\\0618.png airplane',\n",
       " 'C:\\\\Users\\\\m-gre\\\\Documents\\\\Advanced Machine Learning\\\\uni-bremen-aml-course\\\\Mario\\\\Exercise_1\\\\cifar10\\\\train\\\\airplane\\\\0619.png airplane',\n",
       " 'C:\\\\Users\\\\m-gre\\\\Documents\\\\Advanced Machine Learning\\\\uni-bremen-aml-course\\\\Mario\\\\Exercise_1\\\\cifar10\\\\train\\\\airplane\\\\0620.png airplane',\n",
       " 'C:\\\\Users\\\\m-gre\\\\Documents\\\\Advanced Machine Learning\\\\uni-bremen-aml-course\\\\Mario\\\\Exercise_1\\\\cifar10\\\\train\\\\airplane\\\\0621.png airplane',\n",
       " 'C:\\\\Users\\\\m-gre\\\\Documents\\\\Advanced Machine Learning\\\\uni-bremen-aml-course\\\\Mario\\\\Exercise_1\\\\cifar10\\\\train\\\\airplane\\\\0622.png airplane',\n",
       " 'C:\\\\Users\\\\m-gre\\\\Documents\\\\Advanced Machine Learning\\\\uni-bremen-aml-course\\\\Mario\\\\Exercise_1\\\\cifar10\\\\train\\\\airplane\\\\0623.png airplane',\n",
       " 'C:\\\\Users\\\\m-gre\\\\Documents\\\\Advanced Machine Learning\\\\uni-bremen-aml-course\\\\Mario\\\\Exercise_1\\\\cifar10\\\\train\\\\airplane\\\\0624.png airplane',\n",
       " 'C:\\\\Users\\\\m-gre\\\\Documents\\\\Advanced Machine Learning\\\\uni-bremen-aml-course\\\\Mario\\\\Exercise_1\\\\cifar10\\\\train\\\\airplane\\\\0625.png airplane',\n",
       " 'C:\\\\Users\\\\m-gre\\\\Documents\\\\Advanced Machine Learning\\\\uni-bremen-aml-course\\\\Mario\\\\Exercise_1\\\\cifar10\\\\train\\\\airplane\\\\0626.png airplane',\n",
       " 'C:\\\\Users\\\\m-gre\\\\Documents\\\\Advanced Machine Learning\\\\uni-bremen-aml-course\\\\Mario\\\\Exercise_1\\\\cifar10\\\\train\\\\airplane\\\\0627.png airplane',\n",
       " 'C:\\\\Users\\\\m-gre\\\\Documents\\\\Advanced Machine Learning\\\\uni-bremen-aml-course\\\\Mario\\\\Exercise_1\\\\cifar10\\\\train\\\\airplane\\\\0628.png airplane',\n",
       " 'C:\\\\Users\\\\m-gre\\\\Documents\\\\Advanced Machine Learning\\\\uni-bremen-aml-course\\\\Mario\\\\Exercise_1\\\\cifar10\\\\train\\\\airplane\\\\0629.png airplane',\n",
       " 'C:\\\\Users\\\\m-gre\\\\Documents\\\\Advanced Machine Learning\\\\uni-bremen-aml-course\\\\Mario\\\\Exercise_1\\\\cifar10\\\\train\\\\airplane\\\\0630.png airplane',\n",
       " 'C:\\\\Users\\\\m-gre\\\\Documents\\\\Advanced Machine Learning\\\\uni-bremen-aml-course\\\\Mario\\\\Exercise_1\\\\cifar10\\\\train\\\\airplane\\\\0631.png airplane',\n",
       " 'C:\\\\Users\\\\m-gre\\\\Documents\\\\Advanced Machine Learning\\\\uni-bremen-aml-course\\\\Mario\\\\Exercise_1\\\\cifar10\\\\train\\\\airplane\\\\0632.png airplane',\n",
       " 'C:\\\\Users\\\\m-gre\\\\Documents\\\\Advanced Machine Learning\\\\uni-bremen-aml-course\\\\Mario\\\\Exercise_1\\\\cifar10\\\\train\\\\airplane\\\\0633.png airplane',\n",
       " 'C:\\\\Users\\\\m-gre\\\\Documents\\\\Advanced Machine Learning\\\\uni-bremen-aml-course\\\\Mario\\\\Exercise_1\\\\cifar10\\\\train\\\\airplane\\\\0634.png airplane',\n",
       " 'C:\\\\Users\\\\m-gre\\\\Documents\\\\Advanced Machine Learning\\\\uni-bremen-aml-course\\\\Mario\\\\Exercise_1\\\\cifar10\\\\train\\\\airplane\\\\0635.png airplane',\n",
       " 'C:\\\\Users\\\\m-gre\\\\Documents\\\\Advanced Machine Learning\\\\uni-bremen-aml-course\\\\Mario\\\\Exercise_1\\\\cifar10\\\\train\\\\airplane\\\\0636.png airplane',\n",
       " 'C:\\\\Users\\\\m-gre\\\\Documents\\\\Advanced Machine Learning\\\\uni-bremen-aml-course\\\\Mario\\\\Exercise_1\\\\cifar10\\\\train\\\\airplane\\\\0637.png airplane',\n",
       " 'C:\\\\Users\\\\m-gre\\\\Documents\\\\Advanced Machine Learning\\\\uni-bremen-aml-course\\\\Mario\\\\Exercise_1\\\\cifar10\\\\train\\\\airplane\\\\0638.png airplane',\n",
       " 'C:\\\\Users\\\\m-gre\\\\Documents\\\\Advanced Machine Learning\\\\uni-bremen-aml-course\\\\Mario\\\\Exercise_1\\\\cifar10\\\\train\\\\airplane\\\\0639.png airplane',\n",
       " 'C:\\\\Users\\\\m-gre\\\\Documents\\\\Advanced Machine Learning\\\\uni-bremen-aml-course\\\\Mario\\\\Exercise_1\\\\cifar10\\\\train\\\\airplane\\\\0640.png airplane',\n",
       " 'C:\\\\Users\\\\m-gre\\\\Documents\\\\Advanced Machine Learning\\\\uni-bremen-aml-course\\\\Mario\\\\Exercise_1\\\\cifar10\\\\train\\\\airplane\\\\0641.png airplane',\n",
       " 'C:\\\\Users\\\\m-gre\\\\Documents\\\\Advanced Machine Learning\\\\uni-bremen-aml-course\\\\Mario\\\\Exercise_1\\\\cifar10\\\\train\\\\airplane\\\\0642.png airplane',\n",
       " 'C:\\\\Users\\\\m-gre\\\\Documents\\\\Advanced Machine Learning\\\\uni-bremen-aml-course\\\\Mario\\\\Exercise_1\\\\cifar10\\\\train\\\\airplane\\\\0643.png airplane',\n",
       " 'C:\\\\Users\\\\m-gre\\\\Documents\\\\Advanced Machine Learning\\\\uni-bremen-aml-course\\\\Mario\\\\Exercise_1\\\\cifar10\\\\train\\\\airplane\\\\0644.png airplane',\n",
       " 'C:\\\\Users\\\\m-gre\\\\Documents\\\\Advanced Machine Learning\\\\uni-bremen-aml-course\\\\Mario\\\\Exercise_1\\\\cifar10\\\\train\\\\airplane\\\\0645.png airplane',\n",
       " 'C:\\\\Users\\\\m-gre\\\\Documents\\\\Advanced Machine Learning\\\\uni-bremen-aml-course\\\\Mario\\\\Exercise_1\\\\cifar10\\\\train\\\\airplane\\\\0646.png airplane',\n",
       " 'C:\\\\Users\\\\m-gre\\\\Documents\\\\Advanced Machine Learning\\\\uni-bremen-aml-course\\\\Mario\\\\Exercise_1\\\\cifar10\\\\train\\\\airplane\\\\0647.png airplane',\n",
       " 'C:\\\\Users\\\\m-gre\\\\Documents\\\\Advanced Machine Learning\\\\uni-bremen-aml-course\\\\Mario\\\\Exercise_1\\\\cifar10\\\\train\\\\airplane\\\\0648.png airplane',\n",
       " 'C:\\\\Users\\\\m-gre\\\\Documents\\\\Advanced Machine Learning\\\\uni-bremen-aml-course\\\\Mario\\\\Exercise_1\\\\cifar10\\\\train\\\\airplane\\\\0649.png airplane',\n",
       " 'C:\\\\Users\\\\m-gre\\\\Documents\\\\Advanced Machine Learning\\\\uni-bremen-aml-course\\\\Mario\\\\Exercise_1\\\\cifar10\\\\train\\\\airplane\\\\0650.png airplane',\n",
       " 'C:\\\\Users\\\\m-gre\\\\Documents\\\\Advanced Machine Learning\\\\uni-bremen-aml-course\\\\Mario\\\\Exercise_1\\\\cifar10\\\\train\\\\airplane\\\\0651.png airplane',\n",
       " 'C:\\\\Users\\\\m-gre\\\\Documents\\\\Advanced Machine Learning\\\\uni-bremen-aml-course\\\\Mario\\\\Exercise_1\\\\cifar10\\\\train\\\\airplane\\\\0652.png airplane',\n",
       " 'C:\\\\Users\\\\m-gre\\\\Documents\\\\Advanced Machine Learning\\\\uni-bremen-aml-course\\\\Mario\\\\Exercise_1\\\\cifar10\\\\train\\\\airplane\\\\0653.png airplane',\n",
       " 'C:\\\\Users\\\\m-gre\\\\Documents\\\\Advanced Machine Learning\\\\uni-bremen-aml-course\\\\Mario\\\\Exercise_1\\\\cifar10\\\\train\\\\airplane\\\\0654.png airplane',\n",
       " 'C:\\\\Users\\\\m-gre\\\\Documents\\\\Advanced Machine Learning\\\\uni-bremen-aml-course\\\\Mario\\\\Exercise_1\\\\cifar10\\\\train\\\\airplane\\\\0655.png airplane',\n",
       " 'C:\\\\Users\\\\m-gre\\\\Documents\\\\Advanced Machine Learning\\\\uni-bremen-aml-course\\\\Mario\\\\Exercise_1\\\\cifar10\\\\train\\\\airplane\\\\0656.png airplane',\n",
       " 'C:\\\\Users\\\\m-gre\\\\Documents\\\\Advanced Machine Learning\\\\uni-bremen-aml-course\\\\Mario\\\\Exercise_1\\\\cifar10\\\\train\\\\airplane\\\\0657.png airplane',\n",
       " 'C:\\\\Users\\\\m-gre\\\\Documents\\\\Advanced Machine Learning\\\\uni-bremen-aml-course\\\\Mario\\\\Exercise_1\\\\cifar10\\\\train\\\\airplane\\\\0658.png airplane',\n",
       " 'C:\\\\Users\\\\m-gre\\\\Documents\\\\Advanced Machine Learning\\\\uni-bremen-aml-course\\\\Mario\\\\Exercise_1\\\\cifar10\\\\train\\\\airplane\\\\0659.png airplane',\n",
       " 'C:\\\\Users\\\\m-gre\\\\Documents\\\\Advanced Machine Learning\\\\uni-bremen-aml-course\\\\Mario\\\\Exercise_1\\\\cifar10\\\\train\\\\airplane\\\\0660.png airplane',\n",
       " 'C:\\\\Users\\\\m-gre\\\\Documents\\\\Advanced Machine Learning\\\\uni-bremen-aml-course\\\\Mario\\\\Exercise_1\\\\cifar10\\\\train\\\\airplane\\\\0661.png airplane',\n",
       " 'C:\\\\Users\\\\m-gre\\\\Documents\\\\Advanced Machine Learning\\\\uni-bremen-aml-course\\\\Mario\\\\Exercise_1\\\\cifar10\\\\train\\\\airplane\\\\0662.png airplane',\n",
       " 'C:\\\\Users\\\\m-gre\\\\Documents\\\\Advanced Machine Learning\\\\uni-bremen-aml-course\\\\Mario\\\\Exercise_1\\\\cifar10\\\\train\\\\airplane\\\\0663.png airplane',\n",
       " 'C:\\\\Users\\\\m-gre\\\\Documents\\\\Advanced Machine Learning\\\\uni-bremen-aml-course\\\\Mario\\\\Exercise_1\\\\cifar10\\\\train\\\\airplane\\\\0664.png airplane',\n",
       " 'C:\\\\Users\\\\m-gre\\\\Documents\\\\Advanced Machine Learning\\\\uni-bremen-aml-course\\\\Mario\\\\Exercise_1\\\\cifar10\\\\train\\\\airplane\\\\0665.png airplane',\n",
       " 'C:\\\\Users\\\\m-gre\\\\Documents\\\\Advanced Machine Learning\\\\uni-bremen-aml-course\\\\Mario\\\\Exercise_1\\\\cifar10\\\\train\\\\airplane\\\\0666.png airplane',\n",
       " 'C:\\\\Users\\\\m-gre\\\\Documents\\\\Advanced Machine Learning\\\\uni-bremen-aml-course\\\\Mario\\\\Exercise_1\\\\cifar10\\\\train\\\\airplane\\\\0667.png airplane',\n",
       " 'C:\\\\Users\\\\m-gre\\\\Documents\\\\Advanced Machine Learning\\\\uni-bremen-aml-course\\\\Mario\\\\Exercise_1\\\\cifar10\\\\train\\\\airplane\\\\0668.png airplane',\n",
       " 'C:\\\\Users\\\\m-gre\\\\Documents\\\\Advanced Machine Learning\\\\uni-bremen-aml-course\\\\Mario\\\\Exercise_1\\\\cifar10\\\\train\\\\airplane\\\\0669.png airplane',\n",
       " 'C:\\\\Users\\\\m-gre\\\\Documents\\\\Advanced Machine Learning\\\\uni-bremen-aml-course\\\\Mario\\\\Exercise_1\\\\cifar10\\\\train\\\\airplane\\\\0670.png airplane',\n",
       " 'C:\\\\Users\\\\m-gre\\\\Documents\\\\Advanced Machine Learning\\\\uni-bremen-aml-course\\\\Mario\\\\Exercise_1\\\\cifar10\\\\train\\\\airplane\\\\0671.png airplane',\n",
       " 'C:\\\\Users\\\\m-gre\\\\Documents\\\\Advanced Machine Learning\\\\uni-bremen-aml-course\\\\Mario\\\\Exercise_1\\\\cifar10\\\\train\\\\airplane\\\\0672.png airplane',\n",
       " 'C:\\\\Users\\\\m-gre\\\\Documents\\\\Advanced Machine Learning\\\\uni-bremen-aml-course\\\\Mario\\\\Exercise_1\\\\cifar10\\\\train\\\\airplane\\\\0673.png airplane',\n",
       " 'C:\\\\Users\\\\m-gre\\\\Documents\\\\Advanced Machine Learning\\\\uni-bremen-aml-course\\\\Mario\\\\Exercise_1\\\\cifar10\\\\train\\\\airplane\\\\0674.png airplane',\n",
       " 'C:\\\\Users\\\\m-gre\\\\Documents\\\\Advanced Machine Learning\\\\uni-bremen-aml-course\\\\Mario\\\\Exercise_1\\\\cifar10\\\\train\\\\airplane\\\\0675.png airplane',\n",
       " 'C:\\\\Users\\\\m-gre\\\\Documents\\\\Advanced Machine Learning\\\\uni-bremen-aml-course\\\\Mario\\\\Exercise_1\\\\cifar10\\\\train\\\\airplane\\\\0676.png airplane',\n",
       " 'C:\\\\Users\\\\m-gre\\\\Documents\\\\Advanced Machine Learning\\\\uni-bremen-aml-course\\\\Mario\\\\Exercise_1\\\\cifar10\\\\train\\\\airplane\\\\0677.png airplane',\n",
       " 'C:\\\\Users\\\\m-gre\\\\Documents\\\\Advanced Machine Learning\\\\uni-bremen-aml-course\\\\Mario\\\\Exercise_1\\\\cifar10\\\\train\\\\airplane\\\\0678.png airplane',\n",
       " 'C:\\\\Users\\\\m-gre\\\\Documents\\\\Advanced Machine Learning\\\\uni-bremen-aml-course\\\\Mario\\\\Exercise_1\\\\cifar10\\\\train\\\\airplane\\\\0679.png airplane',\n",
       " 'C:\\\\Users\\\\m-gre\\\\Documents\\\\Advanced Machine Learning\\\\uni-bremen-aml-course\\\\Mario\\\\Exercise_1\\\\cifar10\\\\train\\\\airplane\\\\0680.png airplane',\n",
       " 'C:\\\\Users\\\\m-gre\\\\Documents\\\\Advanced Machine Learning\\\\uni-bremen-aml-course\\\\Mario\\\\Exercise_1\\\\cifar10\\\\train\\\\airplane\\\\0681.png airplane',\n",
       " 'C:\\\\Users\\\\m-gre\\\\Documents\\\\Advanced Machine Learning\\\\uni-bremen-aml-course\\\\Mario\\\\Exercise_1\\\\cifar10\\\\train\\\\airplane\\\\0682.png airplane',\n",
       " 'C:\\\\Users\\\\m-gre\\\\Documents\\\\Advanced Machine Learning\\\\uni-bremen-aml-course\\\\Mario\\\\Exercise_1\\\\cifar10\\\\train\\\\airplane\\\\0683.png airplane',\n",
       " 'C:\\\\Users\\\\m-gre\\\\Documents\\\\Advanced Machine Learning\\\\uni-bremen-aml-course\\\\Mario\\\\Exercise_1\\\\cifar10\\\\train\\\\airplane\\\\0684.png airplane',\n",
       " 'C:\\\\Users\\\\m-gre\\\\Documents\\\\Advanced Machine Learning\\\\uni-bremen-aml-course\\\\Mario\\\\Exercise_1\\\\cifar10\\\\train\\\\airplane\\\\0685.png airplane',\n",
       " 'C:\\\\Users\\\\m-gre\\\\Documents\\\\Advanced Machine Learning\\\\uni-bremen-aml-course\\\\Mario\\\\Exercise_1\\\\cifar10\\\\train\\\\airplane\\\\0686.png airplane',\n",
       " 'C:\\\\Users\\\\m-gre\\\\Documents\\\\Advanced Machine Learning\\\\uni-bremen-aml-course\\\\Mario\\\\Exercise_1\\\\cifar10\\\\train\\\\airplane\\\\0687.png airplane',\n",
       " 'C:\\\\Users\\\\m-gre\\\\Documents\\\\Advanced Machine Learning\\\\uni-bremen-aml-course\\\\Mario\\\\Exercise_1\\\\cifar10\\\\train\\\\airplane\\\\0688.png airplane',\n",
       " 'C:\\\\Users\\\\m-gre\\\\Documents\\\\Advanced Machine Learning\\\\uni-bremen-aml-course\\\\Mario\\\\Exercise_1\\\\cifar10\\\\train\\\\airplane\\\\0689.png airplane',\n",
       " 'C:\\\\Users\\\\m-gre\\\\Documents\\\\Advanced Machine Learning\\\\uni-bremen-aml-course\\\\Mario\\\\Exercise_1\\\\cifar10\\\\train\\\\airplane\\\\0690.png airplane',\n",
       " 'C:\\\\Users\\\\m-gre\\\\Documents\\\\Advanced Machine Learning\\\\uni-bremen-aml-course\\\\Mario\\\\Exercise_1\\\\cifar10\\\\train\\\\airplane\\\\0691.png airplane',\n",
       " 'C:\\\\Users\\\\m-gre\\\\Documents\\\\Advanced Machine Learning\\\\uni-bremen-aml-course\\\\Mario\\\\Exercise_1\\\\cifar10\\\\train\\\\airplane\\\\0692.png airplane',\n",
       " 'C:\\\\Users\\\\m-gre\\\\Documents\\\\Advanced Machine Learning\\\\uni-bremen-aml-course\\\\Mario\\\\Exercise_1\\\\cifar10\\\\train\\\\airplane\\\\0693.png airplane',\n",
       " 'C:\\\\Users\\\\m-gre\\\\Documents\\\\Advanced Machine Learning\\\\uni-bremen-aml-course\\\\Mario\\\\Exercise_1\\\\cifar10\\\\train\\\\airplane\\\\0694.png airplane',\n",
       " 'C:\\\\Users\\\\m-gre\\\\Documents\\\\Advanced Machine Learning\\\\uni-bremen-aml-course\\\\Mario\\\\Exercise_1\\\\cifar10\\\\train\\\\airplane\\\\0695.png airplane',\n",
       " 'C:\\\\Users\\\\m-gre\\\\Documents\\\\Advanced Machine Learning\\\\uni-bremen-aml-course\\\\Mario\\\\Exercise_1\\\\cifar10\\\\train\\\\airplane\\\\0696.png airplane',\n",
       " 'C:\\\\Users\\\\m-gre\\\\Documents\\\\Advanced Machine Learning\\\\uni-bremen-aml-course\\\\Mario\\\\Exercise_1\\\\cifar10\\\\train\\\\airplane\\\\0697.png airplane',\n",
       " 'C:\\\\Users\\\\m-gre\\\\Documents\\\\Advanced Machine Learning\\\\uni-bremen-aml-course\\\\Mario\\\\Exercise_1\\\\cifar10\\\\train\\\\airplane\\\\0698.png airplane',\n",
       " 'C:\\\\Users\\\\m-gre\\\\Documents\\\\Advanced Machine Learning\\\\uni-bremen-aml-course\\\\Mario\\\\Exercise_1\\\\cifar10\\\\train\\\\airplane\\\\0699.png airplane',\n",
       " 'C:\\\\Users\\\\m-gre\\\\Documents\\\\Advanced Machine Learning\\\\uni-bremen-aml-course\\\\Mario\\\\Exercise_1\\\\cifar10\\\\train\\\\airplane\\\\0700.png airplane',\n",
       " 'C:\\\\Users\\\\m-gre\\\\Documents\\\\Advanced Machine Learning\\\\uni-bremen-aml-course\\\\Mario\\\\Exercise_1\\\\cifar10\\\\train\\\\airplane\\\\0701.png airplane',\n",
       " 'C:\\\\Users\\\\m-gre\\\\Documents\\\\Advanced Machine Learning\\\\uni-bremen-aml-course\\\\Mario\\\\Exercise_1\\\\cifar10\\\\train\\\\airplane\\\\0702.png airplane',\n",
       " 'C:\\\\Users\\\\m-gre\\\\Documents\\\\Advanced Machine Learning\\\\uni-bremen-aml-course\\\\Mario\\\\Exercise_1\\\\cifar10\\\\train\\\\airplane\\\\0703.png airplane',\n",
       " 'C:\\\\Users\\\\m-gre\\\\Documents\\\\Advanced Machine Learning\\\\uni-bremen-aml-course\\\\Mario\\\\Exercise_1\\\\cifar10\\\\train\\\\airplane\\\\0704.png airplane',\n",
       " 'C:\\\\Users\\\\m-gre\\\\Documents\\\\Advanced Machine Learning\\\\uni-bremen-aml-course\\\\Mario\\\\Exercise_1\\\\cifar10\\\\train\\\\airplane\\\\0705.png airplane',\n",
       " 'C:\\\\Users\\\\m-gre\\\\Documents\\\\Advanced Machine Learning\\\\uni-bremen-aml-course\\\\Mario\\\\Exercise_1\\\\cifar10\\\\train\\\\airplane\\\\0706.png airplane',\n",
       " 'C:\\\\Users\\\\m-gre\\\\Documents\\\\Advanced Machine Learning\\\\uni-bremen-aml-course\\\\Mario\\\\Exercise_1\\\\cifar10\\\\train\\\\airplane\\\\0707.png airplane',\n",
       " 'C:\\\\Users\\\\m-gre\\\\Documents\\\\Advanced Machine Learning\\\\uni-bremen-aml-course\\\\Mario\\\\Exercise_1\\\\cifar10\\\\train\\\\airplane\\\\0708.png airplane',\n",
       " 'C:\\\\Users\\\\m-gre\\\\Documents\\\\Advanced Machine Learning\\\\uni-bremen-aml-course\\\\Mario\\\\Exercise_1\\\\cifar10\\\\train\\\\airplane\\\\0709.png airplane',\n",
       " 'C:\\\\Users\\\\m-gre\\\\Documents\\\\Advanced Machine Learning\\\\uni-bremen-aml-course\\\\Mario\\\\Exercise_1\\\\cifar10\\\\train\\\\airplane\\\\0710.png airplane',\n",
       " 'C:\\\\Users\\\\m-gre\\\\Documents\\\\Advanced Machine Learning\\\\uni-bremen-aml-course\\\\Mario\\\\Exercise_1\\\\cifar10\\\\train\\\\airplane\\\\0711.png airplane',\n",
       " 'C:\\\\Users\\\\m-gre\\\\Documents\\\\Advanced Machine Learning\\\\uni-bremen-aml-course\\\\Mario\\\\Exercise_1\\\\cifar10\\\\train\\\\airplane\\\\0712.png airplane',\n",
       " 'C:\\\\Users\\\\m-gre\\\\Documents\\\\Advanced Machine Learning\\\\uni-bremen-aml-course\\\\Mario\\\\Exercise_1\\\\cifar10\\\\train\\\\airplane\\\\0713.png airplane',\n",
       " 'C:\\\\Users\\\\m-gre\\\\Documents\\\\Advanced Machine Learning\\\\uni-bremen-aml-course\\\\Mario\\\\Exercise_1\\\\cifar10\\\\train\\\\airplane\\\\0714.png airplane',\n",
       " 'C:\\\\Users\\\\m-gre\\\\Documents\\\\Advanced Machine Learning\\\\uni-bremen-aml-course\\\\Mario\\\\Exercise_1\\\\cifar10\\\\train\\\\airplane\\\\0715.png airplane',\n",
       " 'C:\\\\Users\\\\m-gre\\\\Documents\\\\Advanced Machine Learning\\\\uni-bremen-aml-course\\\\Mario\\\\Exercise_1\\\\cifar10\\\\train\\\\airplane\\\\0716.png airplane',\n",
       " 'C:\\\\Users\\\\m-gre\\\\Documents\\\\Advanced Machine Learning\\\\uni-bremen-aml-course\\\\Mario\\\\Exercise_1\\\\cifar10\\\\train\\\\airplane\\\\0717.png airplane',\n",
       " 'C:\\\\Users\\\\m-gre\\\\Documents\\\\Advanced Machine Learning\\\\uni-bremen-aml-course\\\\Mario\\\\Exercise_1\\\\cifar10\\\\train\\\\airplane\\\\0718.png airplane',\n",
       " 'C:\\\\Users\\\\m-gre\\\\Documents\\\\Advanced Machine Learning\\\\uni-bremen-aml-course\\\\Mario\\\\Exercise_1\\\\cifar10\\\\train\\\\airplane\\\\0719.png airplane',\n",
       " 'C:\\\\Users\\\\m-gre\\\\Documents\\\\Advanced Machine Learning\\\\uni-bremen-aml-course\\\\Mario\\\\Exercise_1\\\\cifar10\\\\train\\\\airplane\\\\0720.png airplane',\n",
       " 'C:\\\\Users\\\\m-gre\\\\Documents\\\\Advanced Machine Learning\\\\uni-bremen-aml-course\\\\Mario\\\\Exercise_1\\\\cifar10\\\\train\\\\airplane\\\\0721.png airplane',\n",
       " 'C:\\\\Users\\\\m-gre\\\\Documents\\\\Advanced Machine Learning\\\\uni-bremen-aml-course\\\\Mario\\\\Exercise_1\\\\cifar10\\\\train\\\\airplane\\\\0722.png airplane',\n",
       " 'C:\\\\Users\\\\m-gre\\\\Documents\\\\Advanced Machine Learning\\\\uni-bremen-aml-course\\\\Mario\\\\Exercise_1\\\\cifar10\\\\train\\\\airplane\\\\0723.png airplane',\n",
       " 'C:\\\\Users\\\\m-gre\\\\Documents\\\\Advanced Machine Learning\\\\uni-bremen-aml-course\\\\Mario\\\\Exercise_1\\\\cifar10\\\\train\\\\airplane\\\\0724.png airplane',\n",
       " 'C:\\\\Users\\\\m-gre\\\\Documents\\\\Advanced Machine Learning\\\\uni-bremen-aml-course\\\\Mario\\\\Exercise_1\\\\cifar10\\\\train\\\\airplane\\\\0725.png airplane',\n",
       " 'C:\\\\Users\\\\m-gre\\\\Documents\\\\Advanced Machine Learning\\\\uni-bremen-aml-course\\\\Mario\\\\Exercise_1\\\\cifar10\\\\train\\\\airplane\\\\0726.png airplane',\n",
       " 'C:\\\\Users\\\\m-gre\\\\Documents\\\\Advanced Machine Learning\\\\uni-bremen-aml-course\\\\Mario\\\\Exercise_1\\\\cifar10\\\\train\\\\airplane\\\\0727.png airplane',\n",
       " 'C:\\\\Users\\\\m-gre\\\\Documents\\\\Advanced Machine Learning\\\\uni-bremen-aml-course\\\\Mario\\\\Exercise_1\\\\cifar10\\\\train\\\\airplane\\\\0728.png airplane',\n",
       " 'C:\\\\Users\\\\m-gre\\\\Documents\\\\Advanced Machine Learning\\\\uni-bremen-aml-course\\\\Mario\\\\Exercise_1\\\\cifar10\\\\train\\\\airplane\\\\0729.png airplane',\n",
       " 'C:\\\\Users\\\\m-gre\\\\Documents\\\\Advanced Machine Learning\\\\uni-bremen-aml-course\\\\Mario\\\\Exercise_1\\\\cifar10\\\\train\\\\airplane\\\\0730.png airplane',\n",
       " 'C:\\\\Users\\\\m-gre\\\\Documents\\\\Advanced Machine Learning\\\\uni-bremen-aml-course\\\\Mario\\\\Exercise_1\\\\cifar10\\\\train\\\\airplane\\\\0731.png airplane',\n",
       " 'C:\\\\Users\\\\m-gre\\\\Documents\\\\Advanced Machine Learning\\\\uni-bremen-aml-course\\\\Mario\\\\Exercise_1\\\\cifar10\\\\train\\\\airplane\\\\0732.png airplane',\n",
       " 'C:\\\\Users\\\\m-gre\\\\Documents\\\\Advanced Machine Learning\\\\uni-bremen-aml-course\\\\Mario\\\\Exercise_1\\\\cifar10\\\\train\\\\airplane\\\\0733.png airplane',\n",
       " 'C:\\\\Users\\\\m-gre\\\\Documents\\\\Advanced Machine Learning\\\\uni-bremen-aml-course\\\\Mario\\\\Exercise_1\\\\cifar10\\\\train\\\\airplane\\\\0734.png airplane',\n",
       " 'C:\\\\Users\\\\m-gre\\\\Documents\\\\Advanced Machine Learning\\\\uni-bremen-aml-course\\\\Mario\\\\Exercise_1\\\\cifar10\\\\train\\\\airplane\\\\0735.png airplane',\n",
       " 'C:\\\\Users\\\\m-gre\\\\Documents\\\\Advanced Machine Learning\\\\uni-bremen-aml-course\\\\Mario\\\\Exercise_1\\\\cifar10\\\\train\\\\airplane\\\\0736.png airplane',\n",
       " 'C:\\\\Users\\\\m-gre\\\\Documents\\\\Advanced Machine Learning\\\\uni-bremen-aml-course\\\\Mario\\\\Exercise_1\\\\cifar10\\\\train\\\\airplane\\\\0737.png airplane',\n",
       " 'C:\\\\Users\\\\m-gre\\\\Documents\\\\Advanced Machine Learning\\\\uni-bremen-aml-course\\\\Mario\\\\Exercise_1\\\\cifar10\\\\train\\\\airplane\\\\0738.png airplane',\n",
       " 'C:\\\\Users\\\\m-gre\\\\Documents\\\\Advanced Machine Learning\\\\uni-bremen-aml-course\\\\Mario\\\\Exercise_1\\\\cifar10\\\\train\\\\airplane\\\\0739.png airplane',\n",
       " 'C:\\\\Users\\\\m-gre\\\\Documents\\\\Advanced Machine Learning\\\\uni-bremen-aml-course\\\\Mario\\\\Exercise_1\\\\cifar10\\\\train\\\\airplane\\\\0740.png airplane',\n",
       " 'C:\\\\Users\\\\m-gre\\\\Documents\\\\Advanced Machine Learning\\\\uni-bremen-aml-course\\\\Mario\\\\Exercise_1\\\\cifar10\\\\train\\\\airplane\\\\0741.png airplane',\n",
       " 'C:\\\\Users\\\\m-gre\\\\Documents\\\\Advanced Machine Learning\\\\uni-bremen-aml-course\\\\Mario\\\\Exercise_1\\\\cifar10\\\\train\\\\airplane\\\\0742.png airplane',\n",
       " 'C:\\\\Users\\\\m-gre\\\\Documents\\\\Advanced Machine Learning\\\\uni-bremen-aml-course\\\\Mario\\\\Exercise_1\\\\cifar10\\\\train\\\\airplane\\\\0743.png airplane',\n",
       " 'C:\\\\Users\\\\m-gre\\\\Documents\\\\Advanced Machine Learning\\\\uni-bremen-aml-course\\\\Mario\\\\Exercise_1\\\\cifar10\\\\train\\\\airplane\\\\0744.png airplane',\n",
       " 'C:\\\\Users\\\\m-gre\\\\Documents\\\\Advanced Machine Learning\\\\uni-bremen-aml-course\\\\Mario\\\\Exercise_1\\\\cifar10\\\\train\\\\airplane\\\\0745.png airplane',\n",
       " 'C:\\\\Users\\\\m-gre\\\\Documents\\\\Advanced Machine Learning\\\\uni-bremen-aml-course\\\\Mario\\\\Exercise_1\\\\cifar10\\\\train\\\\airplane\\\\0746.png airplane',\n",
       " 'C:\\\\Users\\\\m-gre\\\\Documents\\\\Advanced Machine Learning\\\\uni-bremen-aml-course\\\\Mario\\\\Exercise_1\\\\cifar10\\\\train\\\\airplane\\\\0747.png airplane',\n",
       " 'C:\\\\Users\\\\m-gre\\\\Documents\\\\Advanced Machine Learning\\\\uni-bremen-aml-course\\\\Mario\\\\Exercise_1\\\\cifar10\\\\train\\\\airplane\\\\0748.png airplane',\n",
       " 'C:\\\\Users\\\\m-gre\\\\Documents\\\\Advanced Machine Learning\\\\uni-bremen-aml-course\\\\Mario\\\\Exercise_1\\\\cifar10\\\\train\\\\airplane\\\\0749.png airplane',\n",
       " 'C:\\\\Users\\\\m-gre\\\\Documents\\\\Advanced Machine Learning\\\\uni-bremen-aml-course\\\\Mario\\\\Exercise_1\\\\cifar10\\\\train\\\\airplane\\\\0750.png airplane',\n",
       " 'C:\\\\Users\\\\m-gre\\\\Documents\\\\Advanced Machine Learning\\\\uni-bremen-aml-course\\\\Mario\\\\Exercise_1\\\\cifar10\\\\train\\\\airplane\\\\0751.png airplane',\n",
       " 'C:\\\\Users\\\\m-gre\\\\Documents\\\\Advanced Machine Learning\\\\uni-bremen-aml-course\\\\Mario\\\\Exercise_1\\\\cifar10\\\\train\\\\airplane\\\\0752.png airplane',\n",
       " 'C:\\\\Users\\\\m-gre\\\\Documents\\\\Advanced Machine Learning\\\\uni-bremen-aml-course\\\\Mario\\\\Exercise_1\\\\cifar10\\\\train\\\\airplane\\\\0753.png airplane',\n",
       " 'C:\\\\Users\\\\m-gre\\\\Documents\\\\Advanced Machine Learning\\\\uni-bremen-aml-course\\\\Mario\\\\Exercise_1\\\\cifar10\\\\train\\\\airplane\\\\0754.png airplane',\n",
       " 'C:\\\\Users\\\\m-gre\\\\Documents\\\\Advanced Machine Learning\\\\uni-bremen-aml-course\\\\Mario\\\\Exercise_1\\\\cifar10\\\\train\\\\airplane\\\\0755.png airplane',\n",
       " 'C:\\\\Users\\\\m-gre\\\\Documents\\\\Advanced Machine Learning\\\\uni-bremen-aml-course\\\\Mario\\\\Exercise_1\\\\cifar10\\\\train\\\\airplane\\\\0756.png airplane',\n",
       " 'C:\\\\Users\\\\m-gre\\\\Documents\\\\Advanced Machine Learning\\\\uni-bremen-aml-course\\\\Mario\\\\Exercise_1\\\\cifar10\\\\train\\\\airplane\\\\0757.png airplane',\n",
       " 'C:\\\\Users\\\\m-gre\\\\Documents\\\\Advanced Machine Learning\\\\uni-bremen-aml-course\\\\Mario\\\\Exercise_1\\\\cifar10\\\\train\\\\airplane\\\\0758.png airplane',\n",
       " 'C:\\\\Users\\\\m-gre\\\\Documents\\\\Advanced Machine Learning\\\\uni-bremen-aml-course\\\\Mario\\\\Exercise_1\\\\cifar10\\\\train\\\\airplane\\\\0759.png airplane',\n",
       " 'C:\\\\Users\\\\m-gre\\\\Documents\\\\Advanced Machine Learning\\\\uni-bremen-aml-course\\\\Mario\\\\Exercise_1\\\\cifar10\\\\train\\\\airplane\\\\0760.png airplane',\n",
       " 'C:\\\\Users\\\\m-gre\\\\Documents\\\\Advanced Machine Learning\\\\uni-bremen-aml-course\\\\Mario\\\\Exercise_1\\\\cifar10\\\\train\\\\airplane\\\\0761.png airplane',\n",
       " 'C:\\\\Users\\\\m-gre\\\\Documents\\\\Advanced Machine Learning\\\\uni-bremen-aml-course\\\\Mario\\\\Exercise_1\\\\cifar10\\\\train\\\\airplane\\\\0762.png airplane',\n",
       " 'C:\\\\Users\\\\m-gre\\\\Documents\\\\Advanced Machine Learning\\\\uni-bremen-aml-course\\\\Mario\\\\Exercise_1\\\\cifar10\\\\train\\\\airplane\\\\0763.png airplane',\n",
       " 'C:\\\\Users\\\\m-gre\\\\Documents\\\\Advanced Machine Learning\\\\uni-bremen-aml-course\\\\Mario\\\\Exercise_1\\\\cifar10\\\\train\\\\airplane\\\\0764.png airplane',\n",
       " 'C:\\\\Users\\\\m-gre\\\\Documents\\\\Advanced Machine Learning\\\\uni-bremen-aml-course\\\\Mario\\\\Exercise_1\\\\cifar10\\\\train\\\\airplane\\\\0765.png airplane',\n",
       " 'C:\\\\Users\\\\m-gre\\\\Documents\\\\Advanced Machine Learning\\\\uni-bremen-aml-course\\\\Mario\\\\Exercise_1\\\\cifar10\\\\train\\\\airplane\\\\0766.png airplane',\n",
       " 'C:\\\\Users\\\\m-gre\\\\Documents\\\\Advanced Machine Learning\\\\uni-bremen-aml-course\\\\Mario\\\\Exercise_1\\\\cifar10\\\\train\\\\airplane\\\\0767.png airplane',\n",
       " 'C:\\\\Users\\\\m-gre\\\\Documents\\\\Advanced Machine Learning\\\\uni-bremen-aml-course\\\\Mario\\\\Exercise_1\\\\cifar10\\\\train\\\\airplane\\\\0768.png airplane',\n",
       " 'C:\\\\Users\\\\m-gre\\\\Documents\\\\Advanced Machine Learning\\\\uni-bremen-aml-course\\\\Mario\\\\Exercise_1\\\\cifar10\\\\train\\\\airplane\\\\0769.png airplane',\n",
       " 'C:\\\\Users\\\\m-gre\\\\Documents\\\\Advanced Machine Learning\\\\uni-bremen-aml-course\\\\Mario\\\\Exercise_1\\\\cifar10\\\\train\\\\airplane\\\\0770.png airplane',\n",
       " 'C:\\\\Users\\\\m-gre\\\\Documents\\\\Advanced Machine Learning\\\\uni-bremen-aml-course\\\\Mario\\\\Exercise_1\\\\cifar10\\\\train\\\\airplane\\\\0771.png airplane',\n",
       " 'C:\\\\Users\\\\m-gre\\\\Documents\\\\Advanced Machine Learning\\\\uni-bremen-aml-course\\\\Mario\\\\Exercise_1\\\\cifar10\\\\train\\\\airplane\\\\0772.png airplane',\n",
       " 'C:\\\\Users\\\\m-gre\\\\Documents\\\\Advanced Machine Learning\\\\uni-bremen-aml-course\\\\Mario\\\\Exercise_1\\\\cifar10\\\\train\\\\airplane\\\\0773.png airplane',\n",
       " 'C:\\\\Users\\\\m-gre\\\\Documents\\\\Advanced Machine Learning\\\\uni-bremen-aml-course\\\\Mario\\\\Exercise_1\\\\cifar10\\\\train\\\\airplane\\\\0774.png airplane',\n",
       " 'C:\\\\Users\\\\m-gre\\\\Documents\\\\Advanced Machine Learning\\\\uni-bremen-aml-course\\\\Mario\\\\Exercise_1\\\\cifar10\\\\train\\\\airplane\\\\0775.png airplane',\n",
       " 'C:\\\\Users\\\\m-gre\\\\Documents\\\\Advanced Machine Learning\\\\uni-bremen-aml-course\\\\Mario\\\\Exercise_1\\\\cifar10\\\\train\\\\airplane\\\\0776.png airplane',\n",
       " 'C:\\\\Users\\\\m-gre\\\\Documents\\\\Advanced Machine Learning\\\\uni-bremen-aml-course\\\\Mario\\\\Exercise_1\\\\cifar10\\\\train\\\\airplane\\\\0777.png airplane',\n",
       " 'C:\\\\Users\\\\m-gre\\\\Documents\\\\Advanced Machine Learning\\\\uni-bremen-aml-course\\\\Mario\\\\Exercise_1\\\\cifar10\\\\train\\\\airplane\\\\0778.png airplane',\n",
       " 'C:\\\\Users\\\\m-gre\\\\Documents\\\\Advanced Machine Learning\\\\uni-bremen-aml-course\\\\Mario\\\\Exercise_1\\\\cifar10\\\\train\\\\airplane\\\\0779.png airplane',\n",
       " 'C:\\\\Users\\\\m-gre\\\\Documents\\\\Advanced Machine Learning\\\\uni-bremen-aml-course\\\\Mario\\\\Exercise_1\\\\cifar10\\\\train\\\\airplane\\\\0780.png airplane',\n",
       " 'C:\\\\Users\\\\m-gre\\\\Documents\\\\Advanced Machine Learning\\\\uni-bremen-aml-course\\\\Mario\\\\Exercise_1\\\\cifar10\\\\train\\\\airplane\\\\0781.png airplane',\n",
       " 'C:\\\\Users\\\\m-gre\\\\Documents\\\\Advanced Machine Learning\\\\uni-bremen-aml-course\\\\Mario\\\\Exercise_1\\\\cifar10\\\\train\\\\airplane\\\\0782.png airplane',\n",
       " 'C:\\\\Users\\\\m-gre\\\\Documents\\\\Advanced Machine Learning\\\\uni-bremen-aml-course\\\\Mario\\\\Exercise_1\\\\cifar10\\\\train\\\\airplane\\\\0783.png airplane',\n",
       " 'C:\\\\Users\\\\m-gre\\\\Documents\\\\Advanced Machine Learning\\\\uni-bremen-aml-course\\\\Mario\\\\Exercise_1\\\\cifar10\\\\train\\\\airplane\\\\0784.png airplane',\n",
       " 'C:\\\\Users\\\\m-gre\\\\Documents\\\\Advanced Machine Learning\\\\uni-bremen-aml-course\\\\Mario\\\\Exercise_1\\\\cifar10\\\\train\\\\airplane\\\\0785.png airplane',\n",
       " 'C:\\\\Users\\\\m-gre\\\\Documents\\\\Advanced Machine Learning\\\\uni-bremen-aml-course\\\\Mario\\\\Exercise_1\\\\cifar10\\\\train\\\\airplane\\\\0786.png airplane',\n",
       " 'C:\\\\Users\\\\m-gre\\\\Documents\\\\Advanced Machine Learning\\\\uni-bremen-aml-course\\\\Mario\\\\Exercise_1\\\\cifar10\\\\train\\\\airplane\\\\0787.png airplane',\n",
       " 'C:\\\\Users\\\\m-gre\\\\Documents\\\\Advanced Machine Learning\\\\uni-bremen-aml-course\\\\Mario\\\\Exercise_1\\\\cifar10\\\\train\\\\airplane\\\\0788.png airplane',\n",
       " 'C:\\\\Users\\\\m-gre\\\\Documents\\\\Advanced Machine Learning\\\\uni-bremen-aml-course\\\\Mario\\\\Exercise_1\\\\cifar10\\\\train\\\\airplane\\\\0789.png airplane',\n",
       " 'C:\\\\Users\\\\m-gre\\\\Documents\\\\Advanced Machine Learning\\\\uni-bremen-aml-course\\\\Mario\\\\Exercise_1\\\\cifar10\\\\train\\\\airplane\\\\0790.png airplane',\n",
       " 'C:\\\\Users\\\\m-gre\\\\Documents\\\\Advanced Machine Learning\\\\uni-bremen-aml-course\\\\Mario\\\\Exercise_1\\\\cifar10\\\\train\\\\airplane\\\\0791.png airplane',\n",
       " 'C:\\\\Users\\\\m-gre\\\\Documents\\\\Advanced Machine Learning\\\\uni-bremen-aml-course\\\\Mario\\\\Exercise_1\\\\cifar10\\\\train\\\\airplane\\\\0792.png airplane',\n",
       " 'C:\\\\Users\\\\m-gre\\\\Documents\\\\Advanced Machine Learning\\\\uni-bremen-aml-course\\\\Mario\\\\Exercise_1\\\\cifar10\\\\train\\\\airplane\\\\0793.png airplane',\n",
       " 'C:\\\\Users\\\\m-gre\\\\Documents\\\\Advanced Machine Learning\\\\uni-bremen-aml-course\\\\Mario\\\\Exercise_1\\\\cifar10\\\\train\\\\airplane\\\\0794.png airplane',\n",
       " 'C:\\\\Users\\\\m-gre\\\\Documents\\\\Advanced Machine Learning\\\\uni-bremen-aml-course\\\\Mario\\\\Exercise_1\\\\cifar10\\\\train\\\\airplane\\\\0795.png airplane',\n",
       " 'C:\\\\Users\\\\m-gre\\\\Documents\\\\Advanced Machine Learning\\\\uni-bremen-aml-course\\\\Mario\\\\Exercise_1\\\\cifar10\\\\train\\\\airplane\\\\0796.png airplane',\n",
       " 'C:\\\\Users\\\\m-gre\\\\Documents\\\\Advanced Machine Learning\\\\uni-bremen-aml-course\\\\Mario\\\\Exercise_1\\\\cifar10\\\\train\\\\airplane\\\\0797.png airplane',\n",
       " 'C:\\\\Users\\\\m-gre\\\\Documents\\\\Advanced Machine Learning\\\\uni-bremen-aml-course\\\\Mario\\\\Exercise_1\\\\cifar10\\\\train\\\\airplane\\\\0798.png airplane',\n",
       " 'C:\\\\Users\\\\m-gre\\\\Documents\\\\Advanced Machine Learning\\\\uni-bremen-aml-course\\\\Mario\\\\Exercise_1\\\\cifar10\\\\train\\\\airplane\\\\0799.png airplane',\n",
       " 'C:\\\\Users\\\\m-gre\\\\Documents\\\\Advanced Machine Learning\\\\uni-bremen-aml-course\\\\Mario\\\\Exercise_1\\\\cifar10\\\\train\\\\airplane\\\\0800.png airplane',\n",
       " 'C:\\\\Users\\\\m-gre\\\\Documents\\\\Advanced Machine Learning\\\\uni-bremen-aml-course\\\\Mario\\\\Exercise_1\\\\cifar10\\\\train\\\\airplane\\\\0801.png airplane',\n",
       " 'C:\\\\Users\\\\m-gre\\\\Documents\\\\Advanced Machine Learning\\\\uni-bremen-aml-course\\\\Mario\\\\Exercise_1\\\\cifar10\\\\train\\\\airplane\\\\0802.png airplane',\n",
       " 'C:\\\\Users\\\\m-gre\\\\Documents\\\\Advanced Machine Learning\\\\uni-bremen-aml-course\\\\Mario\\\\Exercise_1\\\\cifar10\\\\train\\\\airplane\\\\0803.png airplane',\n",
       " 'C:\\\\Users\\\\m-gre\\\\Documents\\\\Advanced Machine Learning\\\\uni-bremen-aml-course\\\\Mario\\\\Exercise_1\\\\cifar10\\\\train\\\\airplane\\\\0804.png airplane',\n",
       " 'C:\\\\Users\\\\m-gre\\\\Documents\\\\Advanced Machine Learning\\\\uni-bremen-aml-course\\\\Mario\\\\Exercise_1\\\\cifar10\\\\train\\\\airplane\\\\0805.png airplane',\n",
       " 'C:\\\\Users\\\\m-gre\\\\Documents\\\\Advanced Machine Learning\\\\uni-bremen-aml-course\\\\Mario\\\\Exercise_1\\\\cifar10\\\\train\\\\airplane\\\\0806.png airplane',\n",
       " 'C:\\\\Users\\\\m-gre\\\\Documents\\\\Advanced Machine Learning\\\\uni-bremen-aml-course\\\\Mario\\\\Exercise_1\\\\cifar10\\\\train\\\\airplane\\\\0807.png airplane',\n",
       " 'C:\\\\Users\\\\m-gre\\\\Documents\\\\Advanced Machine Learning\\\\uni-bremen-aml-course\\\\Mario\\\\Exercise_1\\\\cifar10\\\\train\\\\airplane\\\\0808.png airplane',\n",
       " 'C:\\\\Users\\\\m-gre\\\\Documents\\\\Advanced Machine Learning\\\\uni-bremen-aml-course\\\\Mario\\\\Exercise_1\\\\cifar10\\\\train\\\\airplane\\\\0809.png airplane',\n",
       " 'C:\\\\Users\\\\m-gre\\\\Documents\\\\Advanced Machine Learning\\\\uni-bremen-aml-course\\\\Mario\\\\Exercise_1\\\\cifar10\\\\train\\\\airplane\\\\0810.png airplane',\n",
       " 'C:\\\\Users\\\\m-gre\\\\Documents\\\\Advanced Machine Learning\\\\uni-bremen-aml-course\\\\Mario\\\\Exercise_1\\\\cifar10\\\\train\\\\airplane\\\\0811.png airplane',\n",
       " 'C:\\\\Users\\\\m-gre\\\\Documents\\\\Advanced Machine Learning\\\\uni-bremen-aml-course\\\\Mario\\\\Exercise_1\\\\cifar10\\\\train\\\\airplane\\\\0812.png airplane',\n",
       " 'C:\\\\Users\\\\m-gre\\\\Documents\\\\Advanced Machine Learning\\\\uni-bremen-aml-course\\\\Mario\\\\Exercise_1\\\\cifar10\\\\train\\\\airplane\\\\0813.png airplane',\n",
       " 'C:\\\\Users\\\\m-gre\\\\Documents\\\\Advanced Machine Learning\\\\uni-bremen-aml-course\\\\Mario\\\\Exercise_1\\\\cifar10\\\\train\\\\airplane\\\\0814.png airplane',\n",
       " 'C:\\\\Users\\\\m-gre\\\\Documents\\\\Advanced Machine Learning\\\\uni-bremen-aml-course\\\\Mario\\\\Exercise_1\\\\cifar10\\\\train\\\\airplane\\\\0815.png airplane',\n",
       " 'C:\\\\Users\\\\m-gre\\\\Documents\\\\Advanced Machine Learning\\\\uni-bremen-aml-course\\\\Mario\\\\Exercise_1\\\\cifar10\\\\train\\\\airplane\\\\0816.png airplane',\n",
       " 'C:\\\\Users\\\\m-gre\\\\Documents\\\\Advanced Machine Learning\\\\uni-bremen-aml-course\\\\Mario\\\\Exercise_1\\\\cifar10\\\\train\\\\airplane\\\\0817.png airplane',\n",
       " 'C:\\\\Users\\\\m-gre\\\\Documents\\\\Advanced Machine Learning\\\\uni-bremen-aml-course\\\\Mario\\\\Exercise_1\\\\cifar10\\\\train\\\\airplane\\\\0818.png airplane',\n",
       " 'C:\\\\Users\\\\m-gre\\\\Documents\\\\Advanced Machine Learning\\\\uni-bremen-aml-course\\\\Mario\\\\Exercise_1\\\\cifar10\\\\train\\\\airplane\\\\0819.png airplane',\n",
       " 'C:\\\\Users\\\\m-gre\\\\Documents\\\\Advanced Machine Learning\\\\uni-bremen-aml-course\\\\Mario\\\\Exercise_1\\\\cifar10\\\\train\\\\airplane\\\\0820.png airplane',\n",
       " 'C:\\\\Users\\\\m-gre\\\\Documents\\\\Advanced Machine Learning\\\\uni-bremen-aml-course\\\\Mario\\\\Exercise_1\\\\cifar10\\\\train\\\\airplane\\\\0821.png airplane',\n",
       " 'C:\\\\Users\\\\m-gre\\\\Documents\\\\Advanced Machine Learning\\\\uni-bremen-aml-course\\\\Mario\\\\Exercise_1\\\\cifar10\\\\train\\\\airplane\\\\0822.png airplane',\n",
       " 'C:\\\\Users\\\\m-gre\\\\Documents\\\\Advanced Machine Learning\\\\uni-bremen-aml-course\\\\Mario\\\\Exercise_1\\\\cifar10\\\\train\\\\airplane\\\\0823.png airplane',\n",
       " 'C:\\\\Users\\\\m-gre\\\\Documents\\\\Advanced Machine Learning\\\\uni-bremen-aml-course\\\\Mario\\\\Exercise_1\\\\cifar10\\\\train\\\\airplane\\\\0824.png airplane',\n",
       " 'C:\\\\Users\\\\m-gre\\\\Documents\\\\Advanced Machine Learning\\\\uni-bremen-aml-course\\\\Mario\\\\Exercise_1\\\\cifar10\\\\train\\\\airplane\\\\0825.png airplane',\n",
       " 'C:\\\\Users\\\\m-gre\\\\Documents\\\\Advanced Machine Learning\\\\uni-bremen-aml-course\\\\Mario\\\\Exercise_1\\\\cifar10\\\\train\\\\airplane\\\\0826.png airplane',\n",
       " 'C:\\\\Users\\\\m-gre\\\\Documents\\\\Advanced Machine Learning\\\\uni-bremen-aml-course\\\\Mario\\\\Exercise_1\\\\cifar10\\\\train\\\\airplane\\\\0827.png airplane',\n",
       " 'C:\\\\Users\\\\m-gre\\\\Documents\\\\Advanced Machine Learning\\\\uni-bremen-aml-course\\\\Mario\\\\Exercise_1\\\\cifar10\\\\train\\\\airplane\\\\0828.png airplane',\n",
       " 'C:\\\\Users\\\\m-gre\\\\Documents\\\\Advanced Machine Learning\\\\uni-bremen-aml-course\\\\Mario\\\\Exercise_1\\\\cifar10\\\\train\\\\airplane\\\\0829.png airplane',\n",
       " 'C:\\\\Users\\\\m-gre\\\\Documents\\\\Advanced Machine Learning\\\\uni-bremen-aml-course\\\\Mario\\\\Exercise_1\\\\cifar10\\\\train\\\\airplane\\\\0830.png airplane',\n",
       " 'C:\\\\Users\\\\m-gre\\\\Documents\\\\Advanced Machine Learning\\\\uni-bremen-aml-course\\\\Mario\\\\Exercise_1\\\\cifar10\\\\train\\\\airplane\\\\0831.png airplane',\n",
       " 'C:\\\\Users\\\\m-gre\\\\Documents\\\\Advanced Machine Learning\\\\uni-bremen-aml-course\\\\Mario\\\\Exercise_1\\\\cifar10\\\\train\\\\airplane\\\\0832.png airplane',\n",
       " 'C:\\\\Users\\\\m-gre\\\\Documents\\\\Advanced Machine Learning\\\\uni-bremen-aml-course\\\\Mario\\\\Exercise_1\\\\cifar10\\\\train\\\\airplane\\\\0833.png airplane',\n",
       " 'C:\\\\Users\\\\m-gre\\\\Documents\\\\Advanced Machine Learning\\\\uni-bremen-aml-course\\\\Mario\\\\Exercise_1\\\\cifar10\\\\train\\\\airplane\\\\0834.png airplane',\n",
       " 'C:\\\\Users\\\\m-gre\\\\Documents\\\\Advanced Machine Learning\\\\uni-bremen-aml-course\\\\Mario\\\\Exercise_1\\\\cifar10\\\\train\\\\airplane\\\\0835.png airplane',\n",
       " 'C:\\\\Users\\\\m-gre\\\\Documents\\\\Advanced Machine Learning\\\\uni-bremen-aml-course\\\\Mario\\\\Exercise_1\\\\cifar10\\\\train\\\\airplane\\\\0836.png airplane',\n",
       " 'C:\\\\Users\\\\m-gre\\\\Documents\\\\Advanced Machine Learning\\\\uni-bremen-aml-course\\\\Mario\\\\Exercise_1\\\\cifar10\\\\train\\\\airplane\\\\0837.png airplane',\n",
       " 'C:\\\\Users\\\\m-gre\\\\Documents\\\\Advanced Machine Learning\\\\uni-bremen-aml-course\\\\Mario\\\\Exercise_1\\\\cifar10\\\\train\\\\airplane\\\\0838.png airplane',\n",
       " 'C:\\\\Users\\\\m-gre\\\\Documents\\\\Advanced Machine Learning\\\\uni-bremen-aml-course\\\\Mario\\\\Exercise_1\\\\cifar10\\\\train\\\\airplane\\\\0839.png airplane',\n",
       " 'C:\\\\Users\\\\m-gre\\\\Documents\\\\Advanced Machine Learning\\\\uni-bremen-aml-course\\\\Mario\\\\Exercise_1\\\\cifar10\\\\train\\\\airplane\\\\0840.png airplane',\n",
       " 'C:\\\\Users\\\\m-gre\\\\Documents\\\\Advanced Machine Learning\\\\uni-bremen-aml-course\\\\Mario\\\\Exercise_1\\\\cifar10\\\\train\\\\airplane\\\\0841.png airplane',\n",
       " 'C:\\\\Users\\\\m-gre\\\\Documents\\\\Advanced Machine Learning\\\\uni-bremen-aml-course\\\\Mario\\\\Exercise_1\\\\cifar10\\\\train\\\\airplane\\\\0842.png airplane',\n",
       " 'C:\\\\Users\\\\m-gre\\\\Documents\\\\Advanced Machine Learning\\\\uni-bremen-aml-course\\\\Mario\\\\Exercise_1\\\\cifar10\\\\train\\\\airplane\\\\0843.png airplane',\n",
       " 'C:\\\\Users\\\\m-gre\\\\Documents\\\\Advanced Machine Learning\\\\uni-bremen-aml-course\\\\Mario\\\\Exercise_1\\\\cifar10\\\\train\\\\airplane\\\\0844.png airplane',\n",
       " 'C:\\\\Users\\\\m-gre\\\\Documents\\\\Advanced Machine Learning\\\\uni-bremen-aml-course\\\\Mario\\\\Exercise_1\\\\cifar10\\\\train\\\\airplane\\\\0845.png airplane',\n",
       " 'C:\\\\Users\\\\m-gre\\\\Documents\\\\Advanced Machine Learning\\\\uni-bremen-aml-course\\\\Mario\\\\Exercise_1\\\\cifar10\\\\train\\\\airplane\\\\0846.png airplane',\n",
       " 'C:\\\\Users\\\\m-gre\\\\Documents\\\\Advanced Machine Learning\\\\uni-bremen-aml-course\\\\Mario\\\\Exercise_1\\\\cifar10\\\\train\\\\airplane\\\\0847.png airplane',\n",
       " 'C:\\\\Users\\\\m-gre\\\\Documents\\\\Advanced Machine Learning\\\\uni-bremen-aml-course\\\\Mario\\\\Exercise_1\\\\cifar10\\\\train\\\\airplane\\\\0848.png airplane',\n",
       " 'C:\\\\Users\\\\m-gre\\\\Documents\\\\Advanced Machine Learning\\\\uni-bremen-aml-course\\\\Mario\\\\Exercise_1\\\\cifar10\\\\train\\\\airplane\\\\0849.png airplane',\n",
       " 'C:\\\\Users\\\\m-gre\\\\Documents\\\\Advanced Machine Learning\\\\uni-bremen-aml-course\\\\Mario\\\\Exercise_1\\\\cifar10\\\\train\\\\airplane\\\\0850.png airplane',\n",
       " 'C:\\\\Users\\\\m-gre\\\\Documents\\\\Advanced Machine Learning\\\\uni-bremen-aml-course\\\\Mario\\\\Exercise_1\\\\cifar10\\\\train\\\\airplane\\\\0851.png airplane',\n",
       " 'C:\\\\Users\\\\m-gre\\\\Documents\\\\Advanced Machine Learning\\\\uni-bremen-aml-course\\\\Mario\\\\Exercise_1\\\\cifar10\\\\train\\\\airplane\\\\0852.png airplane',\n",
       " 'C:\\\\Users\\\\m-gre\\\\Documents\\\\Advanced Machine Learning\\\\uni-bremen-aml-course\\\\Mario\\\\Exercise_1\\\\cifar10\\\\train\\\\airplane\\\\0853.png airplane',\n",
       " 'C:\\\\Users\\\\m-gre\\\\Documents\\\\Advanced Machine Learning\\\\uni-bremen-aml-course\\\\Mario\\\\Exercise_1\\\\cifar10\\\\train\\\\airplane\\\\0854.png airplane',\n",
       " 'C:\\\\Users\\\\m-gre\\\\Documents\\\\Advanced Machine Learning\\\\uni-bremen-aml-course\\\\Mario\\\\Exercise_1\\\\cifar10\\\\train\\\\airplane\\\\0855.png airplane',\n",
       " 'C:\\\\Users\\\\m-gre\\\\Documents\\\\Advanced Machine Learning\\\\uni-bremen-aml-course\\\\Mario\\\\Exercise_1\\\\cifar10\\\\train\\\\airplane\\\\0856.png airplane',\n",
       " 'C:\\\\Users\\\\m-gre\\\\Documents\\\\Advanced Machine Learning\\\\uni-bremen-aml-course\\\\Mario\\\\Exercise_1\\\\cifar10\\\\train\\\\airplane\\\\0857.png airplane',\n",
       " 'C:\\\\Users\\\\m-gre\\\\Documents\\\\Advanced Machine Learning\\\\uni-bremen-aml-course\\\\Mario\\\\Exercise_1\\\\cifar10\\\\train\\\\airplane\\\\0858.png airplane',\n",
       " 'C:\\\\Users\\\\m-gre\\\\Documents\\\\Advanced Machine Learning\\\\uni-bremen-aml-course\\\\Mario\\\\Exercise_1\\\\cifar10\\\\train\\\\airplane\\\\0859.png airplane',\n",
       " 'C:\\\\Users\\\\m-gre\\\\Documents\\\\Advanced Machine Learning\\\\uni-bremen-aml-course\\\\Mario\\\\Exercise_1\\\\cifar10\\\\train\\\\airplane\\\\0860.png airplane',\n",
       " 'C:\\\\Users\\\\m-gre\\\\Documents\\\\Advanced Machine Learning\\\\uni-bremen-aml-course\\\\Mario\\\\Exercise_1\\\\cifar10\\\\train\\\\airplane\\\\0861.png airplane',\n",
       " 'C:\\\\Users\\\\m-gre\\\\Documents\\\\Advanced Machine Learning\\\\uni-bremen-aml-course\\\\Mario\\\\Exercise_1\\\\cifar10\\\\train\\\\airplane\\\\0862.png airplane',\n",
       " 'C:\\\\Users\\\\m-gre\\\\Documents\\\\Advanced Machine Learning\\\\uni-bremen-aml-course\\\\Mario\\\\Exercise_1\\\\cifar10\\\\train\\\\airplane\\\\0863.png airplane',\n",
       " 'C:\\\\Users\\\\m-gre\\\\Documents\\\\Advanced Machine Learning\\\\uni-bremen-aml-course\\\\Mario\\\\Exercise_1\\\\cifar10\\\\train\\\\airplane\\\\0864.png airplane',\n",
       " 'C:\\\\Users\\\\m-gre\\\\Documents\\\\Advanced Machine Learning\\\\uni-bremen-aml-course\\\\Mario\\\\Exercise_1\\\\cifar10\\\\train\\\\airplane\\\\0865.png airplane',\n",
       " 'C:\\\\Users\\\\m-gre\\\\Documents\\\\Advanced Machine Learning\\\\uni-bremen-aml-course\\\\Mario\\\\Exercise_1\\\\cifar10\\\\train\\\\airplane\\\\0866.png airplane',\n",
       " 'C:\\\\Users\\\\m-gre\\\\Documents\\\\Advanced Machine Learning\\\\uni-bremen-aml-course\\\\Mario\\\\Exercise_1\\\\cifar10\\\\train\\\\airplane\\\\0867.png airplane',\n",
       " 'C:\\\\Users\\\\m-gre\\\\Documents\\\\Advanced Machine Learning\\\\uni-bremen-aml-course\\\\Mario\\\\Exercise_1\\\\cifar10\\\\train\\\\airplane\\\\0868.png airplane',\n",
       " 'C:\\\\Users\\\\m-gre\\\\Documents\\\\Advanced Machine Learning\\\\uni-bremen-aml-course\\\\Mario\\\\Exercise_1\\\\cifar10\\\\train\\\\airplane\\\\0869.png airplane',\n",
       " 'C:\\\\Users\\\\m-gre\\\\Documents\\\\Advanced Machine Learning\\\\uni-bremen-aml-course\\\\Mario\\\\Exercise_1\\\\cifar10\\\\train\\\\airplane\\\\0870.png airplane',\n",
       " 'C:\\\\Users\\\\m-gre\\\\Documents\\\\Advanced Machine Learning\\\\uni-bremen-aml-course\\\\Mario\\\\Exercise_1\\\\cifar10\\\\train\\\\airplane\\\\0871.png airplane',\n",
       " 'C:\\\\Users\\\\m-gre\\\\Documents\\\\Advanced Machine Learning\\\\uni-bremen-aml-course\\\\Mario\\\\Exercise_1\\\\cifar10\\\\train\\\\airplane\\\\0872.png airplane',\n",
       " 'C:\\\\Users\\\\m-gre\\\\Documents\\\\Advanced Machine Learning\\\\uni-bremen-aml-course\\\\Mario\\\\Exercise_1\\\\cifar10\\\\train\\\\airplane\\\\0873.png airplane',\n",
       " 'C:\\\\Users\\\\m-gre\\\\Documents\\\\Advanced Machine Learning\\\\uni-bremen-aml-course\\\\Mario\\\\Exercise_1\\\\cifar10\\\\train\\\\airplane\\\\0874.png airplane',\n",
       " 'C:\\\\Users\\\\m-gre\\\\Documents\\\\Advanced Machine Learning\\\\uni-bremen-aml-course\\\\Mario\\\\Exercise_1\\\\cifar10\\\\train\\\\airplane\\\\0875.png airplane',\n",
       " 'C:\\\\Users\\\\m-gre\\\\Documents\\\\Advanced Machine Learning\\\\uni-bremen-aml-course\\\\Mario\\\\Exercise_1\\\\cifar10\\\\train\\\\airplane\\\\0876.png airplane',\n",
       " 'C:\\\\Users\\\\m-gre\\\\Documents\\\\Advanced Machine Learning\\\\uni-bremen-aml-course\\\\Mario\\\\Exercise_1\\\\cifar10\\\\train\\\\airplane\\\\0877.png airplane',\n",
       " 'C:\\\\Users\\\\m-gre\\\\Documents\\\\Advanced Machine Learning\\\\uni-bremen-aml-course\\\\Mario\\\\Exercise_1\\\\cifar10\\\\train\\\\airplane\\\\0878.png airplane',\n",
       " 'C:\\\\Users\\\\m-gre\\\\Documents\\\\Advanced Machine Learning\\\\uni-bremen-aml-course\\\\Mario\\\\Exercise_1\\\\cifar10\\\\train\\\\airplane\\\\0879.png airplane',\n",
       " 'C:\\\\Users\\\\m-gre\\\\Documents\\\\Advanced Machine Learning\\\\uni-bremen-aml-course\\\\Mario\\\\Exercise_1\\\\cifar10\\\\train\\\\airplane\\\\0880.png airplane',\n",
       " 'C:\\\\Users\\\\m-gre\\\\Documents\\\\Advanced Machine Learning\\\\uni-bremen-aml-course\\\\Mario\\\\Exercise_1\\\\cifar10\\\\train\\\\airplane\\\\0881.png airplane',\n",
       " 'C:\\\\Users\\\\m-gre\\\\Documents\\\\Advanced Machine Learning\\\\uni-bremen-aml-course\\\\Mario\\\\Exercise_1\\\\cifar10\\\\train\\\\airplane\\\\0882.png airplane',\n",
       " 'C:\\\\Users\\\\m-gre\\\\Documents\\\\Advanced Machine Learning\\\\uni-bremen-aml-course\\\\Mario\\\\Exercise_1\\\\cifar10\\\\train\\\\airplane\\\\0883.png airplane',\n",
       " 'C:\\\\Users\\\\m-gre\\\\Documents\\\\Advanced Machine Learning\\\\uni-bremen-aml-course\\\\Mario\\\\Exercise_1\\\\cifar10\\\\train\\\\airplane\\\\0884.png airplane',\n",
       " 'C:\\\\Users\\\\m-gre\\\\Documents\\\\Advanced Machine Learning\\\\uni-bremen-aml-course\\\\Mario\\\\Exercise_1\\\\cifar10\\\\train\\\\airplane\\\\0885.png airplane',\n",
       " 'C:\\\\Users\\\\m-gre\\\\Documents\\\\Advanced Machine Learning\\\\uni-bremen-aml-course\\\\Mario\\\\Exercise_1\\\\cifar10\\\\train\\\\airplane\\\\0886.png airplane',\n",
       " 'C:\\\\Users\\\\m-gre\\\\Documents\\\\Advanced Machine Learning\\\\uni-bremen-aml-course\\\\Mario\\\\Exercise_1\\\\cifar10\\\\train\\\\airplane\\\\0887.png airplane',\n",
       " 'C:\\\\Users\\\\m-gre\\\\Documents\\\\Advanced Machine Learning\\\\uni-bremen-aml-course\\\\Mario\\\\Exercise_1\\\\cifar10\\\\train\\\\airplane\\\\0888.png airplane',\n",
       " 'C:\\\\Users\\\\m-gre\\\\Documents\\\\Advanced Machine Learning\\\\uni-bremen-aml-course\\\\Mario\\\\Exercise_1\\\\cifar10\\\\train\\\\airplane\\\\0889.png airplane',\n",
       " 'C:\\\\Users\\\\m-gre\\\\Documents\\\\Advanced Machine Learning\\\\uni-bremen-aml-course\\\\Mario\\\\Exercise_1\\\\cifar10\\\\train\\\\airplane\\\\0890.png airplane',\n",
       " 'C:\\\\Users\\\\m-gre\\\\Documents\\\\Advanced Machine Learning\\\\uni-bremen-aml-course\\\\Mario\\\\Exercise_1\\\\cifar10\\\\train\\\\airplane\\\\0891.png airplane',\n",
       " 'C:\\\\Users\\\\m-gre\\\\Documents\\\\Advanced Machine Learning\\\\uni-bremen-aml-course\\\\Mario\\\\Exercise_1\\\\cifar10\\\\train\\\\airplane\\\\0892.png airplane',\n",
       " 'C:\\\\Users\\\\m-gre\\\\Documents\\\\Advanced Machine Learning\\\\uni-bremen-aml-course\\\\Mario\\\\Exercise_1\\\\cifar10\\\\train\\\\airplane\\\\0893.png airplane',\n",
       " 'C:\\\\Users\\\\m-gre\\\\Documents\\\\Advanced Machine Learning\\\\uni-bremen-aml-course\\\\Mario\\\\Exercise_1\\\\cifar10\\\\train\\\\airplane\\\\0894.png airplane',\n",
       " 'C:\\\\Users\\\\m-gre\\\\Documents\\\\Advanced Machine Learning\\\\uni-bremen-aml-course\\\\Mario\\\\Exercise_1\\\\cifar10\\\\train\\\\airplane\\\\0895.png airplane',\n",
       " 'C:\\\\Users\\\\m-gre\\\\Documents\\\\Advanced Machine Learning\\\\uni-bremen-aml-course\\\\Mario\\\\Exercise_1\\\\cifar10\\\\train\\\\airplane\\\\0896.png airplane',\n",
       " 'C:\\\\Users\\\\m-gre\\\\Documents\\\\Advanced Machine Learning\\\\uni-bremen-aml-course\\\\Mario\\\\Exercise_1\\\\cifar10\\\\train\\\\airplane\\\\0897.png airplane',\n",
       " 'C:\\\\Users\\\\m-gre\\\\Documents\\\\Advanced Machine Learning\\\\uni-bremen-aml-course\\\\Mario\\\\Exercise_1\\\\cifar10\\\\train\\\\airplane\\\\0898.png airplane',\n",
       " 'C:\\\\Users\\\\m-gre\\\\Documents\\\\Advanced Machine Learning\\\\uni-bremen-aml-course\\\\Mario\\\\Exercise_1\\\\cifar10\\\\train\\\\airplane\\\\0899.png airplane',\n",
       " 'C:\\\\Users\\\\m-gre\\\\Documents\\\\Advanced Machine Learning\\\\uni-bremen-aml-course\\\\Mario\\\\Exercise_1\\\\cifar10\\\\train\\\\airplane\\\\0900.png airplane',\n",
       " 'C:\\\\Users\\\\m-gre\\\\Documents\\\\Advanced Machine Learning\\\\uni-bremen-aml-course\\\\Mario\\\\Exercise_1\\\\cifar10\\\\train\\\\airplane\\\\0901.png airplane',\n",
       " 'C:\\\\Users\\\\m-gre\\\\Documents\\\\Advanced Machine Learning\\\\uni-bremen-aml-course\\\\Mario\\\\Exercise_1\\\\cifar10\\\\train\\\\airplane\\\\0902.png airplane',\n",
       " 'C:\\\\Users\\\\m-gre\\\\Documents\\\\Advanced Machine Learning\\\\uni-bremen-aml-course\\\\Mario\\\\Exercise_1\\\\cifar10\\\\train\\\\airplane\\\\0903.png airplane',\n",
       " 'C:\\\\Users\\\\m-gre\\\\Documents\\\\Advanced Machine Learning\\\\uni-bremen-aml-course\\\\Mario\\\\Exercise_1\\\\cifar10\\\\train\\\\airplane\\\\0904.png airplane',\n",
       " 'C:\\\\Users\\\\m-gre\\\\Documents\\\\Advanced Machine Learning\\\\uni-bremen-aml-course\\\\Mario\\\\Exercise_1\\\\cifar10\\\\train\\\\airplane\\\\0905.png airplane',\n",
       " 'C:\\\\Users\\\\m-gre\\\\Documents\\\\Advanced Machine Learning\\\\uni-bremen-aml-course\\\\Mario\\\\Exercise_1\\\\cifar10\\\\train\\\\airplane\\\\0906.png airplane',\n",
       " 'C:\\\\Users\\\\m-gre\\\\Documents\\\\Advanced Machine Learning\\\\uni-bremen-aml-course\\\\Mario\\\\Exercise_1\\\\cifar10\\\\train\\\\airplane\\\\0907.png airplane',\n",
       " 'C:\\\\Users\\\\m-gre\\\\Documents\\\\Advanced Machine Learning\\\\uni-bremen-aml-course\\\\Mario\\\\Exercise_1\\\\cifar10\\\\train\\\\airplane\\\\0908.png airplane',\n",
       " 'C:\\\\Users\\\\m-gre\\\\Documents\\\\Advanced Machine Learning\\\\uni-bremen-aml-course\\\\Mario\\\\Exercise_1\\\\cifar10\\\\train\\\\airplane\\\\0909.png airplane',\n",
       " 'C:\\\\Users\\\\m-gre\\\\Documents\\\\Advanced Machine Learning\\\\uni-bremen-aml-course\\\\Mario\\\\Exercise_1\\\\cifar10\\\\train\\\\airplane\\\\0910.png airplane',\n",
       " 'C:\\\\Users\\\\m-gre\\\\Documents\\\\Advanced Machine Learning\\\\uni-bremen-aml-course\\\\Mario\\\\Exercise_1\\\\cifar10\\\\train\\\\airplane\\\\0911.png airplane',\n",
       " 'C:\\\\Users\\\\m-gre\\\\Documents\\\\Advanced Machine Learning\\\\uni-bremen-aml-course\\\\Mario\\\\Exercise_1\\\\cifar10\\\\train\\\\airplane\\\\0912.png airplane',\n",
       " 'C:\\\\Users\\\\m-gre\\\\Documents\\\\Advanced Machine Learning\\\\uni-bremen-aml-course\\\\Mario\\\\Exercise_1\\\\cifar10\\\\train\\\\airplane\\\\0913.png airplane',\n",
       " 'C:\\\\Users\\\\m-gre\\\\Documents\\\\Advanced Machine Learning\\\\uni-bremen-aml-course\\\\Mario\\\\Exercise_1\\\\cifar10\\\\train\\\\airplane\\\\0914.png airplane',\n",
       " 'C:\\\\Users\\\\m-gre\\\\Documents\\\\Advanced Machine Learning\\\\uni-bremen-aml-course\\\\Mario\\\\Exercise_1\\\\cifar10\\\\train\\\\airplane\\\\0915.png airplane',\n",
       " 'C:\\\\Users\\\\m-gre\\\\Documents\\\\Advanced Machine Learning\\\\uni-bremen-aml-course\\\\Mario\\\\Exercise_1\\\\cifar10\\\\train\\\\airplane\\\\0916.png airplane',\n",
       " 'C:\\\\Users\\\\m-gre\\\\Documents\\\\Advanced Machine Learning\\\\uni-bremen-aml-course\\\\Mario\\\\Exercise_1\\\\cifar10\\\\train\\\\airplane\\\\0917.png airplane',\n",
       " 'C:\\\\Users\\\\m-gre\\\\Documents\\\\Advanced Machine Learning\\\\uni-bremen-aml-course\\\\Mario\\\\Exercise_1\\\\cifar10\\\\train\\\\airplane\\\\0918.png airplane',\n",
       " 'C:\\\\Users\\\\m-gre\\\\Documents\\\\Advanced Machine Learning\\\\uni-bremen-aml-course\\\\Mario\\\\Exercise_1\\\\cifar10\\\\train\\\\airplane\\\\0919.png airplane',\n",
       " 'C:\\\\Users\\\\m-gre\\\\Documents\\\\Advanced Machine Learning\\\\uni-bremen-aml-course\\\\Mario\\\\Exercise_1\\\\cifar10\\\\train\\\\airplane\\\\0920.png airplane',\n",
       " 'C:\\\\Users\\\\m-gre\\\\Documents\\\\Advanced Machine Learning\\\\uni-bremen-aml-course\\\\Mario\\\\Exercise_1\\\\cifar10\\\\train\\\\airplane\\\\0921.png airplane',\n",
       " 'C:\\\\Users\\\\m-gre\\\\Documents\\\\Advanced Machine Learning\\\\uni-bremen-aml-course\\\\Mario\\\\Exercise_1\\\\cifar10\\\\train\\\\airplane\\\\0922.png airplane',\n",
       " 'C:\\\\Users\\\\m-gre\\\\Documents\\\\Advanced Machine Learning\\\\uni-bremen-aml-course\\\\Mario\\\\Exercise_1\\\\cifar10\\\\train\\\\airplane\\\\0923.png airplane',\n",
       " 'C:\\\\Users\\\\m-gre\\\\Documents\\\\Advanced Machine Learning\\\\uni-bremen-aml-course\\\\Mario\\\\Exercise_1\\\\cifar10\\\\train\\\\airplane\\\\0924.png airplane',\n",
       " 'C:\\\\Users\\\\m-gre\\\\Documents\\\\Advanced Machine Learning\\\\uni-bremen-aml-course\\\\Mario\\\\Exercise_1\\\\cifar10\\\\train\\\\airplane\\\\0925.png airplane',\n",
       " 'C:\\\\Users\\\\m-gre\\\\Documents\\\\Advanced Machine Learning\\\\uni-bremen-aml-course\\\\Mario\\\\Exercise_1\\\\cifar10\\\\train\\\\airplane\\\\0926.png airplane',\n",
       " 'C:\\\\Users\\\\m-gre\\\\Documents\\\\Advanced Machine Learning\\\\uni-bremen-aml-course\\\\Mario\\\\Exercise_1\\\\cifar10\\\\train\\\\airplane\\\\0927.png airplane',\n",
       " 'C:\\\\Users\\\\m-gre\\\\Documents\\\\Advanced Machine Learning\\\\uni-bremen-aml-course\\\\Mario\\\\Exercise_1\\\\cifar10\\\\train\\\\airplane\\\\0928.png airplane',\n",
       " 'C:\\\\Users\\\\m-gre\\\\Documents\\\\Advanced Machine Learning\\\\uni-bremen-aml-course\\\\Mario\\\\Exercise_1\\\\cifar10\\\\train\\\\airplane\\\\0929.png airplane',\n",
       " 'C:\\\\Users\\\\m-gre\\\\Documents\\\\Advanced Machine Learning\\\\uni-bremen-aml-course\\\\Mario\\\\Exercise_1\\\\cifar10\\\\train\\\\airplane\\\\0930.png airplane',\n",
       " 'C:\\\\Users\\\\m-gre\\\\Documents\\\\Advanced Machine Learning\\\\uni-bremen-aml-course\\\\Mario\\\\Exercise_1\\\\cifar10\\\\train\\\\airplane\\\\0931.png airplane',\n",
       " 'C:\\\\Users\\\\m-gre\\\\Documents\\\\Advanced Machine Learning\\\\uni-bremen-aml-course\\\\Mario\\\\Exercise_1\\\\cifar10\\\\train\\\\airplane\\\\0932.png airplane',\n",
       " 'C:\\\\Users\\\\m-gre\\\\Documents\\\\Advanced Machine Learning\\\\uni-bremen-aml-course\\\\Mario\\\\Exercise_1\\\\cifar10\\\\train\\\\airplane\\\\0933.png airplane',\n",
       " 'C:\\\\Users\\\\m-gre\\\\Documents\\\\Advanced Machine Learning\\\\uni-bremen-aml-course\\\\Mario\\\\Exercise_1\\\\cifar10\\\\train\\\\airplane\\\\0934.png airplane',\n",
       " 'C:\\\\Users\\\\m-gre\\\\Documents\\\\Advanced Machine Learning\\\\uni-bremen-aml-course\\\\Mario\\\\Exercise_1\\\\cifar10\\\\train\\\\airplane\\\\0935.png airplane',\n",
       " 'C:\\\\Users\\\\m-gre\\\\Documents\\\\Advanced Machine Learning\\\\uni-bremen-aml-course\\\\Mario\\\\Exercise_1\\\\cifar10\\\\train\\\\airplane\\\\0936.png airplane',\n",
       " 'C:\\\\Users\\\\m-gre\\\\Documents\\\\Advanced Machine Learning\\\\uni-bremen-aml-course\\\\Mario\\\\Exercise_1\\\\cifar10\\\\train\\\\airplane\\\\0937.png airplane',\n",
       " 'C:\\\\Users\\\\m-gre\\\\Documents\\\\Advanced Machine Learning\\\\uni-bremen-aml-course\\\\Mario\\\\Exercise_1\\\\cifar10\\\\train\\\\airplane\\\\0938.png airplane',\n",
       " 'C:\\\\Users\\\\m-gre\\\\Documents\\\\Advanced Machine Learning\\\\uni-bremen-aml-course\\\\Mario\\\\Exercise_1\\\\cifar10\\\\train\\\\airplane\\\\0939.png airplane',\n",
       " 'C:\\\\Users\\\\m-gre\\\\Documents\\\\Advanced Machine Learning\\\\uni-bremen-aml-course\\\\Mario\\\\Exercise_1\\\\cifar10\\\\train\\\\airplane\\\\0940.png airplane',\n",
       " 'C:\\\\Users\\\\m-gre\\\\Documents\\\\Advanced Machine Learning\\\\uni-bremen-aml-course\\\\Mario\\\\Exercise_1\\\\cifar10\\\\train\\\\airplane\\\\0941.png airplane',\n",
       " 'C:\\\\Users\\\\m-gre\\\\Documents\\\\Advanced Machine Learning\\\\uni-bremen-aml-course\\\\Mario\\\\Exercise_1\\\\cifar10\\\\train\\\\airplane\\\\0942.png airplane',\n",
       " 'C:\\\\Users\\\\m-gre\\\\Documents\\\\Advanced Machine Learning\\\\uni-bremen-aml-course\\\\Mario\\\\Exercise_1\\\\cifar10\\\\train\\\\airplane\\\\0943.png airplane',\n",
       " 'C:\\\\Users\\\\m-gre\\\\Documents\\\\Advanced Machine Learning\\\\uni-bremen-aml-course\\\\Mario\\\\Exercise_1\\\\cifar10\\\\train\\\\airplane\\\\0944.png airplane',\n",
       " 'C:\\\\Users\\\\m-gre\\\\Documents\\\\Advanced Machine Learning\\\\uni-bremen-aml-course\\\\Mario\\\\Exercise_1\\\\cifar10\\\\train\\\\airplane\\\\0945.png airplane',\n",
       " 'C:\\\\Users\\\\m-gre\\\\Documents\\\\Advanced Machine Learning\\\\uni-bremen-aml-course\\\\Mario\\\\Exercise_1\\\\cifar10\\\\train\\\\airplane\\\\0946.png airplane',\n",
       " 'C:\\\\Users\\\\m-gre\\\\Documents\\\\Advanced Machine Learning\\\\uni-bremen-aml-course\\\\Mario\\\\Exercise_1\\\\cifar10\\\\train\\\\airplane\\\\0947.png airplane',\n",
       " 'C:\\\\Users\\\\m-gre\\\\Documents\\\\Advanced Machine Learning\\\\uni-bremen-aml-course\\\\Mario\\\\Exercise_1\\\\cifar10\\\\train\\\\airplane\\\\0948.png airplane',\n",
       " 'C:\\\\Users\\\\m-gre\\\\Documents\\\\Advanced Machine Learning\\\\uni-bremen-aml-course\\\\Mario\\\\Exercise_1\\\\cifar10\\\\train\\\\airplane\\\\0949.png airplane',\n",
       " 'C:\\\\Users\\\\m-gre\\\\Documents\\\\Advanced Machine Learning\\\\uni-bremen-aml-course\\\\Mario\\\\Exercise_1\\\\cifar10\\\\train\\\\airplane\\\\0950.png airplane',\n",
       " 'C:\\\\Users\\\\m-gre\\\\Documents\\\\Advanced Machine Learning\\\\uni-bremen-aml-course\\\\Mario\\\\Exercise_1\\\\cifar10\\\\train\\\\airplane\\\\0951.png airplane',\n",
       " 'C:\\\\Users\\\\m-gre\\\\Documents\\\\Advanced Machine Learning\\\\uni-bremen-aml-course\\\\Mario\\\\Exercise_1\\\\cifar10\\\\train\\\\airplane\\\\0952.png airplane',\n",
       " 'C:\\\\Users\\\\m-gre\\\\Documents\\\\Advanced Machine Learning\\\\uni-bremen-aml-course\\\\Mario\\\\Exercise_1\\\\cifar10\\\\train\\\\airplane\\\\0953.png airplane',\n",
       " 'C:\\\\Users\\\\m-gre\\\\Documents\\\\Advanced Machine Learning\\\\uni-bremen-aml-course\\\\Mario\\\\Exercise_1\\\\cifar10\\\\train\\\\airplane\\\\0954.png airplane',\n",
       " 'C:\\\\Users\\\\m-gre\\\\Documents\\\\Advanced Machine Learning\\\\uni-bremen-aml-course\\\\Mario\\\\Exercise_1\\\\cifar10\\\\train\\\\airplane\\\\0955.png airplane',\n",
       " 'C:\\\\Users\\\\m-gre\\\\Documents\\\\Advanced Machine Learning\\\\uni-bremen-aml-course\\\\Mario\\\\Exercise_1\\\\cifar10\\\\train\\\\airplane\\\\0956.png airplane',\n",
       " 'C:\\\\Users\\\\m-gre\\\\Documents\\\\Advanced Machine Learning\\\\uni-bremen-aml-course\\\\Mario\\\\Exercise_1\\\\cifar10\\\\train\\\\airplane\\\\0957.png airplane',\n",
       " 'C:\\\\Users\\\\m-gre\\\\Documents\\\\Advanced Machine Learning\\\\uni-bremen-aml-course\\\\Mario\\\\Exercise_1\\\\cifar10\\\\train\\\\airplane\\\\0958.png airplane',\n",
       " 'C:\\\\Users\\\\m-gre\\\\Documents\\\\Advanced Machine Learning\\\\uni-bremen-aml-course\\\\Mario\\\\Exercise_1\\\\cifar10\\\\train\\\\airplane\\\\0959.png airplane',\n",
       " 'C:\\\\Users\\\\m-gre\\\\Documents\\\\Advanced Machine Learning\\\\uni-bremen-aml-course\\\\Mario\\\\Exercise_1\\\\cifar10\\\\train\\\\airplane\\\\0960.png airplane',\n",
       " 'C:\\\\Users\\\\m-gre\\\\Documents\\\\Advanced Machine Learning\\\\uni-bremen-aml-course\\\\Mario\\\\Exercise_1\\\\cifar10\\\\train\\\\airplane\\\\0961.png airplane',\n",
       " 'C:\\\\Users\\\\m-gre\\\\Documents\\\\Advanced Machine Learning\\\\uni-bremen-aml-course\\\\Mario\\\\Exercise_1\\\\cifar10\\\\train\\\\airplane\\\\0962.png airplane',\n",
       " 'C:\\\\Users\\\\m-gre\\\\Documents\\\\Advanced Machine Learning\\\\uni-bremen-aml-course\\\\Mario\\\\Exercise_1\\\\cifar10\\\\train\\\\airplane\\\\0963.png airplane',\n",
       " 'C:\\\\Users\\\\m-gre\\\\Documents\\\\Advanced Machine Learning\\\\uni-bremen-aml-course\\\\Mario\\\\Exercise_1\\\\cifar10\\\\train\\\\airplane\\\\0964.png airplane',\n",
       " 'C:\\\\Users\\\\m-gre\\\\Documents\\\\Advanced Machine Learning\\\\uni-bremen-aml-course\\\\Mario\\\\Exercise_1\\\\cifar10\\\\train\\\\airplane\\\\0965.png airplane',\n",
       " 'C:\\\\Users\\\\m-gre\\\\Documents\\\\Advanced Machine Learning\\\\uni-bremen-aml-course\\\\Mario\\\\Exercise_1\\\\cifar10\\\\train\\\\airplane\\\\0966.png airplane',\n",
       " 'C:\\\\Users\\\\m-gre\\\\Documents\\\\Advanced Machine Learning\\\\uni-bremen-aml-course\\\\Mario\\\\Exercise_1\\\\cifar10\\\\train\\\\airplane\\\\0967.png airplane',\n",
       " 'C:\\\\Users\\\\m-gre\\\\Documents\\\\Advanced Machine Learning\\\\uni-bremen-aml-course\\\\Mario\\\\Exercise_1\\\\cifar10\\\\train\\\\airplane\\\\0968.png airplane',\n",
       " 'C:\\\\Users\\\\m-gre\\\\Documents\\\\Advanced Machine Learning\\\\uni-bremen-aml-course\\\\Mario\\\\Exercise_1\\\\cifar10\\\\train\\\\airplane\\\\0969.png airplane',\n",
       " 'C:\\\\Users\\\\m-gre\\\\Documents\\\\Advanced Machine Learning\\\\uni-bremen-aml-course\\\\Mario\\\\Exercise_1\\\\cifar10\\\\train\\\\airplane\\\\0970.png airplane',\n",
       " 'C:\\\\Users\\\\m-gre\\\\Documents\\\\Advanced Machine Learning\\\\uni-bremen-aml-course\\\\Mario\\\\Exercise_1\\\\cifar10\\\\train\\\\airplane\\\\0971.png airplane',\n",
       " 'C:\\\\Users\\\\m-gre\\\\Documents\\\\Advanced Machine Learning\\\\uni-bremen-aml-course\\\\Mario\\\\Exercise_1\\\\cifar10\\\\train\\\\airplane\\\\0972.png airplane',\n",
       " 'C:\\\\Users\\\\m-gre\\\\Documents\\\\Advanced Machine Learning\\\\uni-bremen-aml-course\\\\Mario\\\\Exercise_1\\\\cifar10\\\\train\\\\airplane\\\\0973.png airplane',\n",
       " 'C:\\\\Users\\\\m-gre\\\\Documents\\\\Advanced Machine Learning\\\\uni-bremen-aml-course\\\\Mario\\\\Exercise_1\\\\cifar10\\\\train\\\\airplane\\\\0974.png airplane',\n",
       " 'C:\\\\Users\\\\m-gre\\\\Documents\\\\Advanced Machine Learning\\\\uni-bremen-aml-course\\\\Mario\\\\Exercise_1\\\\cifar10\\\\train\\\\airplane\\\\0975.png airplane',\n",
       " 'C:\\\\Users\\\\m-gre\\\\Documents\\\\Advanced Machine Learning\\\\uni-bremen-aml-course\\\\Mario\\\\Exercise_1\\\\cifar10\\\\train\\\\airplane\\\\0976.png airplane',\n",
       " 'C:\\\\Users\\\\m-gre\\\\Documents\\\\Advanced Machine Learning\\\\uni-bremen-aml-course\\\\Mario\\\\Exercise_1\\\\cifar10\\\\train\\\\airplane\\\\0977.png airplane',\n",
       " 'C:\\\\Users\\\\m-gre\\\\Documents\\\\Advanced Machine Learning\\\\uni-bremen-aml-course\\\\Mario\\\\Exercise_1\\\\cifar10\\\\train\\\\airplane\\\\0978.png airplane',\n",
       " 'C:\\\\Users\\\\m-gre\\\\Documents\\\\Advanced Machine Learning\\\\uni-bremen-aml-course\\\\Mario\\\\Exercise_1\\\\cifar10\\\\train\\\\airplane\\\\0979.png airplane',\n",
       " 'C:\\\\Users\\\\m-gre\\\\Documents\\\\Advanced Machine Learning\\\\uni-bremen-aml-course\\\\Mario\\\\Exercise_1\\\\cifar10\\\\train\\\\airplane\\\\0980.png airplane',\n",
       " 'C:\\\\Users\\\\m-gre\\\\Documents\\\\Advanced Machine Learning\\\\uni-bremen-aml-course\\\\Mario\\\\Exercise_1\\\\cifar10\\\\train\\\\airplane\\\\0981.png airplane',\n",
       " 'C:\\\\Users\\\\m-gre\\\\Documents\\\\Advanced Machine Learning\\\\uni-bremen-aml-course\\\\Mario\\\\Exercise_1\\\\cifar10\\\\train\\\\airplane\\\\0982.png airplane',\n",
       " 'C:\\\\Users\\\\m-gre\\\\Documents\\\\Advanced Machine Learning\\\\uni-bremen-aml-course\\\\Mario\\\\Exercise_1\\\\cifar10\\\\train\\\\airplane\\\\0983.png airplane',\n",
       " 'C:\\\\Users\\\\m-gre\\\\Documents\\\\Advanced Machine Learning\\\\uni-bremen-aml-course\\\\Mario\\\\Exercise_1\\\\cifar10\\\\train\\\\airplane\\\\0984.png airplane',\n",
       " 'C:\\\\Users\\\\m-gre\\\\Documents\\\\Advanced Machine Learning\\\\uni-bremen-aml-course\\\\Mario\\\\Exercise_1\\\\cifar10\\\\train\\\\airplane\\\\0985.png airplane',\n",
       " 'C:\\\\Users\\\\m-gre\\\\Documents\\\\Advanced Machine Learning\\\\uni-bremen-aml-course\\\\Mario\\\\Exercise_1\\\\cifar10\\\\train\\\\airplane\\\\0986.png airplane',\n",
       " 'C:\\\\Users\\\\m-gre\\\\Documents\\\\Advanced Machine Learning\\\\uni-bremen-aml-course\\\\Mario\\\\Exercise_1\\\\cifar10\\\\train\\\\airplane\\\\0987.png airplane',\n",
       " 'C:\\\\Users\\\\m-gre\\\\Documents\\\\Advanced Machine Learning\\\\uni-bremen-aml-course\\\\Mario\\\\Exercise_1\\\\cifar10\\\\train\\\\airplane\\\\0988.png airplane',\n",
       " 'C:\\\\Users\\\\m-gre\\\\Documents\\\\Advanced Machine Learning\\\\uni-bremen-aml-course\\\\Mario\\\\Exercise_1\\\\cifar10\\\\train\\\\airplane\\\\0989.png airplane',\n",
       " 'C:\\\\Users\\\\m-gre\\\\Documents\\\\Advanced Machine Learning\\\\uni-bremen-aml-course\\\\Mario\\\\Exercise_1\\\\cifar10\\\\train\\\\airplane\\\\0990.png airplane',\n",
       " 'C:\\\\Users\\\\m-gre\\\\Documents\\\\Advanced Machine Learning\\\\uni-bremen-aml-course\\\\Mario\\\\Exercise_1\\\\cifar10\\\\train\\\\airplane\\\\0991.png airplane',\n",
       " 'C:\\\\Users\\\\m-gre\\\\Documents\\\\Advanced Machine Learning\\\\uni-bremen-aml-course\\\\Mario\\\\Exercise_1\\\\cifar10\\\\train\\\\airplane\\\\0992.png airplane',\n",
       " 'C:\\\\Users\\\\m-gre\\\\Documents\\\\Advanced Machine Learning\\\\uni-bremen-aml-course\\\\Mario\\\\Exercise_1\\\\cifar10\\\\train\\\\airplane\\\\0993.png airplane',\n",
       " 'C:\\\\Users\\\\m-gre\\\\Documents\\\\Advanced Machine Learning\\\\uni-bremen-aml-course\\\\Mario\\\\Exercise_1\\\\cifar10\\\\train\\\\airplane\\\\0994.png airplane',\n",
       " 'C:\\\\Users\\\\m-gre\\\\Documents\\\\Advanced Machine Learning\\\\uni-bremen-aml-course\\\\Mario\\\\Exercise_1\\\\cifar10\\\\train\\\\airplane\\\\0995.png airplane',\n",
       " 'C:\\\\Users\\\\m-gre\\\\Documents\\\\Advanced Machine Learning\\\\uni-bremen-aml-course\\\\Mario\\\\Exercise_1\\\\cifar10\\\\train\\\\airplane\\\\0996.png airplane',\n",
       " 'C:\\\\Users\\\\m-gre\\\\Documents\\\\Advanced Machine Learning\\\\uni-bremen-aml-course\\\\Mario\\\\Exercise_1\\\\cifar10\\\\train\\\\airplane\\\\0997.png airplane',\n",
       " 'C:\\\\Users\\\\m-gre\\\\Documents\\\\Advanced Machine Learning\\\\uni-bremen-aml-course\\\\Mario\\\\Exercise_1\\\\cifar10\\\\train\\\\airplane\\\\0998.png airplane',\n",
       " 'C:\\\\Users\\\\m-gre\\\\Documents\\\\Advanced Machine Learning\\\\uni-bremen-aml-course\\\\Mario\\\\Exercise_1\\\\cifar10\\\\train\\\\airplane\\\\0999.png airplane',\n",
       " 'C:\\\\Users\\\\m-gre\\\\Documents\\\\Advanced Machine Learning\\\\uni-bremen-aml-course\\\\Mario\\\\Exercise_1\\\\cifar10\\\\train\\\\airplane\\\\1000.png airplane',\n",
       " ...]"
      ]
     },
     "execution_count": 3,
     "metadata": {},
     "output_type": "execute_result"
    }
   ],
   "source": [
    "# Create datalist from directory for each subset\n",
    "tr_file_list = []\n",
    "cv_file_list = []\n",
    "tt_file_list = []\n",
    "\n",
    "# Training\n",
    "for path, subdirs, files in os.walk(tr_dir):\n",
    "    tr_file_list.extend([os.path.join(path, s) + \" \" + os.path.basename(path) for s in files])\n",
    "        \n",
    "# Validation\n",
    "for path, subdirs, files in os.walk(cv_dir):\n",
    "    cv_file_list.extend([os.path.join(path, s) + \" \" + os.path.basename(path) for s in files])\n",
    "\n",
    "# Test\n",
    "for path, subdirs, files in os.walk(tt_dir):\n",
    "    tt_file_list.extend([os.path.join(path, s) + \" \" + os.path.basename(path) for s in files])\n",
    "\n",
    "tr_file_list"
   ]
  },
  {
   "cell_type": "code",
   "execution_count": 4,
   "id": "80e4c53d",
   "metadata": {},
   "outputs": [],
   "source": [
    "from torchvision import io\n",
    "\n",
    "# Define custom dataset\n",
    "class cifar10Dataset(Dataset):\n",
    "    def __init__(self, datalist): \n",
    "        # You need access to the data file lists. Provide the list as parameter somehow...\n",
    "        # Create the final splitted data and label lists\n",
    "        # ...complete code here\n",
    "        self.data, self.label = zip(*[item.rsplit(' ', 1) for item in datalist])\n",
    "        self._init_data()\n",
    "        \n",
    "    def __len__(self):                      # Get total number of dataset samples\n",
    "        # ...complete code here\n",
    "        return len(self.label)\n",
    "\n",
    "    def __getitem__(self, idx):             # Return an item\n",
    "        # ...complete code here\n",
    "        data = io.read_image(self.data[idx]).float() / 255.0 # Normalize Values to [0,1]\n",
    "        return data, self.label[idx]\n",
    "        \n",
    "    def _init_data(self):                   # Initialize data\n",
    "        # ...complete code here\n",
    "        # Read file\n",
    "        # This is also a good place to encode your string labels into integer labels for the model prediction (-> use a LabelEncoder)\n",
    "        self.label_encoder = LabelEncoder()\n",
    "        self.label_encoder.fit(self.label)\n",
    "        self.label = self.label_encoder.transform(self.label)"
   ]
  },
  {
   "cell_type": "code",
   "execution_count": 12,
   "id": "a53191a2",
   "metadata": {},
   "outputs": [],
   "source": [
    "# Define model (neural network)\n",
    "class BaselineModel(nn.Module):\n",
    "    def __init__(self):\n",
    "        # ...complete code here\n",
    "        super(BaselineModel, self).__init__()\n",
    "        self.model = nn.Sequential(\n",
    "            nn.LazyConv2d(32, kernel_size=3, padding=1),\n",
    "            nn.ReLU(),\n",
    "            nn.LazyConv2d(32, kernel_size=3, padding=1),\n",
    "            nn.ReLU(),\n",
    "            nn.MaxPool2d(2,2),\n",
    "\n",
    "            nn.LazyConv2d(64, kernel_size=3, padding=1),\n",
    "            nn.ReLU(),\n",
    "            nn.LazyConv2d(64, kernel_size=3, padding=1),\n",
    "            nn.ReLU(),\n",
    "            nn.MaxPool2d(2,2),\n",
    "\n",
    "            nn.LazyConv2d(128, kernel_size=3, padding=1),\n",
    "            nn.ReLU(),\n",
    "            nn.LazyConv2d(128, kernel_size=3, padding=1),\n",
    "            nn.ReLU(),\n",
    "            nn.MaxPool2d(2,2),\n",
    "\n",
    "            nn.Flatten(),\n",
    "            nn.LazyLinear(128),\n",
    "            nn.ReLU(),\n",
    "\n",
    "            nn.LazyLinear(10),\n",
    "        )\n",
    "\n",
    "    def forward(self, x):\n",
    "        # ...complete code\n",
    "        return self.model(x)"
   ]
  },
  {
   "cell_type": "code",
   "execution_count": 13,
   "id": "eeb9a1d3",
   "metadata": {},
   "outputs": [
    {
     "name": "stderr",
     "output_type": "stream",
     "text": [
      "c:\\Users\\m-gre\\miniconda3\\envs\\AML_Tut\\lib\\site-packages\\torch\\nn\\modules\\lazy.py:180: UserWarning: Lazy modules are a new feature under heavy development so changes to the API or functionality can happen at any moment.\n",
      "  warnings.warn('Lazy modules are a new feature under heavy development '\n"
     ]
    }
   ],
   "source": [
    "# Define loss\n",
    "criterion = nn.CrossEntropyLoss()  # Applies log_softmax and negative log likelihood loss\n",
    "\n",
    "# Create datasets\n",
    "training_dataset = cifar10Dataset(tr_file_list)\n",
    "validation_dataset = cifar10Dataset(cv_file_list)\n",
    "\n",
    "# PyTorch dataloader\n",
    "training_loader = DataLoader(training_dataset, batch_size=32, shuffle=True)\n",
    "validation_loader = DataLoader(validation_dataset, batch_size=32, shuffle=True)\n",
    "\n",
    "# Create model\n",
    "model = BaselineModel()\n",
    "\n",
    "# Define optimizer\n",
    "optimizer = optim.Adam(model.parameters(), lr=0.001) # You may change the optimizer, the learning rate, and other hyperparameters"
   ]
  },
  {
   "cell_type": "code",
   "execution_count": 14,
   "id": "cf28a50e",
   "metadata": {},
   "outputs": [],
   "source": [
    "# Define training step\n",
    "def training(model, data_loader, optimizer):\n",
    "    training_losses = []\n",
    "    training_correct = []\n",
    "    \n",
    "    model.train()                   # Important\n",
    "    for data in tqdm(data_loader):\n",
    "        inputs, labels = data\n",
    "        \n",
    "        # ...complete code here\n",
    "        # Zero the last gradients\n",
    "        optimizer.zero_grad()\n",
    "        # Do prediction\n",
    "        predictions = model(inputs)\n",
    "        \n",
    "        labels = labels.long()\n",
    "        \n",
    "        # ...complete code here\n",
    "        # Calculate loss\n",
    "        loss = criterion(predictions, labels)\n",
    "        # Do backpropagation and calculate gradients\n",
    "        loss.backward()\n",
    "        # Update weights\n",
    "        optimizer.step()\n",
    "        \n",
    "        training_losses.append(loss.item())\n",
    "        correct = (th.argmax(predictions, dim=1) == labels) # Check for correct classification\n",
    "        training_correct.append(sum(correct).item())\n",
    "    \n",
    "    training_accuracy = 100*(np.sum(training_correct)/len(data_loader.dataset))\n",
    "    return np.mean(training_losses), training_accuracy"
   ]
  },
  {
   "cell_type": "code",
   "execution_count": 15,
   "id": "204d5dcb",
   "metadata": {},
   "outputs": [],
   "source": [
    "# Define validation step\n",
    "def validation(model, data_loader, optimizer):\n",
    "    validation_losses = []\n",
    "    validation_correct = []\n",
    "    \n",
    "    model.eval()                        # Important to disable parts such as dropout, batch norm, etc.\n",
    "    with th.no_grad():                  # No gradients\n",
    "        for data in tqdm(data_loader):\n",
    "            inputs, labels = data\n",
    "            # ...complete code here\n",
    "            # Do prediction\n",
    "            predictions = model(inputs)\n",
    "            \n",
    "            labels = labels.long()\n",
    "            \n",
    "            # ...complete code here\n",
    "            # Calculate loss\n",
    "            loss = criterion(predictions, labels)\n",
    "            \n",
    "            validation_losses.append(loss.item())\n",
    "            correct = (th.argmax(predictions, dim=1) == labels) # Check for correct classification\n",
    "            validation_correct.append(sum(correct).item())\n",
    "    \n",
    "    validation_accuracy = 100*(np.sum(validation_correct)/len(data_loader.dataset))\n",
    "    return np.mean(validation_losses), validation_accuracy"
   ]
  },
  {
   "cell_type": "code",
   "execution_count": 16,
   "id": "e474b1c6",
   "metadata": {},
   "outputs": [
    {
     "name": "stdout",
     "output_type": "stream",
     "text": [
      "Train on 40000 samples.\n",
      "Validate on 10000 samples.\n",
      "###### Epoch 1 ######\n"
     ]
    },
    {
     "name": "stderr",
     "output_type": "stream",
     "text": [
      "100%|██████████| 1250/1250 [02:49<00:00,  7.39it/s]\n"
     ]
    },
    {
     "name": "stdout",
     "output_type": "stream",
     "text": [
      "Training loss: 1.67483. Training accuracy: 37.94 %.\n"
     ]
    },
    {
     "name": "stderr",
     "output_type": "stream",
     "text": [
      "100%|██████████| 313/313 [00:17<00:00, 18.07it/s]\n"
     ]
    },
    {
     "name": "stdout",
     "output_type": "stream",
     "text": [
      "Validation loss: 1.36039. Validation accuracy: 49.77 %.\n",
      "###### Epoch 2 ######\n"
     ]
    },
    {
     "name": "stderr",
     "output_type": "stream",
     "text": [
      "100%|██████████| 1250/1250 [02:58<00:00,  6.99it/s]\n"
     ]
    },
    {
     "name": "stdout",
     "output_type": "stream",
     "text": [
      "Training loss: 1.22009. Training accuracy: 55.97 %.\n"
     ]
    },
    {
     "name": "stderr",
     "output_type": "stream",
     "text": [
      "100%|██████████| 313/313 [00:16<00:00, 19.02it/s]\n"
     ]
    },
    {
     "name": "stdout",
     "output_type": "stream",
     "text": [
      "Validation loss: 1.06205. Validation accuracy: 62.29 %.\n",
      "###### Epoch 3 ######\n"
     ]
    },
    {
     "name": "stderr",
     "output_type": "stream",
     "text": [
      "100%|██████████| 1250/1250 [03:07<00:00,  6.65it/s]\n"
     ]
    },
    {
     "name": "stdout",
     "output_type": "stream",
     "text": [
      "Training loss: 0.98086. Training accuracy: 65.13 %.\n"
     ]
    },
    {
     "name": "stderr",
     "output_type": "stream",
     "text": [
      "100%|██████████| 313/313 [00:16<00:00, 18.43it/s]\n"
     ]
    },
    {
     "name": "stdout",
     "output_type": "stream",
     "text": [
      "Validation loss: 0.92027. Validation accuracy: 67.61 %.\n",
      "###### Epoch 4 ######\n"
     ]
    },
    {
     "name": "stderr",
     "output_type": "stream",
     "text": [
      "100%|██████████| 1250/1250 [03:14<00:00,  6.42it/s]\n"
     ]
    },
    {
     "name": "stdout",
     "output_type": "stream",
     "text": [
      "Training loss: 0.83334. Training accuracy: 70.58 %.\n"
     ]
    },
    {
     "name": "stderr",
     "output_type": "stream",
     "text": [
      "100%|██████████| 313/313 [00:16<00:00, 18.82it/s]\n"
     ]
    },
    {
     "name": "stdout",
     "output_type": "stream",
     "text": [
      "Validation loss: 0.85760. Validation accuracy: 70.46 %.\n",
      "###### Epoch 5 ######\n"
     ]
    },
    {
     "name": "stderr",
     "output_type": "stream",
     "text": [
      "100%|██████████| 1250/1250 [03:17<00:00,  6.33it/s]\n"
     ]
    },
    {
     "name": "stdout",
     "output_type": "stream",
     "text": [
      "Training loss: 0.72974. Training accuracy: 74.52 %.\n"
     ]
    },
    {
     "name": "stderr",
     "output_type": "stream",
     "text": [
      "100%|██████████| 313/313 [00:16<00:00, 19.18it/s]\n"
     ]
    },
    {
     "name": "stdout",
     "output_type": "stream",
     "text": [
      "Validation loss: 0.84503. Validation accuracy: 70.49 %.\n",
      "###### Epoch 6 ######\n"
     ]
    },
    {
     "name": "stderr",
     "output_type": "stream",
     "text": [
      "100%|██████████| 1250/1250 [03:17<00:00,  6.34it/s]\n"
     ]
    },
    {
     "name": "stdout",
     "output_type": "stream",
     "text": [
      "Training loss: 0.63691. Training accuracy: 77.64 %.\n"
     ]
    },
    {
     "name": "stderr",
     "output_type": "stream",
     "text": [
      "100%|██████████| 313/313 [00:11<00:00, 26.47it/s]\n"
     ]
    },
    {
     "name": "stdout",
     "output_type": "stream",
     "text": [
      "Validation loss: 0.79156. Validation accuracy: 72.45 %.\n",
      "###### Epoch 7 ######\n"
     ]
    },
    {
     "name": "stderr",
     "output_type": "stream",
     "text": [
      "100%|██████████| 1250/1250 [02:57<00:00,  7.05it/s]\n"
     ]
    },
    {
     "name": "stdout",
     "output_type": "stream",
     "text": [
      "Training loss: 0.56172. Training accuracy: 80.24 %.\n"
     ]
    },
    {
     "name": "stderr",
     "output_type": "stream",
     "text": [
      "100%|██████████| 313/313 [00:11<00:00, 26.31it/s]\n"
     ]
    },
    {
     "name": "stdout",
     "output_type": "stream",
     "text": [
      "Validation loss: 0.81499. Validation accuracy: 73.04 %.\n",
      "###### Epoch 8 ######\n"
     ]
    },
    {
     "name": "stderr",
     "output_type": "stream",
     "text": [
      "100%|██████████| 1250/1250 [02:09<00:00,  9.69it/s]\n"
     ]
    },
    {
     "name": "stdout",
     "output_type": "stream",
     "text": [
      "Training loss: 0.48512. Training accuracy: 82.63 %.\n"
     ]
    },
    {
     "name": "stderr",
     "output_type": "stream",
     "text": [
      "100%|██████████| 313/313 [00:11<00:00, 27.59it/s]\n"
     ]
    },
    {
     "name": "stdout",
     "output_type": "stream",
     "text": [
      "Validation loss: 0.82753. Validation accuracy: 72.88 %.\n",
      "###### Epoch 9 ######\n"
     ]
    },
    {
     "name": "stderr",
     "output_type": "stream",
     "text": [
      "100%|██████████| 1250/1250 [02:07<00:00,  9.77it/s]\n"
     ]
    },
    {
     "name": "stdout",
     "output_type": "stream",
     "text": [
      "Training loss: 0.42730. Training accuracy: 84.81 %.\n"
     ]
    },
    {
     "name": "stderr",
     "output_type": "stream",
     "text": [
      "100%|██████████| 313/313 [00:11<00:00, 27.28it/s]\n"
     ]
    },
    {
     "name": "stdout",
     "output_type": "stream",
     "text": [
      "Validation loss: 0.91162. Validation accuracy: 72.60 %.\n",
      "###### Epoch 10 ######\n"
     ]
    },
    {
     "name": "stderr",
     "output_type": "stream",
     "text": [
      "100%|██████████| 1250/1250 [02:07<00:00,  9.78it/s]\n"
     ]
    },
    {
     "name": "stdout",
     "output_type": "stream",
     "text": [
      "Training loss: 0.36612. Training accuracy: 86.86 %.\n"
     ]
    },
    {
     "name": "stderr",
     "output_type": "stream",
     "text": [
      "100%|██████████| 313/313 [00:11<00:00, 27.64it/s]\n"
     ]
    },
    {
     "name": "stdout",
     "output_type": "stream",
     "text": [
      "Validation loss: 0.96842. Validation accuracy: 73.43 %.\n",
      "###### Epoch 11 ######\n"
     ]
    },
    {
     "name": "stderr",
     "output_type": "stream",
     "text": [
      "100%|██████████| 1250/1250 [02:06<00:00,  9.85it/s]\n"
     ]
    },
    {
     "name": "stdout",
     "output_type": "stream",
     "text": [
      "Training loss: 0.31674. Training accuracy: 88.57 %.\n"
     ]
    },
    {
     "name": "stderr",
     "output_type": "stream",
     "text": [
      "100%|██████████| 313/313 [00:11<00:00, 27.75it/s]\n"
     ]
    },
    {
     "name": "stdout",
     "output_type": "stream",
     "text": [
      "Validation loss: 1.00847. Validation accuracy: 73.18 %.\n",
      "###### Epoch 12 ######\n"
     ]
    },
    {
     "name": "stderr",
     "output_type": "stream",
     "text": [
      "100%|██████████| 1250/1250 [02:07<00:00,  9.78it/s]\n"
     ]
    },
    {
     "name": "stdout",
     "output_type": "stream",
     "text": [
      "Training loss: 0.28582. Training accuracy: 89.73 %.\n"
     ]
    },
    {
     "name": "stderr",
     "output_type": "stream",
     "text": [
      "100%|██████████| 313/313 [00:11<00:00, 27.49it/s]\n"
     ]
    },
    {
     "name": "stdout",
     "output_type": "stream",
     "text": [
      "Validation loss: 1.01870. Validation accuracy: 74.13 %.\n",
      "###### Epoch 13 ######\n"
     ]
    },
    {
     "name": "stderr",
     "output_type": "stream",
     "text": [
      "100%|██████████| 1250/1250 [02:06<00:00,  9.88it/s]\n"
     ]
    },
    {
     "name": "stdout",
     "output_type": "stream",
     "text": [
      "Training loss: 0.25300. Training accuracy: 90.94 %.\n"
     ]
    },
    {
     "name": "stderr",
     "output_type": "stream",
     "text": [
      "100%|██████████| 313/313 [00:11<00:00, 27.71it/s]\n"
     ]
    },
    {
     "name": "stdout",
     "output_type": "stream",
     "text": [
      "Validation loss: 1.09402. Validation accuracy: 73.74 %.\n",
      "###### Epoch 14 ######\n"
     ]
    },
    {
     "name": "stderr",
     "output_type": "stream",
     "text": [
      "100%|██████████| 1250/1250 [02:08<00:00,  9.70it/s]\n"
     ]
    },
    {
     "name": "stdout",
     "output_type": "stream",
     "text": [
      "Training loss: 0.22629. Training accuracy: 91.88 %.\n"
     ]
    },
    {
     "name": "stderr",
     "output_type": "stream",
     "text": [
      "100%|██████████| 313/313 [00:11<00:00, 27.48it/s]\n"
     ]
    },
    {
     "name": "stdout",
     "output_type": "stream",
     "text": [
      "Validation loss: 1.18717. Validation accuracy: 72.34 %.\n",
      "###### Epoch 15 ######\n"
     ]
    },
    {
     "name": "stderr",
     "output_type": "stream",
     "text": [
      "100%|██████████| 1250/1250 [02:06<00:00,  9.85it/s]\n"
     ]
    },
    {
     "name": "stdout",
     "output_type": "stream",
     "text": [
      "Training loss: 0.20447. Training accuracy: 92.74 %.\n"
     ]
    },
    {
     "name": "stderr",
     "output_type": "stream",
     "text": [
      "100%|██████████| 313/313 [00:11<00:00, 27.48it/s]\n"
     ]
    },
    {
     "name": "stdout",
     "output_type": "stream",
     "text": [
      "Validation loss: 1.33892. Validation accuracy: 72.32 %.\n",
      "###### Epoch 16 ######\n"
     ]
    },
    {
     "name": "stderr",
     "output_type": "stream",
     "text": [
      "100%|██████████| 1250/1250 [02:06<00:00,  9.86it/s]\n"
     ]
    },
    {
     "name": "stdout",
     "output_type": "stream",
     "text": [
      "Training loss: 0.19205. Training accuracy: 93.24 %.\n"
     ]
    },
    {
     "name": "stderr",
     "output_type": "stream",
     "text": [
      "100%|██████████| 313/313 [00:11<00:00, 27.47it/s]\n"
     ]
    },
    {
     "name": "stdout",
     "output_type": "stream",
     "text": [
      "Validation loss: 1.28161. Validation accuracy: 74.18 %.\n",
      "###### Epoch 17 ######\n"
     ]
    },
    {
     "name": "stderr",
     "output_type": "stream",
     "text": [
      "100%|██████████| 1250/1250 [02:08<00:00,  9.76it/s]\n"
     ]
    },
    {
     "name": "stdout",
     "output_type": "stream",
     "text": [
      "Training loss: 0.18259. Training accuracy: 93.66 %.\n"
     ]
    },
    {
     "name": "stderr",
     "output_type": "stream",
     "text": [
      "100%|██████████| 313/313 [00:11<00:00, 27.38it/s]\n"
     ]
    },
    {
     "name": "stdout",
     "output_type": "stream",
     "text": [
      "Validation loss: 1.36604. Validation accuracy: 72.87 %.\n",
      "###### Epoch 18 ######\n"
     ]
    },
    {
     "name": "stderr",
     "output_type": "stream",
     "text": [
      "100%|██████████| 1250/1250 [02:07<00:00,  9.83it/s]\n"
     ]
    },
    {
     "name": "stdout",
     "output_type": "stream",
     "text": [
      "Training loss: 0.16385. Training accuracy: 94.18 %.\n"
     ]
    },
    {
     "name": "stderr",
     "output_type": "stream",
     "text": [
      "100%|██████████| 313/313 [00:11<00:00, 26.52it/s]\n"
     ]
    },
    {
     "name": "stdout",
     "output_type": "stream",
     "text": [
      "Validation loss: 1.41971. Validation accuracy: 72.50 %.\n",
      "###### Epoch 19 ######\n"
     ]
    },
    {
     "name": "stderr",
     "output_type": "stream",
     "text": [
      "100%|██████████| 1250/1250 [02:07<00:00,  9.82it/s]\n"
     ]
    },
    {
     "name": "stdout",
     "output_type": "stream",
     "text": [
      "Training loss: 0.16262. Training accuracy: 94.33 %.\n"
     ]
    },
    {
     "name": "stderr",
     "output_type": "stream",
     "text": [
      "100%|██████████| 313/313 [00:11<00:00, 28.18it/s]\n"
     ]
    },
    {
     "name": "stdout",
     "output_type": "stream",
     "text": [
      "Validation loss: 1.38956. Validation accuracy: 73.41 %.\n",
      "###### Epoch 20 ######\n"
     ]
    },
    {
     "name": "stderr",
     "output_type": "stream",
     "text": [
      "100%|██████████| 1250/1250 [02:06<00:00,  9.89it/s]\n"
     ]
    },
    {
     "name": "stdout",
     "output_type": "stream",
     "text": [
      "Training loss: 0.15599. Training accuracy: 94.51 %.\n"
     ]
    },
    {
     "name": "stderr",
     "output_type": "stream",
     "text": [
      "100%|██████████| 313/313 [00:11<00:00, 28.04it/s]\n"
     ]
    },
    {
     "name": "stdout",
     "output_type": "stream",
     "text": [
      "Validation loss: 1.44385. Validation accuracy: 73.34 %.\n",
      "###### Epoch 21 ######\n"
     ]
    },
    {
     "name": "stderr",
     "output_type": "stream",
     "text": [
      "100%|██████████| 1250/1250 [02:07<00:00,  9.80it/s]\n"
     ]
    },
    {
     "name": "stdout",
     "output_type": "stream",
     "text": [
      "Training loss: 0.14363. Training accuracy: 94.96 %.\n"
     ]
    },
    {
     "name": "stderr",
     "output_type": "stream",
     "text": [
      "100%|██████████| 313/313 [00:11<00:00, 27.66it/s]\n"
     ]
    },
    {
     "name": "stdout",
     "output_type": "stream",
     "text": [
      "Validation loss: 1.57871. Validation accuracy: 72.47 %.\n",
      "###### Epoch 22 ######\n"
     ]
    },
    {
     "name": "stderr",
     "output_type": "stream",
     "text": [
      "100%|██████████| 1250/1250 [02:07<00:00,  9.83it/s]\n"
     ]
    },
    {
     "name": "stdout",
     "output_type": "stream",
     "text": [
      "Training loss: 0.14668. Training accuracy: 94.92 %.\n"
     ]
    },
    {
     "name": "stderr",
     "output_type": "stream",
     "text": [
      "100%|██████████| 313/313 [00:11<00:00, 27.77it/s]\n"
     ]
    },
    {
     "name": "stdout",
     "output_type": "stream",
     "text": [
      "Validation loss: 1.48819. Validation accuracy: 73.19 %.\n",
      "###### Epoch 23 ######\n"
     ]
    },
    {
     "name": "stderr",
     "output_type": "stream",
     "text": [
      "100%|██████████| 1250/1250 [02:06<00:00,  9.88it/s]\n"
     ]
    },
    {
     "name": "stdout",
     "output_type": "stream",
     "text": [
      "Training loss: 0.14110. Training accuracy: 95.10 %.\n"
     ]
    },
    {
     "name": "stderr",
     "output_type": "stream",
     "text": [
      "100%|██████████| 313/313 [00:11<00:00, 27.80it/s]\n"
     ]
    },
    {
     "name": "stdout",
     "output_type": "stream",
     "text": [
      "Validation loss: 1.48742. Validation accuracy: 73.73 %.\n",
      "###### Epoch 24 ######\n"
     ]
    },
    {
     "name": "stderr",
     "output_type": "stream",
     "text": [
      "100%|██████████| 1250/1250 [02:08<00:00,  9.76it/s]\n"
     ]
    },
    {
     "name": "stdout",
     "output_type": "stream",
     "text": [
      "Training loss: 0.12756. Training accuracy: 95.54 %.\n"
     ]
    },
    {
     "name": "stderr",
     "output_type": "stream",
     "text": [
      "100%|██████████| 313/313 [00:11<00:00, 27.56it/s]\n"
     ]
    },
    {
     "name": "stdout",
     "output_type": "stream",
     "text": [
      "Validation loss: 1.66943. Validation accuracy: 73.07 %.\n",
      "###### Epoch 25 ######\n"
     ]
    },
    {
     "name": "stderr",
     "output_type": "stream",
     "text": [
      "100%|██████████| 1250/1250 [02:08<00:00,  9.76it/s]\n"
     ]
    },
    {
     "name": "stdout",
     "output_type": "stream",
     "text": [
      "Training loss: 0.13388. Training accuracy: 95.43 %.\n"
     ]
    },
    {
     "name": "stderr",
     "output_type": "stream",
     "text": [
      "100%|██████████| 313/313 [00:11<00:00, 26.79it/s]\n"
     ]
    },
    {
     "name": "stdout",
     "output_type": "stream",
     "text": [
      "Validation loss: 1.66778. Validation accuracy: 73.20 %.\n",
      "###### Epoch 26 ######\n"
     ]
    },
    {
     "name": "stderr",
     "output_type": "stream",
     "text": [
      "100%|██████████| 1250/1250 [02:07<00:00,  9.84it/s]\n"
     ]
    },
    {
     "name": "stdout",
     "output_type": "stream",
     "text": [
      "Training loss: 0.13317. Training accuracy: 95.64 %.\n"
     ]
    },
    {
     "name": "stderr",
     "output_type": "stream",
     "text": [
      "100%|██████████| 313/313 [00:11<00:00, 27.83it/s]\n"
     ]
    },
    {
     "name": "stdout",
     "output_type": "stream",
     "text": [
      "Validation loss: 1.57733. Validation accuracy: 72.97 %.\n",
      "###### Epoch 27 ######\n"
     ]
    },
    {
     "name": "stderr",
     "output_type": "stream",
     "text": [
      "100%|██████████| 1250/1250 [02:07<00:00,  9.77it/s]\n"
     ]
    },
    {
     "name": "stdout",
     "output_type": "stream",
     "text": [
      "Training loss: 0.12797. Training accuracy: 95.51 %.\n"
     ]
    },
    {
     "name": "stderr",
     "output_type": "stream",
     "text": [
      "100%|██████████| 313/313 [00:11<00:00, 27.47it/s]\n"
     ]
    },
    {
     "name": "stdout",
     "output_type": "stream",
     "text": [
      "Validation loss: 1.79987. Validation accuracy: 72.26 %.\n",
      "###### Epoch 28 ######\n"
     ]
    },
    {
     "name": "stderr",
     "output_type": "stream",
     "text": [
      "100%|██████████| 1250/1250 [02:06<00:00,  9.87it/s]\n"
     ]
    },
    {
     "name": "stdout",
     "output_type": "stream",
     "text": [
      "Training loss: 0.12437. Training accuracy: 95.82 %.\n"
     ]
    },
    {
     "name": "stderr",
     "output_type": "stream",
     "text": [
      "100%|██████████| 313/313 [00:11<00:00, 27.38it/s]\n"
     ]
    },
    {
     "name": "stdout",
     "output_type": "stream",
     "text": [
      "Validation loss: 1.80299. Validation accuracy: 72.43 %.\n",
      "###### Epoch 29 ######\n"
     ]
    },
    {
     "name": "stderr",
     "output_type": "stream",
     "text": [
      "100%|██████████| 1250/1250 [02:07<00:00,  9.80it/s]\n"
     ]
    },
    {
     "name": "stdout",
     "output_type": "stream",
     "text": [
      "Training loss: 0.13269. Training accuracy: 95.53 %.\n"
     ]
    },
    {
     "name": "stderr",
     "output_type": "stream",
     "text": [
      "100%|██████████| 313/313 [00:11<00:00, 27.69it/s]\n"
     ]
    },
    {
     "name": "stdout",
     "output_type": "stream",
     "text": [
      "Validation loss: 1.66502. Validation accuracy: 72.92 %.\n",
      "###### Epoch 30 ######\n"
     ]
    },
    {
     "name": "stderr",
     "output_type": "stream",
     "text": [
      "100%|██████████| 1250/1250 [02:06<00:00,  9.88it/s]\n"
     ]
    },
    {
     "name": "stdout",
     "output_type": "stream",
     "text": [
      "Training loss: 0.12011. Training accuracy: 96.03 %.\n"
     ]
    },
    {
     "name": "stderr",
     "output_type": "stream",
     "text": [
      "100%|██████████| 313/313 [00:11<00:00, 27.47it/s]"
     ]
    },
    {
     "name": "stdout",
     "output_type": "stream",
     "text": [
      "Validation loss: 1.73957. Validation accuracy: 73.65 %.\n"
     ]
    },
    {
     "name": "stderr",
     "output_type": "stream",
     "text": [
      "\n"
     ]
    }
   ],
   "source": [
    "# Run the training and the validation\n",
    "epochs = 30\n",
    "print(\"Train on %d samples.\" % len(training_loader.dataset))\n",
    "print(\"Validate on %d samples.\" % len(validation_loader.dataset))\n",
    "\n",
    "for e in range(epochs):\n",
    "    print(\"###### Epoch %d ######\" %(e+1))\n",
    "    tr_loss, tr_acc = training(model, training_loader, optimizer)\n",
    "    print(\"Training loss: %.5f. Training accuracy: %.2f %%.\" % (tr_loss, tr_acc))\n",
    "    val_loss, val_acc = validation(model, validation_loader, optimizer)\n",
    "    print(\"Validation loss: %.5f. Validation accuracy: %.2f %%.\" % (val_loss, val_acc))"
   ]
  },
  {
   "cell_type": "code",
   "execution_count": 17,
   "id": "bcda8806",
   "metadata": {},
   "outputs": [],
   "source": [
    "# Save model and optimizer state dictionaries\n",
    "th.save(model.state_dict(), os.path.join(root_dir, 'model_state_dict.pt'))   \n",
    "th.save(optimizer.state_dict(), os.path.join(root_dir, 'optimizer_state_dict.pt'))"
   ]
  },
  {
   "cell_type": "code",
   "execution_count": 18,
   "id": "ff92a560",
   "metadata": {},
   "outputs": [
    {
     "name": "stdout",
     "output_type": "stream",
     "text": [
      "Test on 10000 samples.\n"
     ]
    },
    {
     "name": "stderr",
     "output_type": "stream",
     "text": [
      "  0%|          | 0/313 [00:00<?, ?it/s]"
     ]
    },
    {
     "name": "stderr",
     "output_type": "stream",
     "text": [
      "100%|██████████| 313/313 [00:11<00:00, 27.68it/s]"
     ]
    },
    {
     "name": "stdout",
     "output_type": "stream",
     "text": [
      "Model 1\n",
      "Test loss: 1.79669. Test accuracy: 71.89 %.\n"
     ]
    },
    {
     "name": "stderr",
     "output_type": "stream",
     "text": [
      "\n"
     ]
    }
   ],
   "source": [
    "# Test model on test input\n",
    "model.eval()    # Important to disable parts such as dropout, batch norm, etc.\n",
    "test_dataset = cifar10Dataset(tt_file_list)\n",
    "test_loader = DataLoader(test_dataset, batch_size=32, shuffle=False)\n",
    "m1_losses = []\n",
    "m1_correct = []\n",
    "\n",
    "print(\"Test on %d samples.\" % len(test_loader.dataset))\n",
    "\n",
    "for data in tqdm(test_loader):\n",
    "        _input, label = data\n",
    "        label = label.long()\n",
    "\n",
    "        # ...complete code here\n",
    "        # Do prediction\n",
    "        pred1 = model(_input)\n",
    "        # Calculate loss\n",
    "        loss = criterion(pred1, label)\n",
    "        \n",
    "        m1_losses.append(loss.item())\n",
    "        correct = (th.argmax(pred1, dim=1) == label) # Check for correct classification\n",
    "        m1_correct.append(sum(correct).item())\n",
    "        \n",
    "        # Uncomment to print image and prediction\n",
    "        #print(\"Model 1 prediction: %d -> %s\" %(th.argmax(pred1, dim=1), test_dataset.label_encoder.inverse_transform(th.argmax(pred1, dim=1))))\n",
    "        #plt.imshow(cv2.cvtColor(th.squeeze(_input).numpy().reshape(32, 32, 3), cv2.COLOR_BGR2RGB))\n",
    "        #plt.show()\n",
    "\n",
    "# Calculate final scores\n",
    "m1_loss = np.mean(m1_losses)\n",
    "m1_acc = 100*(np.sum(m1_correct)/len(test_loader.dataset))\n",
    "\n",
    "print(\"Model 1\")\n",
    "print(\"Test loss: %.5f. Test accuracy: %.2f %%.\" % (m1_loss, m1_acc))\n"
   ]
  },
  {
   "cell_type": "markdown",
   "id": "fffe19d4",
   "metadata": {},
   "source": [
    "Solution could get accuracy of 96%"
   ]
  }
 ],
 "metadata": {
  "kernelspec": {
   "display_name": "Python 3 (ipykernel)",
   "language": "python",
   "name": "python3"
  },
  "language_info": {
   "codemirror_mode": {
    "name": "ipython",
    "version": 3
   },
   "file_extension": ".py",
   "mimetype": "text/x-python",
   "name": "python",
   "nbconvert_exporter": "python",
   "pygments_lexer": "ipython3",
   "version": "3.8.8"
  }
 },
 "nbformat": 4,
 "nbformat_minor": 5
}
